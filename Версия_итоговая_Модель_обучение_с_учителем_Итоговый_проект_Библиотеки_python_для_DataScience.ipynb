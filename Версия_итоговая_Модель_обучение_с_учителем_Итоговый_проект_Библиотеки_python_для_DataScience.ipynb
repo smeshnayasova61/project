{
  "cells": [
    {
      "cell_type": "markdown",
      "metadata": {
        "id": "view-in-github",
        "colab_type": "text"
      },
      "source": [
        "<a href=\"https://colab.research.google.com/github/smeshnayasova61/project/blob/main/%D0%92%D0%B5%D1%80%D1%81%D0%B8%D1%8F_%D0%B8%D1%82%D0%BE%D0%B3%D0%BE%D0%B2%D0%B0%D1%8F_%D0%9C%D0%BE%D0%B4%D0%B5%D0%BB%D1%8C_%D0%BE%D0%B1%D1%83%D1%87%D0%B5%D0%BD%D0%B8%D0%B5_%D1%81_%D1%83%D1%87%D0%B8%D1%82%D0%B5%D0%BB%D0%B5%D0%BC_%D0%98%D1%82%D0%BE%D0%B3%D0%BE%D0%B2%D1%8B%D0%B9_%D0%BF%D1%80%D0%BE%D0%B5%D0%BA%D1%82_%D0%91%D0%B8%D0%B1%D0%BB%D0%B8%D0%BE%D1%82%D0%B5%D0%BA%D0%B8_python_%D0%B4%D0%BB%D1%8F_DataScience.ipynb\" target=\"_parent\"><img src=\"https://colab.research.google.com/assets/colab-badge.svg\" alt=\"Open In Colab\"/></a>"
      ]
    },
    {
      "cell_type": "markdown",
      "id": "d063e2d4",
      "metadata": {
        "id": "d063e2d4"
      },
      "source": [
        "###### Data Science проект:\n",
        "1) Постановка задачи\n",
        "2) Получение данных\n",
        "3) Анализ данных\n",
        "4) Визуализация данных\n",
        "5) Предобработка данных\n",
        "6) Генерация новых признаков\n",
        "7) Построение модели\n",
        "8) Оценка качества\n",
        "9) Внедрение модели\n",
        "10) Мониторинг качества и улучшение модели"
      ]
    },
    {
      "cell_type": "markdown",
      "id": "6f4460d4",
      "metadata": {
        "id": "6f4460d4"
      },
      "source": [
        "1) Постановка задачи"
      ]
    },
    {
      "cell_type": "markdown",
      "id": "c4311a43",
      "metadata": {
        "id": "c4311a43"
      },
      "source": [
        "Описание задачи:\n",
        "Цель - предсказать стоимость дома\n",
        "Зачем?\n",
        "В банках, страховых компаниях:\n",
        "Узнать истинную стоимость имущества (залога)\n",
        "Принять решение о выдаче ипотеки/страховки\n",
        "Принять решение о % по ипотеке/страховке\n",
        "\n",
        "На площадках объявлений (Авито, Циан, ...):\n",
        "Найти недооцененные квартиры (~ выгодные предложения), показать их пользователям\n",
        "Показывать рыночную стоимость квартиры пользователям\n",
        "Для тех, кто продает квартиру, рекомендовать цену продажи\n",
        "\n",
        "Для инвесторов в недвижимость:\n",
        "Определять рыночную стоимость квартир\n",
        "Поиск недооцененных активов\n",
        "Торговля на рынке недвижимости"
      ]
    },
    {
      "cell_type": "markdown",
      "id": "73292f23",
      "metadata": {
        "id": "73292f23"
      },
      "source": [
        "2) Получение данных- загрузка датасетов"
      ]
    },
    {
      "cell_type": "markdown",
      "id": "a1934ed9",
      "metadata": {
        "id": "a1934ed9"
      },
      "source": [
        "Подключение библиотек и скриптов"
      ]
    },
    {
      "cell_type": "code",
      "execution_count": null,
      "id": "0b9f16fe",
      "metadata": {
        "id": "0b9f16fe"
      },
      "outputs": [],
      "source": [
        "import numpy as np\n",
        "import pandas as pd\n",
        "from matplotlib import pyplot as plt\n",
        "import seaborn as sns\n",
        "from sklearn.model_selection import train_test_split\n",
        "from sklearn.ensemble import RandomForestRegressor\n",
        "from sklearn.metrics import r2_score\n",
        "\n",
        "'''\n",
        "from sklearn.preprocessing import StandardScaler\n",
        "from sklearn.linear_model import LinearRegression\n",
        "from sklearn.linear_model import Lasso, Ridge\n",
        "'''\n",
        "\n",
        "import warnings\n",
        "warnings.filterwarnings('ignore')\n",
        "\n",
        "%matplotlib inline"
      ]
    },
    {
      "cell_type": "markdown",
      "id": "f149bb05",
      "metadata": {
        "id": "f149bb05"
      },
      "source": [
        "пути к директориям и файлам"
      ]
    },
    {
      "cell_type": "code",
      "execution_count": null,
      "id": "d19d8452",
      "metadata": {
        "id": "d19d8452"
      },
      "outputs": [],
      "source": [
        "DATASET_PATH = \"C:/Users/Lenovo/Documents/Geekbrains/3 Библиотеки Python для DS NP, Pandas, MPL/Проект/housing.csv\"\n",
        "TRAIN_DATASET_PATH = \"C:/Users/Lenovo/Documents/Geekbrains/3 Библиотеки Python для DS NP, Pandas, MPL/Проект/housing_train_ext (1).csv\"\n",
        "PREPARED_DATASET_PATH = \"C:/Users/Lenovo/Documents/Geekbrains/3 Библиотеки Python для DS NP, Pandas, MPL/Проект/housing_prepared.csv\""
      ]
    },
    {
      "cell_type": "raw",
      "id": "591f2331",
      "metadata": {
        "id": "591f2331"
      },
      "source": [
        "Описание датасета:\n",
        "Статистические данные о ряде домов в Калифорнии, основанные на переписи 1990 года.\n",
        "longitude - долгота\n",
        "latitude - широта\n",
        "housing_median_age - средний возраст дома\n",
        "total_rooms - общее количество комнат\n",
        "total_bedrooms - общее количество спален\n",
        "population - количество проживающих\n",
        "households - домохозяйства\n",
        "ocean_proximity - близость океана\n",
        "median_income - средний доход\n",
        "median_house_value - средняя стоимость дома"
      ]
    },
    {
      "cell_type": "markdown",
      "id": "dd1c7801",
      "metadata": {
        "id": "dd1c7801"
      },
      "source": [
        "Считываем данные. По строкам - наблюдения, по столбцам - признаки."
      ]
    },
    {
      "cell_type": "code",
      "execution_count": null,
      "id": "96951b3e",
      "metadata": {
        "id": "96951b3e",
        "outputId": "2d86e9bd-a7bf-48a5-ab41-66cfe7b5e59f"
      },
      "outputs": [
        {
          "data": {
            "text/html": [
              "<div>\n",
              "<style scoped>\n",
              "    .dataframe tbody tr th:only-of-type {\n",
              "        vertical-align: middle;\n",
              "    }\n",
              "\n",
              "    .dataframe tbody tr th {\n",
              "        vertical-align: top;\n",
              "    }\n",
              "\n",
              "    .dataframe thead th {\n",
              "        text-align: right;\n",
              "    }\n",
              "</style>\n",
              "<table border=\"1\" class=\"dataframe\">\n",
              "  <thead>\n",
              "    <tr style=\"text-align: right;\">\n",
              "      <th></th>\n",
              "      <th>longitude</th>\n",
              "      <th>latitude</th>\n",
              "      <th>housing_median_age</th>\n",
              "      <th>total_rooms</th>\n",
              "      <th>total_bedrooms</th>\n",
              "      <th>population</th>\n",
              "      <th>households</th>\n",
              "      <th>median_income</th>\n",
              "      <th>median_house_value</th>\n",
              "      <th>ocean_proximity</th>\n",
              "      <th>id</th>\n",
              "    </tr>\n",
              "  </thead>\n",
              "  <tbody>\n",
              "    <tr>\n",
              "      <th>0</th>\n",
              "      <td>-122.23</td>\n",
              "      <td>37.88</td>\n",
              "      <td>41.0</td>\n",
              "      <td>880.0</td>\n",
              "      <td>129.0</td>\n",
              "      <td>322.0</td>\n",
              "      <td>126.0</td>\n",
              "      <td>8.3252</td>\n",
              "      <td>452600.0</td>\n",
              "      <td>NEAR BAY</td>\n",
              "      <td>0</td>\n",
              "    </tr>\n",
              "    <tr>\n",
              "      <th>1</th>\n",
              "      <td>-122.22</td>\n",
              "      <td>37.86</td>\n",
              "      <td>21.0</td>\n",
              "      <td>7099.0</td>\n",
              "      <td>1106.0</td>\n",
              "      <td>2401.0</td>\n",
              "      <td>1138.0</td>\n",
              "      <td>8.3014</td>\n",
              "      <td>358500.0</td>\n",
              "      <td>NEAR BAY</td>\n",
              "      <td>1</td>\n",
              "    </tr>\n",
              "    <tr>\n",
              "      <th>2</th>\n",
              "      <td>-122.24</td>\n",
              "      <td>37.85</td>\n",
              "      <td>52.0</td>\n",
              "      <td>1467.0</td>\n",
              "      <td>190.0</td>\n",
              "      <td>496.0</td>\n",
              "      <td>177.0</td>\n",
              "      <td>7.2574</td>\n",
              "      <td>352100.0</td>\n",
              "      <td>NEAR BAY</td>\n",
              "      <td>2</td>\n",
              "    </tr>\n",
              "    <tr>\n",
              "      <th>3</th>\n",
              "      <td>-122.25</td>\n",
              "      <td>37.85</td>\n",
              "      <td>52.0</td>\n",
              "      <td>1274.0</td>\n",
              "      <td>235.0</td>\n",
              "      <td>558.0</td>\n",
              "      <td>219.0</td>\n",
              "      <td>5.6431</td>\n",
              "      <td>341300.0</td>\n",
              "      <td>NEAR BAY</td>\n",
              "      <td>3</td>\n",
              "    </tr>\n",
              "    <tr>\n",
              "      <th>4</th>\n",
              "      <td>-122.25</td>\n",
              "      <td>37.85</td>\n",
              "      <td>52.0</td>\n",
              "      <td>1627.0</td>\n",
              "      <td>280.0</td>\n",
              "      <td>565.0</td>\n",
              "      <td>259.0</td>\n",
              "      <td>3.8462</td>\n",
              "      <td>342200.0</td>\n",
              "      <td>NEAR BAY</td>\n",
              "      <td>4</td>\n",
              "    </tr>\n",
              "    <tr>\n",
              "      <th>...</th>\n",
              "      <td>...</td>\n",
              "      <td>...</td>\n",
              "      <td>...</td>\n",
              "      <td>...</td>\n",
              "      <td>...</td>\n",
              "      <td>...</td>\n",
              "      <td>...</td>\n",
              "      <td>...</td>\n",
              "      <td>...</td>\n",
              "      <td>...</td>\n",
              "      <td>...</td>\n",
              "    </tr>\n",
              "    <tr>\n",
              "      <th>20635</th>\n",
              "      <td>-121.09</td>\n",
              "      <td>39.48</td>\n",
              "      <td>25.0</td>\n",
              "      <td>1665.0</td>\n",
              "      <td>374.0</td>\n",
              "      <td>845.0</td>\n",
              "      <td>330.0</td>\n",
              "      <td>1.5603</td>\n",
              "      <td>78100.0</td>\n",
              "      <td>INLAND</td>\n",
              "      <td>20635</td>\n",
              "    </tr>\n",
              "    <tr>\n",
              "      <th>20636</th>\n",
              "      <td>-121.21</td>\n",
              "      <td>39.49</td>\n",
              "      <td>18.0</td>\n",
              "      <td>697.0</td>\n",
              "      <td>150.0</td>\n",
              "      <td>356.0</td>\n",
              "      <td>114.0</td>\n",
              "      <td>2.5568</td>\n",
              "      <td>77100.0</td>\n",
              "      <td>INLAND</td>\n",
              "      <td>20636</td>\n",
              "    </tr>\n",
              "    <tr>\n",
              "      <th>20637</th>\n",
              "      <td>-121.22</td>\n",
              "      <td>39.43</td>\n",
              "      <td>17.0</td>\n",
              "      <td>2254.0</td>\n",
              "      <td>485.0</td>\n",
              "      <td>NaN</td>\n",
              "      <td>433.0</td>\n",
              "      <td>1.7000</td>\n",
              "      <td>92300.0</td>\n",
              "      <td>INLAND</td>\n",
              "      <td>20637</td>\n",
              "    </tr>\n",
              "    <tr>\n",
              "      <th>20638</th>\n",
              "      <td>-121.32</td>\n",
              "      <td>39.43</td>\n",
              "      <td>18.0</td>\n",
              "      <td>1860.0</td>\n",
              "      <td>409.0</td>\n",
              "      <td>741.0</td>\n",
              "      <td>349.0</td>\n",
              "      <td>1.8672</td>\n",
              "      <td>84700.0</td>\n",
              "      <td>INLAND</td>\n",
              "      <td>20638</td>\n",
              "    </tr>\n",
              "    <tr>\n",
              "      <th>20639</th>\n",
              "      <td>-121.24</td>\n",
              "      <td>39.37</td>\n",
              "      <td>16.0</td>\n",
              "      <td>2785.0</td>\n",
              "      <td>616.0</td>\n",
              "      <td>1387.0</td>\n",
              "      <td>530.0</td>\n",
              "      <td>2.3886</td>\n",
              "      <td>89400.0</td>\n",
              "      <td>INLAND</td>\n",
              "      <td>20639</td>\n",
              "    </tr>\n",
              "  </tbody>\n",
              "</table>\n",
              "<p>20640 rows × 11 columns</p>\n",
              "</div>"
            ],
            "text/plain": [
              "       longitude  latitude  housing_median_age  total_rooms  total_bedrooms  \\\n",
              "0        -122.23     37.88                41.0        880.0           129.0   \n",
              "1        -122.22     37.86                21.0       7099.0          1106.0   \n",
              "2        -122.24     37.85                52.0       1467.0           190.0   \n",
              "3        -122.25     37.85                52.0       1274.0           235.0   \n",
              "4        -122.25     37.85                52.0       1627.0           280.0   \n",
              "...          ...       ...                 ...          ...             ...   \n",
              "20635    -121.09     39.48                25.0       1665.0           374.0   \n",
              "20636    -121.21     39.49                18.0        697.0           150.0   \n",
              "20637    -121.22     39.43                17.0       2254.0           485.0   \n",
              "20638    -121.32     39.43                18.0       1860.0           409.0   \n",
              "20639    -121.24     39.37                16.0       2785.0           616.0   \n",
              "\n",
              "       population  households  median_income  median_house_value  \\\n",
              "0           322.0       126.0         8.3252            452600.0   \n",
              "1          2401.0      1138.0         8.3014            358500.0   \n",
              "2           496.0       177.0         7.2574            352100.0   \n",
              "3           558.0       219.0         5.6431            341300.0   \n",
              "4           565.0       259.0         3.8462            342200.0   \n",
              "...           ...         ...            ...                 ...   \n",
              "20635       845.0       330.0         1.5603             78100.0   \n",
              "20636       356.0       114.0         2.5568             77100.0   \n",
              "20637         NaN       433.0         1.7000             92300.0   \n",
              "20638       741.0       349.0         1.8672             84700.0   \n",
              "20639      1387.0       530.0         2.3886             89400.0   \n",
              "\n",
              "      ocean_proximity     id  \n",
              "0            NEAR BAY      0  \n",
              "1            NEAR BAY      1  \n",
              "2            NEAR BAY      2  \n",
              "3            NEAR BAY      3  \n",
              "4            NEAR BAY      4  \n",
              "...               ...    ...  \n",
              "20635          INLAND  20635  \n",
              "20636          INLAND  20636  \n",
              "20637          INLAND  20637  \n",
              "20638          INLAND  20638  \n",
              "20639          INLAND  20639  \n",
              "\n",
              "[20640 rows x 11 columns]"
            ]
          },
          "execution_count": 358,
          "metadata": {},
          "output_type": "execute_result"
        }
      ],
      "source": [
        "df = pd.read_csv(DATASET_PATH, sep=',')\n",
        "df"
      ]
    },
    {
      "cell_type": "markdown",
      "id": "c88c307c",
      "metadata": {
        "id": "c88c307c"
      },
      "source": [
        "3) Анализ данных."
      ]
    },
    {
      "cell_type": "markdown",
      "id": "647437d4",
      "metadata": {
        "id": "647437d4"
      },
      "source": [
        "Мы видим, что это массив из 20640 строк и 11 столбцов. Здесь каждая строка отвечает какому-то объекту (в нашем случае - объекту недвижимости), а столбцы - каким-то его характеристикам."
      ]
    },
    {
      "cell_type": "code",
      "execution_count": null,
      "id": "1e08f9ff",
      "metadata": {
        "id": "1e08f9ff",
        "outputId": "3ab17ea5-f8af-45f4-d231-417864cdf2bf"
      },
      "outputs": [
        {
          "data": {
            "text/plain": [
              "(20640, 11)"
            ]
          },
          "execution_count": 359,
          "metadata": {},
          "output_type": "execute_result"
        }
      ],
      "source": [
        "df.shape"
      ]
    },
    {
      "cell_type": "code",
      "execution_count": null,
      "id": "82fa356b",
      "metadata": {
        "id": "82fa356b",
        "outputId": "d11e6f36-15c1-42aa-ab22-6820f7812234"
      },
      "outputs": [
        {
          "data": {
            "text/plain": [
              "Index(['longitude', 'latitude', 'housing_median_age', 'total_rooms',\n",
              "       'total_bedrooms', 'population', 'households', 'median_income',\n",
              "       'median_house_value', 'ocean_proximity', 'id'],\n",
              "      dtype='object')"
            ]
          },
          "execution_count": 360,
          "metadata": {},
          "output_type": "execute_result"
        }
      ],
      "source": [
        "columns = df.columns\n",
        "columns"
      ]
    },
    {
      "cell_type": "code",
      "execution_count": null,
      "id": "c1901786",
      "metadata": {
        "id": "c1901786",
        "outputId": "6f13f8ea-2e50-40a5-cb11-aac3b3594e6d"
      },
      "outputs": [
        {
          "data": {
            "text/plain": [
              "RangeIndex(start=0, stop=20640, step=1)"
            ]
          },
          "execution_count": 361,
          "metadata": {},
          "output_type": "execute_result"
        }
      ],
      "source": [
        "df.index"
      ]
    },
    {
      "cell_type": "code",
      "execution_count": null,
      "id": "e12cad4c",
      "metadata": {
        "id": "e12cad4c",
        "outputId": "aec7989b-71b6-471a-bcea-90828a85dbba"
      },
      "outputs": [
        {
          "data": {
            "text/plain": [
              "longitude             float64\n",
              "latitude              float64\n",
              "housing_median_age    float64\n",
              "total_rooms           float64\n",
              "total_bedrooms        float64\n",
              "population            float64\n",
              "households            float64\n",
              "median_income         float64\n",
              "median_house_value    float64\n",
              "ocean_proximity        object\n",
              "id                      int64\n",
              "dtype: object"
            ]
          },
          "execution_count": 362,
          "metadata": {},
          "output_type": "execute_result"
        }
      ],
      "source": [
        "df.dtypes"
      ]
    },
    {
      "cell_type": "code",
      "execution_count": null,
      "id": "04a4bea1",
      "metadata": {
        "id": "04a4bea1",
        "outputId": "eb942130-6819-453a-9ce2-0db9d2184f7f"
      },
      "outputs": [
        {
          "data": {
            "text/plain": [
              "longitude               0\n",
              "latitude                0\n",
              "housing_median_age    722\n",
              "total_rooms             0\n",
              "total_bedrooms        207\n",
              "population            599\n",
              "households              0\n",
              "median_income           0\n",
              "median_house_value      0\n",
              "ocean_proximity         0\n",
              "id                      0\n",
              "dtype: int64"
            ]
          },
          "execution_count": 363,
          "metadata": {},
          "output_type": "execute_result"
        }
      ],
      "source": [
        "#Обнаружение пропущенных значений\n",
        "df.isna().sum()"
      ]
    },
    {
      "cell_type": "code",
      "execution_count": null,
      "id": "0bbe1641",
      "metadata": {
        "scrolled": true,
        "id": "0bbe1641",
        "outputId": "5c2208b7-f023-4a99-f396-517eecef1a11"
      },
      "outputs": [
        {
          "data": {
            "text/html": [
              "<div>\n",
              "<style scoped>\n",
              "    .dataframe tbody tr th:only-of-type {\n",
              "        vertical-align: middle;\n",
              "    }\n",
              "\n",
              "    .dataframe tbody tr th {\n",
              "        vertical-align: top;\n",
              "    }\n",
              "\n",
              "    .dataframe thead th {\n",
              "        text-align: right;\n",
              "    }\n",
              "</style>\n",
              "<table border=\"1\" class=\"dataframe\">\n",
              "  <thead>\n",
              "    <tr style=\"text-align: right;\">\n",
              "      <th></th>\n",
              "      <th>longitude</th>\n",
              "      <th>latitude</th>\n",
              "      <th>housing_median_age</th>\n",
              "      <th>total_rooms</th>\n",
              "      <th>total_bedrooms</th>\n",
              "      <th>population</th>\n",
              "      <th>households</th>\n",
              "      <th>median_income</th>\n",
              "      <th>median_house_value</th>\n",
              "      <th>id</th>\n",
              "    </tr>\n",
              "  </thead>\n",
              "  <tbody>\n",
              "    <tr>\n",
              "      <th>count</th>\n",
              "      <td>20640.000000</td>\n",
              "      <td>20640.000000</td>\n",
              "      <td>19918.000000</td>\n",
              "      <td>20640.000000</td>\n",
              "      <td>20433.000000</td>\n",
              "      <td>20041.000000</td>\n",
              "      <td>20640.000000</td>\n",
              "      <td>20640.000000</td>\n",
              "      <td>20640.000000</td>\n",
              "      <td>20640.000000</td>\n",
              "    </tr>\n",
              "    <tr>\n",
              "      <th>mean</th>\n",
              "      <td>-119.471242</td>\n",
              "      <td>35.036934</td>\n",
              "      <td>28.653630</td>\n",
              "      <td>2635.763081</td>\n",
              "      <td>537.870553</td>\n",
              "      <td>1425.418243</td>\n",
              "      <td>499.539680</td>\n",
              "      <td>3.870671</td>\n",
              "      <td>206855.816909</td>\n",
              "      <td>10319.500000</td>\n",
              "    </tr>\n",
              "    <tr>\n",
              "      <th>std</th>\n",
              "      <td>5.041408</td>\n",
              "      <td>94.903955</td>\n",
              "      <td>12.576796</td>\n",
              "      <td>2181.615252</td>\n",
              "      <td>421.385070</td>\n",
              "      <td>1135.185798</td>\n",
              "      <td>382.329753</td>\n",
              "      <td>1.899822</td>\n",
              "      <td>115395.615874</td>\n",
              "      <td>5958.399114</td>\n",
              "    </tr>\n",
              "    <tr>\n",
              "      <th>min</th>\n",
              "      <td>-124.350000</td>\n",
              "      <td>-13534.030000</td>\n",
              "      <td>1.000000</td>\n",
              "      <td>2.000000</td>\n",
              "      <td>1.000000</td>\n",
              "      <td>3.000000</td>\n",
              "      <td>1.000000</td>\n",
              "      <td>0.499900</td>\n",
              "      <td>14999.000000</td>\n",
              "      <td>0.000000</td>\n",
              "    </tr>\n",
              "    <tr>\n",
              "      <th>25%</th>\n",
              "      <td>-121.800000</td>\n",
              "      <td>33.930000</td>\n",
              "      <td>18.000000</td>\n",
              "      <td>1447.750000</td>\n",
              "      <td>296.000000</td>\n",
              "      <td>786.000000</td>\n",
              "      <td>280.000000</td>\n",
              "      <td>2.563400</td>\n",
              "      <td>119600.000000</td>\n",
              "      <td>5159.750000</td>\n",
              "    </tr>\n",
              "    <tr>\n",
              "      <th>50%</th>\n",
              "      <td>-118.490000</td>\n",
              "      <td>34.260000</td>\n",
              "      <td>29.000000</td>\n",
              "      <td>2127.000000</td>\n",
              "      <td>435.000000</td>\n",
              "      <td>1165.000000</td>\n",
              "      <td>409.000000</td>\n",
              "      <td>3.534800</td>\n",
              "      <td>179700.000000</td>\n",
              "      <td>10319.500000</td>\n",
              "    </tr>\n",
              "    <tr>\n",
              "      <th>75%</th>\n",
              "      <td>-118.010000</td>\n",
              "      <td>37.710000</td>\n",
              "      <td>37.000000</td>\n",
              "      <td>3148.000000</td>\n",
              "      <td>647.000000</td>\n",
              "      <td>1726.000000</td>\n",
              "      <td>605.000000</td>\n",
              "      <td>4.743250</td>\n",
              "      <td>264725.000000</td>\n",
              "      <td>15479.250000</td>\n",
              "    </tr>\n",
              "    <tr>\n",
              "      <th>max</th>\n",
              "      <td>122.030000</td>\n",
              "      <td>1327.130000</td>\n",
              "      <td>52.000000</td>\n",
              "      <td>39320.000000</td>\n",
              "      <td>6445.000000</td>\n",
              "      <td>35682.000000</td>\n",
              "      <td>6082.000000</td>\n",
              "      <td>15.000100</td>\n",
              "      <td>500001.000000</td>\n",
              "      <td>20639.000000</td>\n",
              "    </tr>\n",
              "  </tbody>\n",
              "</table>\n",
              "</div>"
            ],
            "text/plain": [
              "          longitude      latitude  housing_median_age   total_rooms  \\\n",
              "count  20640.000000  20640.000000        19918.000000  20640.000000   \n",
              "mean    -119.471242     35.036934           28.653630   2635.763081   \n",
              "std        5.041408     94.903955           12.576796   2181.615252   \n",
              "min     -124.350000 -13534.030000            1.000000      2.000000   \n",
              "25%     -121.800000     33.930000           18.000000   1447.750000   \n",
              "50%     -118.490000     34.260000           29.000000   2127.000000   \n",
              "75%     -118.010000     37.710000           37.000000   3148.000000   \n",
              "max      122.030000   1327.130000           52.000000  39320.000000   \n",
              "\n",
              "       total_bedrooms    population    households  median_income  \\\n",
              "count    20433.000000  20041.000000  20640.000000   20640.000000   \n",
              "mean       537.870553   1425.418243    499.539680       3.870671   \n",
              "std        421.385070   1135.185798    382.329753       1.899822   \n",
              "min          1.000000      3.000000      1.000000       0.499900   \n",
              "25%        296.000000    786.000000    280.000000       2.563400   \n",
              "50%        435.000000   1165.000000    409.000000       3.534800   \n",
              "75%        647.000000   1726.000000    605.000000       4.743250   \n",
              "max       6445.000000  35682.000000   6082.000000      15.000100   \n",
              "\n",
              "       median_house_value            id  \n",
              "count        20640.000000  20640.000000  \n",
              "mean        206855.816909  10319.500000  \n",
              "std         115395.615874   5958.399114  \n",
              "min          14999.000000      0.000000  \n",
              "25%         119600.000000   5159.750000  \n",
              "50%         179700.000000  10319.500000  \n",
              "75%         264725.000000  15479.250000  \n",
              "max         500001.000000  20639.000000  "
            ]
          },
          "execution_count": 364,
          "metadata": {},
          "output_type": "execute_result"
        }
      ],
      "source": [
        "df.describe()"
      ]
    },
    {
      "cell_type": "code",
      "execution_count": null,
      "id": "9edbb93e",
      "metadata": {
        "id": "9edbb93e",
        "outputId": "3fb20de9-ad29-4094-bde2-5961726ce4f0"
      },
      "outputs": [
        {
          "name": "stdout",
          "output_type": "stream",
          "text": [
            "<class 'pandas.core.frame.DataFrame'>\n",
            "RangeIndex: 20640 entries, 0 to 20639\n",
            "Data columns (total 11 columns):\n",
            " #   Column              Non-Null Count  Dtype  \n",
            "---  ------              --------------  -----  \n",
            " 0   longitude           20640 non-null  float64\n",
            " 1   latitude            20640 non-null  float64\n",
            " 2   housing_median_age  19918 non-null  float64\n",
            " 3   total_rooms         20640 non-null  float64\n",
            " 4   total_bedrooms      20433 non-null  float64\n",
            " 5   population          20041 non-null  float64\n",
            " 6   households          20640 non-null  float64\n",
            " 7   median_income       20640 non-null  float64\n",
            " 8   median_house_value  20640 non-null  float64\n",
            " 9   ocean_proximity     20640 non-null  object \n",
            " 10  id                  20640 non-null  int64  \n",
            "dtypes: float64(9), int64(1), object(1)\n",
            "memory usage: 1.7+ MB\n"
          ]
        }
      ],
      "source": [
        "df.info()"
      ]
    },
    {
      "cell_type": "code",
      "execution_count": null,
      "id": "a9f31839",
      "metadata": {
        "id": "a9f31839",
        "outputId": "89f750bd-4e2b-40c7-e91d-89001068cb86"
      },
      "outputs": [
        {
          "data": {
            "text/plain": [
              "['longitude',\n",
              " 'latitude',\n",
              " 'housing_median_age',\n",
              " 'total_rooms',\n",
              " 'total_bedrooms',\n",
              " 'population',\n",
              " 'households',\n",
              " 'median_income',\n",
              " 'median_house_value',\n",
              " 'id']"
            ]
          },
          "execution_count": 366,
          "metadata": {},
          "output_type": "execute_result"
        }
      ],
      "source": [
        "#Вывод числовых переменных\n",
        "num_feat = list(df.select_dtypes(exclude='object').columns)\n",
        "num_feat"
      ]
    },
    {
      "cell_type": "code",
      "execution_count": null,
      "id": "09f488b4",
      "metadata": {
        "id": "09f488b4",
        "outputId": "5d097eed-25d2-4035-caf5-8f5d2d7e68d6"
      },
      "outputs": [
        {
          "data": {
            "text/plain": [
              "['ocean_proximity']"
            ]
          },
          "execution_count": 367,
          "metadata": {},
          "output_type": "execute_result"
        }
      ],
      "source": [
        "#Вывод строковых переменных\n",
        "obj_feat = list(df.select_dtypes(include='object').columns)\n",
        "obj_feat"
      ]
    },
    {
      "cell_type": "code",
      "execution_count": null,
      "id": "0e8921cb",
      "metadata": {
        "id": "0e8921cb",
        "outputId": "afd7d146-cd56-41c9-9174-6bc9be7150d5"
      },
      "outputs": [
        {
          "data": {
            "text/plain": [
              "0        452600.0\n",
              "1        358500.0\n",
              "2        352100.0\n",
              "3        341300.0\n",
              "4        342200.0\n",
              "           ...   \n",
              "20635     78100.0\n",
              "20636     77100.0\n",
              "20637     92300.0\n",
              "20638     84700.0\n",
              "20639     89400.0\n",
              "Name: median_house_value, Length: 20640, dtype: float64"
            ]
          },
          "execution_count": 368,
          "metadata": {},
          "output_type": "execute_result"
        }
      ],
      "source": [
        "#Выбор целевой переменной для предсказания стоимости дома\n",
        "target = df['median_house_value']\n",
        "target"
      ]
    },
    {
      "cell_type": "markdown",
      "id": "e85f5d58",
      "metadata": {
        "id": "e85f5d58"
      },
      "source": [
        "4)Визуализация данных."
      ]
    },
    {
      "cell_type": "code",
      "execution_count": null,
      "id": "eb76c7db",
      "metadata": {
        "id": "eb76c7db",
        "outputId": "7b07a9b8-f833-41d7-bdfc-0eaf31e72015"
      },
      "outputs": [
        {
          "data": {
            "image/png": "[encoded data removed]",
            "text/plain": [
              "<Figure size 1152x576 with 1 Axes>"
            ]
          },
          "metadata": {
            "needs_background": "light"
          },
          "output_type": "display_data"
        }
      ],
      "source": [
        "plt.figure(figsize = (16,8))\n",
        "\n",
        "df['median_house_value'].hist(bins=30)\n",
        "plt.ylabel('Count')\n",
        "plt.xlabel('median_house_value')\n",
        "\n",
        "plt.title('Target distribution')\n",
        "plt.show()"
      ]
    },
    {
      "cell_type": "markdown",
      "id": "1238a044",
      "metadata": {
        "id": "1238a044"
      },
      "source": [
        "Статистика"
      ]
    },
    {
      "cell_type": "markdown",
      "id": "bfead631",
      "metadata": {
        "id": "bfead631"
      },
      "source": [
        "Среднее арифметическое"
      ]
    },
    {
      "cell_type": "code",
      "execution_count": null,
      "id": "bdd54701",
      "metadata": {
        "id": "bdd54701"
      },
      "outputs": [],
      "source": [
        "median_house_value=df['median_house_value']"
      ]
    },
    {
      "cell_type": "code",
      "execution_count": null,
      "id": "809f53c6",
      "metadata": {
        "id": "809f53c6",
        "outputId": "51f7bc92-4446-49b8-f527-47a60db50cd6"
      },
      "outputs": [
        {
          "data": {
            "text/plain": [
              "206855.81690891474"
            ]
          },
          "execution_count": 371,
          "metadata": {},
          "output_type": "execute_result"
        }
      ],
      "source": [
        "mean_mhv = np.mean(median_house_value)\n",
        "mean_mhv"
      ]
    },
    {
      "cell_type": "markdown",
      "id": "53350bb6",
      "metadata": {
        "id": "53350bb6"
      },
      "source": [
        "Дисперсия - это показатель вариации, который представляет собой средний квадрат отклонений от математического ожидания (среднее арифметическое). Она выражает разброс чисел относительно среднего значения."
      ]
    },
    {
      "cell_type": "code",
      "execution_count": null,
      "id": "953a1c04",
      "metadata": {
        "id": "953a1c04",
        "outputId": "dfc6e60f-2f2e-47ab-ec1d-1741e8c5f635"
      },
      "outputs": [
        {
          "data": {
            "text/plain": [
              "13315503000.817923"
            ]
          },
          "execution_count": 372,
          "metadata": {},
          "output_type": "execute_result"
        }
      ],
      "source": [
        "variance_mhv = np.mean((median_house_value - mean_mhv) ** 2)\n",
        "variance_mhv"
      ]
    },
    {
      "cell_type": "markdown",
      "id": "4f0112dd",
      "metadata": {
        "id": "4f0112dd"
      },
      "source": [
        "Стандартное отклонение (среднеквадратичное отклонение) - это величина, характеризующая разброс данных относительно среднего значения."
      ]
    },
    {
      "cell_type": "markdown",
      "id": "c3a15a5e",
      "metadata": {
        "id": "c3a15a5e"
      },
      "source": []
    },
    {
      "cell_type": "code",
      "execution_count": null,
      "id": "5d422085",
      "metadata": {
        "id": "5d422085",
        "outputId": "deabc0f6-a1b9-40f3-a21c-a00a1498cfa9"
      },
      "outputs": [
        {
          "data": {
            "text/plain": [
              "115392.82040412186"
            ]
          },
          "execution_count": 373,
          "metadata": {},
          "output_type": "execute_result"
        }
      ],
      "source": [
        "std_mhv = np.sqrt(variance_mhv)\n",
        "#std_np = np.std(median_house_value)\n",
        "std_mhv"
      ]
    },
    {
      "cell_type": "markdown",
      "id": "e7ddee07",
      "metadata": {
        "id": "e7ddee07"
      },
      "source": [
        "Медиана - значение, которая делит его на две равные части или же проще говоря, это середина отсортированной выборки."
      ]
    },
    {
      "cell_type": "code",
      "execution_count": null,
      "id": "9785a7c4",
      "metadata": {
        "id": "9785a7c4",
        "outputId": "9f40111f-d509-44c7-9412-3ad854c9db99"
      },
      "outputs": [
        {
          "data": {
            "text/plain": [
              "179700.0"
            ]
          },
          "execution_count": 374,
          "metadata": {},
          "output_type": "execute_result"
        }
      ],
      "source": [
        "median_mhv=df['median_house_value'].median()\n",
        "#median=np.median(median_house_value)\n",
        "median_mhv"
      ]
    },
    {
      "cell_type": "markdown",
      "id": "280fb83c",
      "metadata": {
        "id": "280fb83c"
      },
      "source": [
        "Мода - это объект с максимальной частотой или проще говоря, самый популярный (частовстречаемый) объект в выборке."
      ]
    },
    {
      "cell_type": "code",
      "execution_count": null,
      "id": "057f07c6",
      "metadata": {
        "id": "057f07c6",
        "outputId": "24e722af-b52c-4add-acd4-08f2da5b2bc9"
      },
      "outputs": [
        {
          "data": {
            "text/plain": [
              "0    500001.0\n",
              "Name: median_house_value, dtype: float64"
            ]
          },
          "execution_count": 375,
          "metadata": {},
          "output_type": "execute_result"
        }
      ],
      "source": [
        "mode_mhv=df['median_house_value'].mode()\n",
        "mode_mhv"
      ]
    },
    {
      "cell_type": "markdown",
      "id": "42111dd0",
      "metadata": {
        "id": "42111dd0"
      },
      "source": [
        "5) Предобработка данных: пропуски, выбросы, обработка категорий"
      ]
    },
    {
      "cell_type": "markdown",
      "id": "9493f5cc",
      "metadata": {
        "id": "9493f5cc"
      },
      "source": [
        "обработка пропусков"
      ]
    },
    {
      "cell_type": "code",
      "execution_count": null,
      "id": "1a3b7623",
      "metadata": {
        "id": "1a3b7623",
        "outputId": "69464edc-0de0-4178-9af9-4784c8399587"
      },
      "outputs": [
        {
          "data": {
            "text/plain": [
              "longitude               0\n",
              "latitude                0\n",
              "housing_median_age    722\n",
              "total_rooms             0\n",
              "total_bedrooms        207\n",
              "population            599\n",
              "households              0\n",
              "median_income           0\n",
              "median_house_value      0\n",
              "ocean_proximity         0\n",
              "id                      0\n",
              "dtype: int64"
            ]
          },
          "execution_count": 376,
          "metadata": {},
          "output_type": "execute_result"
        }
      ],
      "source": [
        "#проверка на суммарное наличие пропусков в датафрейме\n",
        "df.isna().sum()"
      ]
    },
    {
      "cell_type": "markdown",
      "id": "5176e26e",
      "metadata": {
        "id": "5176e26e"
      },
      "source": [
        "housing_median_age"
      ]
    },
    {
      "cell_type": "code",
      "execution_count": null,
      "id": "7f037557",
      "metadata": {
        "id": "7f037557",
        "outputId": "f1fc16e5-02bd-4c21-e2bd-14def6e03c57"
      },
      "outputs": [
        {
          "data": {
            "text/plain": [
              "29.0"
            ]
          },
          "execution_count": 377,
          "metadata": {},
          "output_type": "execute_result"
        }
      ],
      "source": [
        "#найдем медиану hma\n",
        "median_hma = df['housing_median_age'].median()\n",
        "median_hma"
      ]
    },
    {
      "cell_type": "code",
      "execution_count": null,
      "id": "be59092b",
      "metadata": {
        "id": "be59092b",
        "outputId": "a2e7dbbc-0e2c-4f64-bdca-c0982ab26e42"
      },
      "outputs": [
        {
          "data": {
            "text/plain": [
              "0"
            ]
          },
          "execution_count": 378,
          "metadata": {},
          "output_type": "execute_result"
        }
      ],
      "source": [
        "#замена пропусков на медиану_hma\n",
        "df['housing_median_age'].fillna(median_hma).isna().sum()"
      ]
    },
    {
      "cell_type": "code",
      "execution_count": null,
      "id": "4fe3b226",
      "metadata": {
        "id": "4fe3b226",
        "outputId": "752628c3-40e5-449c-c2d2-554dde9b9cc8"
      },
      "outputs": [
        {
          "data": {
            "text/plain": [
              "722"
            ]
          },
          "execution_count": 379,
          "metadata": {},
          "output_type": "execute_result"
        }
      ],
      "source": [
        "#проверка на отсутствие пропусков в hma\n",
        "df['housing_median_age'].isna().sum()"
      ]
    },
    {
      "cell_type": "code",
      "execution_count": null,
      "id": "7c8307ce",
      "metadata": {
        "id": "7c8307ce"
      },
      "outputs": [],
      "source": [
        "#замена в датафрейме столбца hma на столбец без пропусков\n",
        "df['housing_median_age'] = df['housing_median_age'].fillna(median_hma)"
      ]
    },
    {
      "cell_type": "code",
      "execution_count": null,
      "id": "2e01004c",
      "metadata": {
        "id": "2e01004c",
        "outputId": "0422dbaf-282d-441b-8d1c-1838765fe459"
      },
      "outputs": [
        {
          "data": {
            "text/plain": [
              "0"
            ]
          },
          "execution_count": 381,
          "metadata": {},
          "output_type": "execute_result"
        }
      ],
      "source": [
        "# проверка на отсутствие пропусков в датафрейме\n",
        "df['housing_median_age'].isna().sum()"
      ]
    },
    {
      "cell_type": "markdown",
      "id": "727183b8",
      "metadata": {
        "id": "727183b8"
      },
      "source": [
        "total_bedrooms"
      ]
    },
    {
      "cell_type": "code",
      "execution_count": null,
      "id": "f92538be",
      "metadata": {
        "id": "f92538be",
        "outputId": "2a27f4c0-100c-49e1-d7b1-1c85fb98b35a"
      },
      "outputs": [
        {
          "data": {
            "text/plain": [
              "435.0"
            ]
          },
          "execution_count": 382,
          "metadata": {},
          "output_type": "execute_result"
        }
      ],
      "source": [
        "# найдем медиану tb\n",
        "median_tb = df['total_bedrooms'].median()\n",
        "median_tb"
      ]
    },
    {
      "cell_type": "code",
      "execution_count": null,
      "id": "1b9a8313",
      "metadata": {
        "id": "1b9a8313"
      },
      "outputs": [],
      "source": [
        "# заполним пропуски в tb на медиану  и изменим значения во всем датафрейме\n",
        "df['total_bedrooms'].fillna(median_tb, inplace=True)"
      ]
    },
    {
      "cell_type": "code",
      "execution_count": null,
      "id": "a47655be",
      "metadata": {
        "id": "a47655be",
        "outputId": "3e378a48-fe7d-47e7-e0a9-c9c15afc2f88"
      },
      "outputs": [
        {
          "data": {
            "text/plain": [
              "0"
            ]
          },
          "execution_count": 384,
          "metadata": {},
          "output_type": "execute_result"
        }
      ],
      "source": [
        "# проверка на отсутствие пропусков в датафрейме\n",
        "df['total_bedrooms'].isna().sum()"
      ]
    },
    {
      "cell_type": "markdown",
      "id": "4933ba77",
      "metadata": {
        "id": "4933ba77"
      },
      "source": [
        "population"
      ]
    },
    {
      "cell_type": "code",
      "execution_count": null,
      "id": "37b6dcbb",
      "metadata": {
        "id": "37b6dcbb",
        "outputId": "04142657-82f5-41f3-c395-6cbba9ff16b3"
      },
      "outputs": [
        {
          "data": {
            "text/plain": [
              "1165.0"
            ]
          },
          "execution_count": 385,
          "metadata": {},
          "output_type": "execute_result"
        }
      ],
      "source": [
        "#Найдем медиану population\n",
        "median_pop = df['population'].median()\n",
        "median_pop"
      ]
    },
    {
      "cell_type": "code",
      "execution_count": null,
      "id": "d15348fb",
      "metadata": {
        "id": "d15348fb"
      },
      "outputs": [],
      "source": [
        "# заполним пропуски в pop на медиану  и изменим значения во всем датафрейме\n",
        "df['population'].fillna(median_pop, inplace=True)"
      ]
    },
    {
      "cell_type": "code",
      "execution_count": null,
      "id": "60532302",
      "metadata": {
        "id": "60532302",
        "outputId": "73236bec-3461-4b03-cb5d-6b2c09843dbd"
      },
      "outputs": [
        {
          "data": {
            "text/plain": [
              "0"
            ]
          },
          "execution_count": 387,
          "metadata": {},
          "output_type": "execute_result"
        }
      ],
      "source": [
        "df['population'].isna().sum()"
      ]
    },
    {
      "cell_type": "code",
      "execution_count": null,
      "id": "8a8056c3",
      "metadata": {
        "id": "8a8056c3",
        "outputId": "dc5f1727-a015-4a9a-daa5-c5ff5552d58e"
      },
      "outputs": [
        {
          "data": {
            "text/plain": [
              "longitude             0\n",
              "latitude              0\n",
              "housing_median_age    0\n",
              "total_rooms           0\n",
              "total_bedrooms        0\n",
              "population            0\n",
              "households            0\n",
              "median_income         0\n",
              "median_house_value    0\n",
              "ocean_proximity       0\n",
              "id                    0\n",
              "dtype: int64"
            ]
          },
          "execution_count": 388,
          "metadata": {},
          "output_type": "execute_result"
        }
      ],
      "source": [
        "#проверим весь датафрейм на пропуски\n",
        "df.isna().sum()"
      ]
    },
    {
      "cell_type": "code",
      "execution_count": null,
      "id": "6a9135f3",
      "metadata": {
        "id": "6a9135f3",
        "outputId": "bcb58451-1b3d-4ac9-ed5c-bd6c2f094d25"
      },
      "outputs": [
        {
          "name": "stdout",
          "output_type": "stream",
          "text": [
            "<class 'pandas.core.frame.DataFrame'>\n",
            "RangeIndex: 20640 entries, 0 to 20639\n",
            "Data columns (total 11 columns):\n",
            " #   Column              Non-Null Count  Dtype  \n",
            "---  ------              --------------  -----  \n",
            " 0   longitude           20640 non-null  float64\n",
            " 1   latitude            20640 non-null  float64\n",
            " 2   housing_median_age  20640 non-null  float64\n",
            " 3   total_rooms         20640 non-null  float64\n",
            " 4   total_bedrooms      20640 non-null  float64\n",
            " 5   population          20640 non-null  float64\n",
            " 6   households          20640 non-null  float64\n",
            " 7   median_income       20640 non-null  float64\n",
            " 8   median_house_value  20640 non-null  float64\n",
            " 9   ocean_proximity     20640 non-null  object \n",
            " 10  id                  20640 non-null  int64  \n",
            "dtypes: float64(9), int64(1), object(1)\n",
            "memory usage: 1.7+ MB\n"
          ]
        }
      ],
      "source": [
        "# нет пропусков\n",
        "df.info()"
      ]
    },
    {
      "cell_type": "markdown",
      "id": "19d05e54",
      "metadata": {
        "id": "19d05e54"
      },
      "source": [
        "Выбросы - это объекты в данных, которые не принадлежат определенной зависимости. Это ненормальное наблюдение, которое находятся далеко от других наблюдений."
      ]
    },
    {
      "cell_type": "code",
      "execution_count": null,
      "id": "7b4606ee",
      "metadata": {
        "id": "7b4606ee"
      },
      "outputs": [],
      "source": [
        "#2. Выбросы(outliers)-заменим эти значения на средне арифметические\n",
        "df.loc[df['median_house_value'] > 500000, 'median_house_value'] = mean_mhv"
      ]
    },
    {
      "cell_type": "code",
      "execution_count": null,
      "id": "363875db",
      "metadata": {
        "id": "363875db",
        "outputId": "2958d1e4-042e-4e44-ad0d-a5470998a410"
      },
      "outputs": [
        {
          "data": {
            "image/png": "[encoded data removed]",
            "text/plain": [
              "<Figure size 1152x576 with 1 Axes>"
            ]
          },
          "metadata": {
            "needs_background": "light"
          },
          "output_type": "display_data"
        }
      ],
      "source": [
        "plt.figure(figsize = (16,8))\n",
        "\n",
        "df['median_house_value'].hist(bins=30)\n",
        "plt.ylabel('Count')\n",
        "plt.xlabel('median_house_value')\n",
        "\n",
        "plt.title('Target distribution')\n",
        "plt.show()"
      ]
    },
    {
      "cell_type": "code",
      "execution_count": null,
      "id": "bed0922e",
      "metadata": {
        "id": "bed0922e",
        "outputId": "6ad57d7a-62a4-4cdd-9095-fec2cee42f05"
      },
      "outputs": [
        {
          "data": {
            "image/png": "[encoded data removed]",
            "text/plain": [
              "<Figure size 1152x576 with 1 Axes>"
            ]
          },
          "metadata": {
            "needs_background": "light"
          },
          "output_type": "display_data"
        }
      ],
      "source": [
        "#Корреляция значения средней цены от каждого признака\n",
        "correlation = df.corrwith(df['median_house_value']).sort_values(ascending=False)\n",
        "correlation.drop('median_house_value', inplace=True)\n",
        "\n",
        "plt.figure(figsize = (16, 8))\n",
        "plt.bar(correlation.index, correlation)\n",
        "plt.xticks(rotation='90')\n",
        "plt.xlabel('Features', fontsize=15)\n",
        "plt.ylabel('Correlation', fontsize=15)\n",
        "plt.title('feature correlation', fontsize=15)\n",
        "plt.show()\n"
      ]
    },
    {
      "cell_type": "markdown",
      "id": "bab4e723",
      "metadata": {
        "id": "bab4e723"
      },
      "source": [
        "Широта принимает значения от −90° до 90°. 0° – широта экватора; −90° – широта Южного полюса; 90° – широта Северного полюса. Положительные значения соответствуют северной широте (точки севернее экватора, сокращённо с.ш. или N); отрицательные – южной широте (точки южнее экватора, сокращённо ю.ш. или S).\n",
        "Долгота отсчитывается от нулевого меридиана (IERS Reference Meridian в системе WGS 84) и принимает значения от −180° до 180°. Положительные значения соответствуют восточной долготе (сокращённо в.д. или E); отрицательные – западной долготе (сокращённо з.д. или W).\n",
        "\n",
        "Калифорнии находится в западном и северном полушарии\n",
        "Координаты Калифорнии (в десятичных градусах):\n",
        "Широта: 35,1258000 c.ш.\n",
        "Долгота: -117,985 з.д."
      ]
    },
    {
      "cell_type": "code",
      "execution_count": null,
      "id": "7b68069b",
      "metadata": {
        "id": "7b68069b",
        "outputId": "00f66d5a-5639-4b3b-8294-b4b11b1a6728"
      },
      "outputs": [
        {
          "data": {
            "text/plain": [
              "-118.49"
            ]
          },
          "execution_count": 393,
          "metadata": {},
          "output_type": "execute_result"
        }
      ],
      "source": [
        "df['longitude'].median()\n"
      ]
    },
    {
      "cell_type": "code",
      "execution_count": null,
      "id": "1332a611",
      "metadata": {
        "id": "1332a611",
        "outputId": "0ddf95fe-28eb-4378-91ae-4a6e35d4fb9d"
      },
      "outputs": [
        {
          "data": {
            "text/html": [
              "<div>\n",
              "<style scoped>\n",
              "    .dataframe tbody tr th:only-of-type {\n",
              "        vertical-align: middle;\n",
              "    }\n",
              "\n",
              "    .dataframe tbody tr th {\n",
              "        vertical-align: top;\n",
              "    }\n",
              "\n",
              "    .dataframe thead th {\n",
              "        text-align: right;\n",
              "    }\n",
              "</style>\n",
              "<table border=\"1\" class=\"dataframe\">\n",
              "  <thead>\n",
              "    <tr style=\"text-align: right;\">\n",
              "      <th></th>\n",
              "      <th>longitude</th>\n",
              "      <th>latitude</th>\n",
              "      <th>housing_median_age</th>\n",
              "      <th>total_rooms</th>\n",
              "      <th>total_bedrooms</th>\n",
              "      <th>population</th>\n",
              "      <th>households</th>\n",
              "      <th>median_income</th>\n",
              "      <th>median_house_value</th>\n",
              "      <th>ocean_proximity</th>\n",
              "      <th>id</th>\n",
              "    </tr>\n",
              "  </thead>\n",
              "  <tbody>\n",
              "    <tr>\n",
              "      <th>3479</th>\n",
              "      <td>118.51</td>\n",
              "      <td>34.29</td>\n",
              "      <td>29.0</td>\n",
              "      <td>1287.0</td>\n",
              "      <td>194.0</td>\n",
              "      <td>525.0</td>\n",
              "      <td>187.0</td>\n",
              "      <td>6.4171</td>\n",
              "      <td>319300.000000</td>\n",
              "      <td>&lt;1H OCEAN</td>\n",
              "      <td>3479</td>\n",
              "    </tr>\n",
              "    <tr>\n",
              "      <th>5904</th>\n",
              "      <td>118.43</td>\n",
              "      <td>34.29</td>\n",
              "      <td>39.0</td>\n",
              "      <td>1769.0</td>\n",
              "      <td>410.0</td>\n",
              "      <td>1499.0</td>\n",
              "      <td>390.0</td>\n",
              "      <td>3.1212</td>\n",
              "      <td>153500.000000</td>\n",
              "      <td>&lt;1H OCEAN</td>\n",
              "      <td>5904</td>\n",
              "    </tr>\n",
              "    <tr>\n",
              "      <th>8405</th>\n",
              "      <td>118.36</td>\n",
              "      <td>33.93</td>\n",
              "      <td>40.0</td>\n",
              "      <td>1625.0</td>\n",
              "      <td>500.0</td>\n",
              "      <td>2036.0</td>\n",
              "      <td>476.0</td>\n",
              "      <td>2.6298</td>\n",
              "      <td>156500.000000</td>\n",
              "      <td>&lt;1H OCEAN</td>\n",
              "      <td>8405</td>\n",
              "    </tr>\n",
              "    <tr>\n",
              "      <th>8636</th>\n",
              "      <td>118.41</td>\n",
              "      <td>33.88</td>\n",
              "      <td>43.0</td>\n",
              "      <td>2492.0</td>\n",
              "      <td>449.0</td>\n",
              "      <td>1033.0</td>\n",
              "      <td>437.0</td>\n",
              "      <td>7.9614</td>\n",
              "      <td>206855.816909</td>\n",
              "      <td>&lt;1H OCEAN</td>\n",
              "      <td>8636</td>\n",
              "    </tr>\n",
              "    <tr>\n",
              "      <th>13051</th>\n",
              "      <td>121.29</td>\n",
              "      <td>38.61</td>\n",
              "      <td>17.0</td>\n",
              "      <td>13553.0</td>\n",
              "      <td>2474.0</td>\n",
              "      <td>6544.0</td>\n",
              "      <td>2359.0</td>\n",
              "      <td>3.9727</td>\n",
              "      <td>132700.000000</td>\n",
              "      <td>INLAND</td>\n",
              "      <td>13051</td>\n",
              "    </tr>\n",
              "    <tr>\n",
              "      <th>15263</th>\n",
              "      <td>117.27</td>\n",
              "      <td>33.02</td>\n",
              "      <td>21.0</td>\n",
              "      <td>2144.0</td>\n",
              "      <td>340.0</td>\n",
              "      <td>928.0</td>\n",
              "      <td>344.0</td>\n",
              "      <td>5.7980</td>\n",
              "      <td>286100.000000</td>\n",
              "      <td>NEAR OCEAN</td>\n",
              "      <td>15263</td>\n",
              "    </tr>\n",
              "    <tr>\n",
              "      <th>17085</th>\n",
              "      <td>0.00</td>\n",
              "      <td>37.47</td>\n",
              "      <td>33.0</td>\n",
              "      <td>1266.0</td>\n",
              "      <td>415.0</td>\n",
              "      <td>1991.0</td>\n",
              "      <td>334.0</td>\n",
              "      <td>2.9200</td>\n",
              "      <td>202800.000000</td>\n",
              "      <td>NEAR OCEAN</td>\n",
              "      <td>17085</td>\n",
              "    </tr>\n",
              "    <tr>\n",
              "      <th>17359</th>\n",
              "      <td>0.00</td>\n",
              "      <td>34.88</td>\n",
              "      <td>4.0</td>\n",
              "      <td>3680.0</td>\n",
              "      <td>559.0</td>\n",
              "      <td>1678.0</td>\n",
              "      <td>569.0</td>\n",
              "      <td>5.0639</td>\n",
              "      <td>201700.000000</td>\n",
              "      <td>&lt;1H OCEAN</td>\n",
              "      <td>17359</td>\n",
              "    </tr>\n",
              "    <tr>\n",
              "      <th>18551</th>\n",
              "      <td>122.03</td>\n",
              "      <td>36.96</td>\n",
              "      <td>28.0</td>\n",
              "      <td>1607.0</td>\n",
              "      <td>421.0</td>\n",
              "      <td>926.0</td>\n",
              "      <td>385.0</td>\n",
              "      <td>2.4250</td>\n",
              "      <td>216100.000000</td>\n",
              "      <td>NEAR OCEAN</td>\n",
              "      <td>18551</td>\n",
              "    </tr>\n",
              "    <tr>\n",
              "      <th>19423</th>\n",
              "      <td>0.00</td>\n",
              "      <td>37.69</td>\n",
              "      <td>5.0</td>\n",
              "      <td>9601.0</td>\n",
              "      <td>1639.0</td>\n",
              "      <td>4449.0</td>\n",
              "      <td>1575.0</td>\n",
              "      <td>4.5332</td>\n",
              "      <td>195500.000000</td>\n",
              "      <td>INLAND</td>\n",
              "      <td>19423</td>\n",
              "    </tr>\n",
              "  </tbody>\n",
              "</table>\n",
              "</div>"
            ],
            "text/plain": [
              "       longitude  latitude  housing_median_age  total_rooms  total_bedrooms  \\\n",
              "3479      118.51     34.29                29.0       1287.0           194.0   \n",
              "5904      118.43     34.29                39.0       1769.0           410.0   \n",
              "8405      118.36     33.93                40.0       1625.0           500.0   \n",
              "8636      118.41     33.88                43.0       2492.0           449.0   \n",
              "13051     121.29     38.61                17.0      13553.0          2474.0   \n",
              "15263     117.27     33.02                21.0       2144.0           340.0   \n",
              "17085       0.00     37.47                33.0       1266.0           415.0   \n",
              "17359       0.00     34.88                 4.0       3680.0           559.0   \n",
              "18551     122.03     36.96                28.0       1607.0           421.0   \n",
              "19423       0.00     37.69                 5.0       9601.0          1639.0   \n",
              "\n",
              "       population  households  median_income  median_house_value  \\\n",
              "3479        525.0       187.0         6.4171       319300.000000   \n",
              "5904       1499.0       390.0         3.1212       153500.000000   \n",
              "8405       2036.0       476.0         2.6298       156500.000000   \n",
              "8636       1033.0       437.0         7.9614       206855.816909   \n",
              "13051      6544.0      2359.0         3.9727       132700.000000   \n",
              "15263       928.0       344.0         5.7980       286100.000000   \n",
              "17085      1991.0       334.0         2.9200       202800.000000   \n",
              "17359      1678.0       569.0         5.0639       201700.000000   \n",
              "18551       926.0       385.0         2.4250       216100.000000   \n",
              "19423      4449.0      1575.0         4.5332       195500.000000   \n",
              "\n",
              "      ocean_proximity     id  \n",
              "3479        <1H OCEAN   3479  \n",
              "5904        <1H OCEAN   5904  \n",
              "8405        <1H OCEAN   8405  \n",
              "8636        <1H OCEAN   8636  \n",
              "13051          INLAND  13051  \n",
              "15263      NEAR OCEAN  15263  \n",
              "17085      NEAR OCEAN  17085  \n",
              "17359       <1H OCEAN  17359  \n",
              "18551      NEAR OCEAN  18551  \n",
              "19423          INLAND  19423  "
            ]
          },
          "execution_count": 394,
          "metadata": {},
          "output_type": "execute_result"
        }
      ],
      "source": [
        "#нашли числа, где долгота >= 0\n",
        "df[df['longitude'] >= 0]"
      ]
    },
    {
      "cell_type": "code",
      "execution_count": null,
      "id": "580411c4",
      "metadata": {
        "id": "580411c4"
      },
      "outputs": [],
      "source": [
        "#елси долгота >=0 то это выброс, запишем его как 1, нет выброса - 0\n",
        "df['longitude_outlier'] = 0\n",
        "df.loc[df['longitude'] >= 0, 'longitude_outlier'] = 1"
      ]
    },
    {
      "cell_type": "code",
      "execution_count": null,
      "id": "0e06c6f8",
      "metadata": {
        "id": "0e06c6f8",
        "outputId": "87c406e3-4d4d-4fc9-c699-8b54b27931f7"
      },
      "outputs": [
        {
          "data": {
            "text/html": [
              "<div>\n",
              "<style scoped>\n",
              "    .dataframe tbody tr th:only-of-type {\n",
              "        vertical-align: middle;\n",
              "    }\n",
              "\n",
              "    .dataframe tbody tr th {\n",
              "        vertical-align: top;\n",
              "    }\n",
              "\n",
              "    .dataframe thead th {\n",
              "        text-align: right;\n",
              "    }\n",
              "</style>\n",
              "<table border=\"1\" class=\"dataframe\">\n",
              "  <thead>\n",
              "    <tr style=\"text-align: right;\">\n",
              "      <th></th>\n",
              "      <th>longitude</th>\n",
              "      <th>latitude</th>\n",
              "      <th>housing_median_age</th>\n",
              "      <th>total_rooms</th>\n",
              "      <th>total_bedrooms</th>\n",
              "      <th>population</th>\n",
              "      <th>households</th>\n",
              "      <th>median_income</th>\n",
              "      <th>median_house_value</th>\n",
              "      <th>ocean_proximity</th>\n",
              "      <th>id</th>\n",
              "      <th>longitude_outlier</th>\n",
              "    </tr>\n",
              "  </thead>\n",
              "  <tbody>\n",
              "    <tr>\n",
              "      <th>3479</th>\n",
              "      <td>118.51</td>\n",
              "      <td>34.29</td>\n",
              "      <td>29.0</td>\n",
              "      <td>1287.0</td>\n",
              "      <td>194.0</td>\n",
              "      <td>525.0</td>\n",
              "      <td>187.0</td>\n",
              "      <td>6.4171</td>\n",
              "      <td>319300.000000</td>\n",
              "      <td>&lt;1H OCEAN</td>\n",
              "      <td>3479</td>\n",
              "      <td>1</td>\n",
              "    </tr>\n",
              "    <tr>\n",
              "      <th>5904</th>\n",
              "      <td>118.43</td>\n",
              "      <td>34.29</td>\n",
              "      <td>39.0</td>\n",
              "      <td>1769.0</td>\n",
              "      <td>410.0</td>\n",
              "      <td>1499.0</td>\n",
              "      <td>390.0</td>\n",
              "      <td>3.1212</td>\n",
              "      <td>153500.000000</td>\n",
              "      <td>&lt;1H OCEAN</td>\n",
              "      <td>5904</td>\n",
              "      <td>1</td>\n",
              "    </tr>\n",
              "    <tr>\n",
              "      <th>8405</th>\n",
              "      <td>118.36</td>\n",
              "      <td>33.93</td>\n",
              "      <td>40.0</td>\n",
              "      <td>1625.0</td>\n",
              "      <td>500.0</td>\n",
              "      <td>2036.0</td>\n",
              "      <td>476.0</td>\n",
              "      <td>2.6298</td>\n",
              "      <td>156500.000000</td>\n",
              "      <td>&lt;1H OCEAN</td>\n",
              "      <td>8405</td>\n",
              "      <td>1</td>\n",
              "    </tr>\n",
              "    <tr>\n",
              "      <th>8636</th>\n",
              "      <td>118.41</td>\n",
              "      <td>33.88</td>\n",
              "      <td>43.0</td>\n",
              "      <td>2492.0</td>\n",
              "      <td>449.0</td>\n",
              "      <td>1033.0</td>\n",
              "      <td>437.0</td>\n",
              "      <td>7.9614</td>\n",
              "      <td>206855.816909</td>\n",
              "      <td>&lt;1H OCEAN</td>\n",
              "      <td>8636</td>\n",
              "      <td>1</td>\n",
              "    </tr>\n",
              "    <tr>\n",
              "      <th>13051</th>\n",
              "      <td>121.29</td>\n",
              "      <td>38.61</td>\n",
              "      <td>17.0</td>\n",
              "      <td>13553.0</td>\n",
              "      <td>2474.0</td>\n",
              "      <td>6544.0</td>\n",
              "      <td>2359.0</td>\n",
              "      <td>3.9727</td>\n",
              "      <td>132700.000000</td>\n",
              "      <td>INLAND</td>\n",
              "      <td>13051</td>\n",
              "      <td>1</td>\n",
              "    </tr>\n",
              "    <tr>\n",
              "      <th>15263</th>\n",
              "      <td>117.27</td>\n",
              "      <td>33.02</td>\n",
              "      <td>21.0</td>\n",
              "      <td>2144.0</td>\n",
              "      <td>340.0</td>\n",
              "      <td>928.0</td>\n",
              "      <td>344.0</td>\n",
              "      <td>5.7980</td>\n",
              "      <td>286100.000000</td>\n",
              "      <td>NEAR OCEAN</td>\n",
              "      <td>15263</td>\n",
              "      <td>1</td>\n",
              "    </tr>\n",
              "    <tr>\n",
              "      <th>17085</th>\n",
              "      <td>0.00</td>\n",
              "      <td>37.47</td>\n",
              "      <td>33.0</td>\n",
              "      <td>1266.0</td>\n",
              "      <td>415.0</td>\n",
              "      <td>1991.0</td>\n",
              "      <td>334.0</td>\n",
              "      <td>2.9200</td>\n",
              "      <td>202800.000000</td>\n",
              "      <td>NEAR OCEAN</td>\n",
              "      <td>17085</td>\n",
              "      <td>1</td>\n",
              "    </tr>\n",
              "    <tr>\n",
              "      <th>17359</th>\n",
              "      <td>0.00</td>\n",
              "      <td>34.88</td>\n",
              "      <td>4.0</td>\n",
              "      <td>3680.0</td>\n",
              "      <td>559.0</td>\n",
              "      <td>1678.0</td>\n",
              "      <td>569.0</td>\n",
              "      <td>5.0639</td>\n",
              "      <td>201700.000000</td>\n",
              "      <td>&lt;1H OCEAN</td>\n",
              "      <td>17359</td>\n",
              "      <td>1</td>\n",
              "    </tr>\n",
              "    <tr>\n",
              "      <th>18551</th>\n",
              "      <td>122.03</td>\n",
              "      <td>36.96</td>\n",
              "      <td>28.0</td>\n",
              "      <td>1607.0</td>\n",
              "      <td>421.0</td>\n",
              "      <td>926.0</td>\n",
              "      <td>385.0</td>\n",
              "      <td>2.4250</td>\n",
              "      <td>216100.000000</td>\n",
              "      <td>NEAR OCEAN</td>\n",
              "      <td>18551</td>\n",
              "      <td>1</td>\n",
              "    </tr>\n",
              "    <tr>\n",
              "      <th>19423</th>\n",
              "      <td>0.00</td>\n",
              "      <td>37.69</td>\n",
              "      <td>5.0</td>\n",
              "      <td>9601.0</td>\n",
              "      <td>1639.0</td>\n",
              "      <td>4449.0</td>\n",
              "      <td>1575.0</td>\n",
              "      <td>4.5332</td>\n",
              "      <td>195500.000000</td>\n",
              "      <td>INLAND</td>\n",
              "      <td>19423</td>\n",
              "      <td>1</td>\n",
              "    </tr>\n",
              "  </tbody>\n",
              "</table>\n",
              "</div>"
            ],
            "text/plain": [
              "       longitude  latitude  housing_median_age  total_rooms  total_bedrooms  \\\n",
              "3479      118.51     34.29                29.0       1287.0           194.0   \n",
              "5904      118.43     34.29                39.0       1769.0           410.0   \n",
              "8405      118.36     33.93                40.0       1625.0           500.0   \n",
              "8636      118.41     33.88                43.0       2492.0           449.0   \n",
              "13051     121.29     38.61                17.0      13553.0          2474.0   \n",
              "15263     117.27     33.02                21.0       2144.0           340.0   \n",
              "17085       0.00     37.47                33.0       1266.0           415.0   \n",
              "17359       0.00     34.88                 4.0       3680.0           559.0   \n",
              "18551     122.03     36.96                28.0       1607.0           421.0   \n",
              "19423       0.00     37.69                 5.0       9601.0          1639.0   \n",
              "\n",
              "       population  households  median_income  median_house_value  \\\n",
              "3479        525.0       187.0         6.4171       319300.000000   \n",
              "5904       1499.0       390.0         3.1212       153500.000000   \n",
              "8405       2036.0       476.0         2.6298       156500.000000   \n",
              "8636       1033.0       437.0         7.9614       206855.816909   \n",
              "13051      6544.0      2359.0         3.9727       132700.000000   \n",
              "15263       928.0       344.0         5.7980       286100.000000   \n",
              "17085      1991.0       334.0         2.9200       202800.000000   \n",
              "17359      1678.0       569.0         5.0639       201700.000000   \n",
              "18551       926.0       385.0         2.4250       216100.000000   \n",
              "19423      4449.0      1575.0         4.5332       195500.000000   \n",
              "\n",
              "      ocean_proximity     id  longitude_outlier  \n",
              "3479        <1H OCEAN   3479                  1  \n",
              "5904        <1H OCEAN   5904                  1  \n",
              "8405        <1H OCEAN   8405                  1  \n",
              "8636        <1H OCEAN   8636                  1  \n",
              "13051          INLAND  13051                  1  \n",
              "15263      NEAR OCEAN  15263                  1  \n",
              "17085      NEAR OCEAN  17085                  1  \n",
              "17359       <1H OCEAN  17359                  1  \n",
              "18551      NEAR OCEAN  18551                  1  \n",
              "19423          INLAND  19423                  1  "
            ]
          },
          "execution_count": 396,
          "metadata": {},
          "output_type": "execute_result"
        }
      ],
      "source": [
        "#соберем все выбросы долготы\n",
        "df[df['longitude'] >= 0]"
      ]
    },
    {
      "cell_type": "code",
      "execution_count": null,
      "id": "3494e8f5",
      "metadata": {
        "id": "3494e8f5",
        "outputId": "a20fd7de-e1b0-4254-c8ed-7d16d0b1376e"
      },
      "outputs": [
        {
          "data": {
            "text/plain": [
              "3479    -118.51\n",
              "5904    -118.43\n",
              "8405    -118.36\n",
              "8636    -118.41\n",
              "13051   -121.29\n",
              "15263   -117.27\n",
              "18551   -122.03\n",
              "Name: longitude, dtype: float64"
            ]
          },
          "execution_count": 397,
          "metadata": {},
          "output_type": "execute_result"
        }
      ],
      "source": [
        "#присвоим выбросам отрицательные значения\n",
        "df.loc[df['longitude'] > 0, 'longitude'] * -1"
      ]
    },
    {
      "cell_type": "code",
      "execution_count": null,
      "id": "1f3a800c",
      "metadata": {
        "id": "1f3a800c"
      },
      "outputs": [],
      "source": [
        "#зафиксируем это в датафрейме\n",
        "df.loc[df['longitude'] > 0, 'longitude'] = df.loc[df['longitude'] > 0, 'longitude'] * -1"
      ]
    },
    {
      "cell_type": "code",
      "execution_count": null,
      "id": "4b713b57",
      "metadata": {
        "id": "4b713b57"
      },
      "outputs": [],
      "source": [
        "#данные =0 заменим на медиану\n",
        "df.loc[df['longitude'] == 0, 'longitude'] = df['longitude'].median()"
      ]
    },
    {
      "cell_type": "code",
      "execution_count": null,
      "id": "879a1499",
      "metadata": {
        "id": "879a1499",
        "outputId": "84cc6237-2f71-4d6f-9fa1-cf9224e25493"
      },
      "outputs": [
        {
          "data": {
            "text/html": [
              "<div>\n",
              "<style scoped>\n",
              "    .dataframe tbody tr th:only-of-type {\n",
              "        vertical-align: middle;\n",
              "    }\n",
              "\n",
              "    .dataframe tbody tr th {\n",
              "        vertical-align: top;\n",
              "    }\n",
              "\n",
              "    .dataframe thead th {\n",
              "        text-align: right;\n",
              "    }\n",
              "</style>\n",
              "<table border=\"1\" class=\"dataframe\">\n",
              "  <thead>\n",
              "    <tr style=\"text-align: right;\">\n",
              "      <th></th>\n",
              "      <th>longitude</th>\n",
              "      <th>latitude</th>\n",
              "      <th>housing_median_age</th>\n",
              "      <th>total_rooms</th>\n",
              "      <th>total_bedrooms</th>\n",
              "      <th>population</th>\n",
              "      <th>households</th>\n",
              "      <th>median_income</th>\n",
              "      <th>median_house_value</th>\n",
              "      <th>ocean_proximity</th>\n",
              "      <th>id</th>\n",
              "      <th>longitude_outlier</th>\n",
              "    </tr>\n",
              "  </thead>\n",
              "  <tbody>\n",
              "  </tbody>\n",
              "</table>\n",
              "</div>"
            ],
            "text/plain": [
              "Empty DataFrame\n",
              "Columns: [longitude, latitude, housing_median_age, total_rooms, total_bedrooms, population, households, median_income, median_house_value, ocean_proximity, id, longitude_outlier]\n",
              "Index: []"
            ]
          },
          "execution_count": 400,
          "metadata": {},
          "output_type": "execute_result"
        }
      ],
      "source": [
        "#записали исправленные выбросы в датефрейм\n",
        "df[df['longitude'] >= 0]"
      ]
    },
    {
      "cell_type": "code",
      "execution_count": null,
      "id": "23f0632d",
      "metadata": {
        "id": "23f0632d",
        "outputId": "77386ef7-167a-4c42-a8f8-92b84c1c046d"
      },
      "outputs": [
        {
          "data": {
            "text/plain": [
              "0       -122.23\n",
              "1       -122.22\n",
              "2       -122.24\n",
              "3       -122.25\n",
              "4       -122.25\n",
              "          ...  \n",
              "17355   -120.43\n",
              "17356   -120.42\n",
              "17357   -120.43\n",
              "17358   -120.43\n",
              "17359   -118.49\n",
              "Name: longitude, Length: 17360, dtype: float64"
            ]
          },
          "execution_count": 401,
          "metadata": {},
          "output_type": "execute_result"
        }
      ],
      "source": [
        "#Проверка - сравним значения под индексом 17459 (0заменился на медиану)\n",
        "df['longitude'].head(17360)"
      ]
    },
    {
      "cell_type": "markdown",
      "id": "c9d223be",
      "metadata": {
        "id": "c9d223be"
      },
      "source": [
        "latitude-широта"
      ]
    },
    {
      "cell_type": "code",
      "execution_count": null,
      "id": "e6e1c221",
      "metadata": {
        "id": "e6e1c221",
        "outputId": "def6cc01-e694-4514-b143-219acbf752c0"
      },
      "outputs": [
        {
          "data": {
            "text/plain": [
              "34.26"
            ]
          },
          "execution_count": 402,
          "metadata": {},
          "output_type": "execute_result"
        }
      ],
      "source": [
        "df['latitude'].median()"
      ]
    },
    {
      "cell_type": "code",
      "execution_count": null,
      "id": "57ad427f",
      "metadata": {
        "id": "57ad427f",
        "outputId": "45afd4a1-a915-4143-c6b6-93ac2342ec60"
      },
      "outputs": [
        {
          "data": {
            "text/html": [
              "<div>\n",
              "<style scoped>\n",
              "    .dataframe tbody tr th:only-of-type {\n",
              "        vertical-align: middle;\n",
              "    }\n",
              "\n",
              "    .dataframe tbody tr th {\n",
              "        vertical-align: top;\n",
              "    }\n",
              "\n",
              "    .dataframe thead th {\n",
              "        text-align: right;\n",
              "    }\n",
              "</style>\n",
              "<table border=\"1\" class=\"dataframe\">\n",
              "  <thead>\n",
              "    <tr style=\"text-align: right;\">\n",
              "      <th></th>\n",
              "      <th>longitude</th>\n",
              "      <th>latitude</th>\n",
              "      <th>housing_median_age</th>\n",
              "      <th>total_rooms</th>\n",
              "      <th>total_bedrooms</th>\n",
              "      <th>population</th>\n",
              "      <th>households</th>\n",
              "      <th>median_income</th>\n",
              "      <th>median_house_value</th>\n",
              "      <th>ocean_proximity</th>\n",
              "      <th>id</th>\n",
              "      <th>longitude_outlier</th>\n",
              "    </tr>\n",
              "  </thead>\n",
              "  <tbody>\n",
              "    <tr>\n",
              "      <th>8283</th>\n",
              "      <td>-118.13</td>\n",
              "      <td>-13534.03</td>\n",
              "      <td>45.0</td>\n",
              "      <td>1016.0</td>\n",
              "      <td>172.0</td>\n",
              "      <td>361.0</td>\n",
              "      <td>163.0</td>\n",
              "      <td>7.5000</td>\n",
              "      <td>434500.0</td>\n",
              "      <td>NEAR OCEAN</td>\n",
              "      <td>8283</td>\n",
              "      <td>0</td>\n",
              "    </tr>\n",
              "    <tr>\n",
              "      <th>12772</th>\n",
              "      <td>-121.42</td>\n",
              "      <td>1327.13</td>\n",
              "      <td>29.0</td>\n",
              "      <td>2217.0</td>\n",
              "      <td>536.0</td>\n",
              "      <td>1203.0</td>\n",
              "      <td>507.0</td>\n",
              "      <td>1.9412</td>\n",
              "      <td>73100.0</td>\n",
              "      <td>INLAND</td>\n",
              "      <td>12772</td>\n",
              "      <td>0</td>\n",
              "    </tr>\n",
              "  </tbody>\n",
              "</table>\n",
              "</div>"
            ],
            "text/plain": [
              "       longitude  latitude  housing_median_age  total_rooms  total_bedrooms  \\\n",
              "8283     -118.13 -13534.03                45.0       1016.0           172.0   \n",
              "12772    -121.42   1327.13                29.0       2217.0           536.0   \n",
              "\n",
              "       population  households  median_income  median_house_value  \\\n",
              "8283        361.0       163.0         7.5000            434500.0   \n",
              "12772      1203.0       507.0         1.9412             73100.0   \n",
              "\n",
              "      ocean_proximity     id  longitude_outlier  \n",
              "8283       NEAR OCEAN   8283                  0  \n",
              "12772          INLAND  12772                  0  "
            ]
          },
          "execution_count": 403,
          "metadata": {},
          "output_type": "execute_result"
        }
      ],
      "source": [
        "#выбираем выбросы из датафрейма\n",
        "df[(df['latitude'] <= 0) | (df['latitude'] > 50)]"
      ]
    },
    {
      "cell_type": "code",
      "execution_count": null,
      "id": "be61e032",
      "metadata": {
        "id": "be61e032"
      },
      "outputs": [],
      "source": [
        "#введем новый признак latitude_outlier: есть выбросы=1, нет=0\n",
        "df['latitude_outlier'] = 0\n",
        "df.loc[(df['latitude'] <= 0) | (df['latitude'] > 50), 'latitude_outlier'] = 1"
      ]
    },
    {
      "cell_type": "code",
      "execution_count": null,
      "id": "219400ba",
      "metadata": {
        "id": "219400ba",
        "outputId": "04015a33-0920-4204-8cab-ba5b87e8ba5a"
      },
      "outputs": [
        {
          "data": {
            "text/html": [
              "<div>\n",
              "<style scoped>\n",
              "    .dataframe tbody tr th:only-of-type {\n",
              "        vertical-align: middle;\n",
              "    }\n",
              "\n",
              "    .dataframe tbody tr th {\n",
              "        vertical-align: top;\n",
              "    }\n",
              "\n",
              "    .dataframe thead th {\n",
              "        text-align: right;\n",
              "    }\n",
              "</style>\n",
              "<table border=\"1\" class=\"dataframe\">\n",
              "  <thead>\n",
              "    <tr style=\"text-align: right;\">\n",
              "      <th></th>\n",
              "      <th>longitude</th>\n",
              "      <th>latitude</th>\n",
              "      <th>housing_median_age</th>\n",
              "      <th>total_rooms</th>\n",
              "      <th>total_bedrooms</th>\n",
              "      <th>population</th>\n",
              "      <th>households</th>\n",
              "      <th>median_income</th>\n",
              "      <th>median_house_value</th>\n",
              "      <th>ocean_proximity</th>\n",
              "      <th>id</th>\n",
              "      <th>longitude_outlier</th>\n",
              "      <th>latitude_outlier</th>\n",
              "    </tr>\n",
              "  </thead>\n",
              "  <tbody>\n",
              "    <tr>\n",
              "      <th>8283</th>\n",
              "      <td>-118.13</td>\n",
              "      <td>-13534.03</td>\n",
              "      <td>45.0</td>\n",
              "      <td>1016.0</td>\n",
              "      <td>172.0</td>\n",
              "      <td>361.0</td>\n",
              "      <td>163.0</td>\n",
              "      <td>7.5000</td>\n",
              "      <td>434500.0</td>\n",
              "      <td>NEAR OCEAN</td>\n",
              "      <td>8283</td>\n",
              "      <td>0</td>\n",
              "      <td>1</td>\n",
              "    </tr>\n",
              "    <tr>\n",
              "      <th>12772</th>\n",
              "      <td>-121.42</td>\n",
              "      <td>1327.13</td>\n",
              "      <td>29.0</td>\n",
              "      <td>2217.0</td>\n",
              "      <td>536.0</td>\n",
              "      <td>1203.0</td>\n",
              "      <td>507.0</td>\n",
              "      <td>1.9412</td>\n",
              "      <td>73100.0</td>\n",
              "      <td>INLAND</td>\n",
              "      <td>12772</td>\n",
              "      <td>0</td>\n",
              "      <td>1</td>\n",
              "    </tr>\n",
              "  </tbody>\n",
              "</table>\n",
              "</div>"
            ],
            "text/plain": [
              "       longitude  latitude  housing_median_age  total_rooms  total_bedrooms  \\\n",
              "8283     -118.13 -13534.03                45.0       1016.0           172.0   \n",
              "12772    -121.42   1327.13                29.0       2217.0           536.0   \n",
              "\n",
              "       population  households  median_income  median_house_value  \\\n",
              "8283        361.0       163.0         7.5000            434500.0   \n",
              "12772      1203.0       507.0         1.9412             73100.0   \n",
              "\n",
              "      ocean_proximity     id  longitude_outlier  latitude_outlier  \n",
              "8283       NEAR OCEAN   8283                  0                 1  \n",
              "12772          INLAND  12772                  0                 1  "
            ]
          },
          "execution_count": 405,
          "metadata": {},
          "output_type": "execute_result"
        }
      ],
      "source": [
        "#быберем выбросы из датафрейма\n",
        "df[(df['latitude'] <= 0) | (df['latitude'] > 50)]"
      ]
    },
    {
      "cell_type": "code",
      "execution_count": null,
      "id": "e410aa48",
      "metadata": {
        "id": "e410aa48"
      },
      "outputs": [],
      "source": [
        "#выбросы заменим на медиану\n",
        "df.loc[(df['latitude'] <= 0) | (df['latitude'] > 50), 'latitude'] = df['latitude'].median()"
      ]
    },
    {
      "cell_type": "code",
      "execution_count": null,
      "id": "1a25b1b7",
      "metadata": {
        "id": "1a25b1b7",
        "outputId": "5dc90273-27e3-44c5-ed3a-df9a2794389e"
      },
      "outputs": [
        {
          "data": {
            "text/html": [
              "<div>\n",
              "<style scoped>\n",
              "    .dataframe tbody tr th:only-of-type {\n",
              "        vertical-align: middle;\n",
              "    }\n",
              "\n",
              "    .dataframe tbody tr th {\n",
              "        vertical-align: top;\n",
              "    }\n",
              "\n",
              "    .dataframe thead th {\n",
              "        text-align: right;\n",
              "    }\n",
              "</style>\n",
              "<table border=\"1\" class=\"dataframe\">\n",
              "  <thead>\n",
              "    <tr style=\"text-align: right;\">\n",
              "      <th></th>\n",
              "      <th>longitude</th>\n",
              "      <th>latitude</th>\n",
              "      <th>housing_median_age</th>\n",
              "      <th>total_rooms</th>\n",
              "      <th>total_bedrooms</th>\n",
              "      <th>population</th>\n",
              "      <th>households</th>\n",
              "      <th>median_income</th>\n",
              "      <th>median_house_value</th>\n",
              "      <th>ocean_proximity</th>\n",
              "      <th>id</th>\n",
              "      <th>longitude_outlier</th>\n",
              "      <th>latitude_outlier</th>\n",
              "    </tr>\n",
              "  </thead>\n",
              "  <tbody>\n",
              "  </tbody>\n",
              "</table>\n",
              "</div>"
            ],
            "text/plain": [
              "Empty DataFrame\n",
              "Columns: [longitude, latitude, housing_median_age, total_rooms, total_bedrooms, population, households, median_income, median_house_value, ocean_proximity, id, longitude_outlier, latitude_outlier]\n",
              "Index: []"
            ]
          },
          "execution_count": 407,
          "metadata": {},
          "output_type": "execute_result"
        }
      ],
      "source": [
        "#запишем это в датафрейм\n",
        "df[(df['latitude'] <= 0) | (df['latitude'] > 50)]"
      ]
    },
    {
      "cell_type": "code",
      "execution_count": null,
      "id": "4fffd750",
      "metadata": {
        "scrolled": true,
        "id": "4fffd750",
        "outputId": "b8a7f0d0-cab2-48fb-8a9b-b64fbf02bce0"
      },
      "outputs": [
        {
          "data": {
            "text/html": [
              "<div>\n",
              "<style scoped>\n",
              "    .dataframe tbody tr th:only-of-type {\n",
              "        vertical-align: middle;\n",
              "    }\n",
              "\n",
              "    .dataframe tbody tr th {\n",
              "        vertical-align: top;\n",
              "    }\n",
              "\n",
              "    .dataframe thead th {\n",
              "        text-align: right;\n",
              "    }\n",
              "</style>\n",
              "<table border=\"1\" class=\"dataframe\">\n",
              "  <thead>\n",
              "    <tr style=\"text-align: right;\">\n",
              "      <th></th>\n",
              "      <th>longitude</th>\n",
              "      <th>latitude</th>\n",
              "      <th>housing_median_age</th>\n",
              "      <th>total_rooms</th>\n",
              "      <th>total_bedrooms</th>\n",
              "      <th>population</th>\n",
              "      <th>households</th>\n",
              "      <th>median_income</th>\n",
              "      <th>median_house_value</th>\n",
              "      <th>ocean_proximity</th>\n",
              "      <th>id</th>\n",
              "      <th>longitude_outlier</th>\n",
              "      <th>latitude_outlier</th>\n",
              "    </tr>\n",
              "  </thead>\n",
              "  <tbody>\n",
              "    <tr>\n",
              "      <th>0</th>\n",
              "      <td>-122.23</td>\n",
              "      <td>37.88</td>\n",
              "      <td>41.0</td>\n",
              "      <td>880.0</td>\n",
              "      <td>129.0</td>\n",
              "      <td>322.0</td>\n",
              "      <td>126.0</td>\n",
              "      <td>8.3252</td>\n",
              "      <td>452600.0</td>\n",
              "      <td>NEAR BAY</td>\n",
              "      <td>0</td>\n",
              "      <td>0</td>\n",
              "      <td>0</td>\n",
              "    </tr>\n",
              "    <tr>\n",
              "      <th>1</th>\n",
              "      <td>-122.22</td>\n",
              "      <td>37.86</td>\n",
              "      <td>21.0</td>\n",
              "      <td>7099.0</td>\n",
              "      <td>1106.0</td>\n",
              "      <td>2401.0</td>\n",
              "      <td>1138.0</td>\n",
              "      <td>8.3014</td>\n",
              "      <td>358500.0</td>\n",
              "      <td>NEAR BAY</td>\n",
              "      <td>1</td>\n",
              "      <td>0</td>\n",
              "      <td>0</td>\n",
              "    </tr>\n",
              "    <tr>\n",
              "      <th>2</th>\n",
              "      <td>-122.24</td>\n",
              "      <td>37.85</td>\n",
              "      <td>52.0</td>\n",
              "      <td>1467.0</td>\n",
              "      <td>190.0</td>\n",
              "      <td>496.0</td>\n",
              "      <td>177.0</td>\n",
              "      <td>7.2574</td>\n",
              "      <td>352100.0</td>\n",
              "      <td>NEAR BAY</td>\n",
              "      <td>2</td>\n",
              "      <td>0</td>\n",
              "      <td>0</td>\n",
              "    </tr>\n",
              "    <tr>\n",
              "      <th>3</th>\n",
              "      <td>-122.25</td>\n",
              "      <td>37.85</td>\n",
              "      <td>52.0</td>\n",
              "      <td>1274.0</td>\n",
              "      <td>235.0</td>\n",
              "      <td>558.0</td>\n",
              "      <td>219.0</td>\n",
              "      <td>5.6431</td>\n",
              "      <td>341300.0</td>\n",
              "      <td>NEAR BAY</td>\n",
              "      <td>3</td>\n",
              "      <td>0</td>\n",
              "      <td>0</td>\n",
              "    </tr>\n",
              "    <tr>\n",
              "      <th>4</th>\n",
              "      <td>-122.25</td>\n",
              "      <td>37.85</td>\n",
              "      <td>52.0</td>\n",
              "      <td>1627.0</td>\n",
              "      <td>280.0</td>\n",
              "      <td>565.0</td>\n",
              "      <td>259.0</td>\n",
              "      <td>3.8462</td>\n",
              "      <td>342200.0</td>\n",
              "      <td>NEAR BAY</td>\n",
              "      <td>4</td>\n",
              "      <td>0</td>\n",
              "      <td>0</td>\n",
              "    </tr>\n",
              "    <tr>\n",
              "      <th>...</th>\n",
              "      <td>...</td>\n",
              "      <td>...</td>\n",
              "      <td>...</td>\n",
              "      <td>...</td>\n",
              "      <td>...</td>\n",
              "      <td>...</td>\n",
              "      <td>...</td>\n",
              "      <td>...</td>\n",
              "      <td>...</td>\n",
              "      <td>...</td>\n",
              "      <td>...</td>\n",
              "      <td>...</td>\n",
              "      <td>...</td>\n",
              "    </tr>\n",
              "    <tr>\n",
              "      <th>12768</th>\n",
              "      <td>-121.43</td>\n",
              "      <td>38.61</td>\n",
              "      <td>40.0</td>\n",
              "      <td>1134.0</td>\n",
              "      <td>252.0</td>\n",
              "      <td>675.0</td>\n",
              "      <td>249.0</td>\n",
              "      <td>1.3696</td>\n",
              "      <td>65200.0</td>\n",
              "      <td>INLAND</td>\n",
              "      <td>12768</td>\n",
              "      <td>0</td>\n",
              "      <td>0</td>\n",
              "    </tr>\n",
              "    <tr>\n",
              "      <th>12769</th>\n",
              "      <td>-121.42</td>\n",
              "      <td>38.62</td>\n",
              "      <td>41.0</td>\n",
              "      <td>1087.0</td>\n",
              "      <td>272.0</td>\n",
              "      <td>462.0</td>\n",
              "      <td>219.0</td>\n",
              "      <td>2.0224</td>\n",
              "      <td>64900.0</td>\n",
              "      <td>INLAND</td>\n",
              "      <td>12769</td>\n",
              "      <td>0</td>\n",
              "      <td>0</td>\n",
              "    </tr>\n",
              "    <tr>\n",
              "      <th>12770</th>\n",
              "      <td>-121.42</td>\n",
              "      <td>38.63</td>\n",
              "      <td>42.0</td>\n",
              "      <td>1385.0</td>\n",
              "      <td>273.0</td>\n",
              "      <td>740.0</td>\n",
              "      <td>274.0</td>\n",
              "      <td>2.6055</td>\n",
              "      <td>78000.0</td>\n",
              "      <td>INLAND</td>\n",
              "      <td>12770</td>\n",
              "      <td>0</td>\n",
              "      <td>0</td>\n",
              "    </tr>\n",
              "    <tr>\n",
              "      <th>12771</th>\n",
              "      <td>-121.43</td>\n",
              "      <td>38.63</td>\n",
              "      <td>43.0</td>\n",
              "      <td>1009.0</td>\n",
              "      <td>225.0</td>\n",
              "      <td>604.0</td>\n",
              "      <td>218.0</td>\n",
              "      <td>1.6641</td>\n",
              "      <td>67000.0</td>\n",
              "      <td>INLAND</td>\n",
              "      <td>12771</td>\n",
              "      <td>0</td>\n",
              "      <td>0</td>\n",
              "    </tr>\n",
              "    <tr>\n",
              "      <th>12772</th>\n",
              "      <td>-121.42</td>\n",
              "      <td>34.26</td>\n",
              "      <td>29.0</td>\n",
              "      <td>2217.0</td>\n",
              "      <td>536.0</td>\n",
              "      <td>1203.0</td>\n",
              "      <td>507.0</td>\n",
              "      <td>1.9412</td>\n",
              "      <td>73100.0</td>\n",
              "      <td>INLAND</td>\n",
              "      <td>12772</td>\n",
              "      <td>0</td>\n",
              "      <td>1</td>\n",
              "    </tr>\n",
              "  </tbody>\n",
              "</table>\n",
              "<p>12773 rows × 13 columns</p>\n",
              "</div>"
            ],
            "text/plain": [
              "       longitude  latitude  housing_median_age  total_rooms  total_bedrooms  \\\n",
              "0        -122.23     37.88                41.0        880.0           129.0   \n",
              "1        -122.22     37.86                21.0       7099.0          1106.0   \n",
              "2        -122.24     37.85                52.0       1467.0           190.0   \n",
              "3        -122.25     37.85                52.0       1274.0           235.0   \n",
              "4        -122.25     37.85                52.0       1627.0           280.0   \n",
              "...          ...       ...                 ...          ...             ...   \n",
              "12768    -121.43     38.61                40.0       1134.0           252.0   \n",
              "12769    -121.42     38.62                41.0       1087.0           272.0   \n",
              "12770    -121.42     38.63                42.0       1385.0           273.0   \n",
              "12771    -121.43     38.63                43.0       1009.0           225.0   \n",
              "12772    -121.42     34.26                29.0       2217.0           536.0   \n",
              "\n",
              "       population  households  median_income  median_house_value  \\\n",
              "0           322.0       126.0         8.3252            452600.0   \n",
              "1          2401.0      1138.0         8.3014            358500.0   \n",
              "2           496.0       177.0         7.2574            352100.0   \n",
              "3           558.0       219.0         5.6431            341300.0   \n",
              "4           565.0       259.0         3.8462            342200.0   \n",
              "...           ...         ...            ...                 ...   \n",
              "12768       675.0       249.0         1.3696             65200.0   \n",
              "12769       462.0       219.0         2.0224             64900.0   \n",
              "12770       740.0       274.0         2.6055             78000.0   \n",
              "12771       604.0       218.0         1.6641             67000.0   \n",
              "12772      1203.0       507.0         1.9412             73100.0   \n",
              "\n",
              "      ocean_proximity     id  longitude_outlier  latitude_outlier  \n",
              "0            NEAR BAY      0                  0                 0  \n",
              "1            NEAR BAY      1                  0                 0  \n",
              "2            NEAR BAY      2                  0                 0  \n",
              "3            NEAR BAY      3                  0                 0  \n",
              "4            NEAR BAY      4                  0                 0  \n",
              "...               ...    ...                ...               ...  \n",
              "12768          INLAND  12768                  0                 0  \n",
              "12769          INLAND  12769                  0                 0  \n",
              "12770          INLAND  12770                  0                 0  \n",
              "12771          INLAND  12771                  0                 0  \n",
              "12772          INLAND  12772                  0                 1  \n",
              "\n",
              "[12773 rows x 13 columns]"
            ]
          },
          "execution_count": 408,
          "metadata": {},
          "output_type": "execute_result"
        }
      ],
      "source": [
        "#проверка: выбросы под индексами 12772 (был 1327,12 стал 34,26)\n",
        "df.head(12773)"
      ]
    },
    {
      "cell_type": "code",
      "execution_count": null,
      "id": "8ca0c8db",
      "metadata": {
        "scrolled": true,
        "id": "8ca0c8db",
        "outputId": "5ee99102-cc25-4fad-cbb9-586ebb263dfc"
      },
      "outputs": [
        {
          "data": {
            "text/html": [
              "<div>\n",
              "<style scoped>\n",
              "    .dataframe tbody tr th:only-of-type {\n",
              "        vertical-align: middle;\n",
              "    }\n",
              "\n",
              "    .dataframe tbody tr th {\n",
              "        vertical-align: top;\n",
              "    }\n",
              "\n",
              "    .dataframe thead th {\n",
              "        text-align: right;\n",
              "    }\n",
              "</style>\n",
              "<table border=\"1\" class=\"dataframe\">\n",
              "  <thead>\n",
              "    <tr style=\"text-align: right;\">\n",
              "      <th></th>\n",
              "      <th>longitude</th>\n",
              "      <th>latitude</th>\n",
              "      <th>housing_median_age</th>\n",
              "      <th>total_rooms</th>\n",
              "      <th>total_bedrooms</th>\n",
              "      <th>population</th>\n",
              "      <th>households</th>\n",
              "      <th>median_income</th>\n",
              "      <th>median_house_value</th>\n",
              "      <th>ocean_proximity</th>\n",
              "      <th>id</th>\n",
              "      <th>latitude_outlier</th>\n",
              "    </tr>\n",
              "  </thead>\n",
              "  <tbody>\n",
              "    <tr>\n",
              "      <th>0</th>\n",
              "      <td>-122.23</td>\n",
              "      <td>37.88</td>\n",
              "      <td>41.0</td>\n",
              "      <td>880.0</td>\n",
              "      <td>129.0</td>\n",
              "      <td>322.0</td>\n",
              "      <td>126.0</td>\n",
              "      <td>8.3252</td>\n",
              "      <td>452600.0</td>\n",
              "      <td>NEAR BAY</td>\n",
              "      <td>0</td>\n",
              "      <td>0</td>\n",
              "    </tr>\n",
              "    <tr>\n",
              "      <th>1</th>\n",
              "      <td>-122.22</td>\n",
              "      <td>37.86</td>\n",
              "      <td>21.0</td>\n",
              "      <td>7099.0</td>\n",
              "      <td>1106.0</td>\n",
              "      <td>2401.0</td>\n",
              "      <td>1138.0</td>\n",
              "      <td>8.3014</td>\n",
              "      <td>358500.0</td>\n",
              "      <td>NEAR BAY</td>\n",
              "      <td>1</td>\n",
              "      <td>0</td>\n",
              "    </tr>\n",
              "    <tr>\n",
              "      <th>2</th>\n",
              "      <td>-122.24</td>\n",
              "      <td>37.85</td>\n",
              "      <td>52.0</td>\n",
              "      <td>1467.0</td>\n",
              "      <td>190.0</td>\n",
              "      <td>496.0</td>\n",
              "      <td>177.0</td>\n",
              "      <td>7.2574</td>\n",
              "      <td>352100.0</td>\n",
              "      <td>NEAR BAY</td>\n",
              "      <td>2</td>\n",
              "      <td>0</td>\n",
              "    </tr>\n",
              "    <tr>\n",
              "      <th>3</th>\n",
              "      <td>-122.25</td>\n",
              "      <td>37.85</td>\n",
              "      <td>52.0</td>\n",
              "      <td>1274.0</td>\n",
              "      <td>235.0</td>\n",
              "      <td>558.0</td>\n",
              "      <td>219.0</td>\n",
              "      <td>5.6431</td>\n",
              "      <td>341300.0</td>\n",
              "      <td>NEAR BAY</td>\n",
              "      <td>3</td>\n",
              "      <td>0</td>\n",
              "    </tr>\n",
              "    <tr>\n",
              "      <th>4</th>\n",
              "      <td>-122.25</td>\n",
              "      <td>37.85</td>\n",
              "      <td>52.0</td>\n",
              "      <td>1627.0</td>\n",
              "      <td>280.0</td>\n",
              "      <td>565.0</td>\n",
              "      <td>259.0</td>\n",
              "      <td>3.8462</td>\n",
              "      <td>342200.0</td>\n",
              "      <td>NEAR BAY</td>\n",
              "      <td>4</td>\n",
              "      <td>0</td>\n",
              "    </tr>\n",
              "    <tr>\n",
              "      <th>...</th>\n",
              "      <td>...</td>\n",
              "      <td>...</td>\n",
              "      <td>...</td>\n",
              "      <td>...</td>\n",
              "      <td>...</td>\n",
              "      <td>...</td>\n",
              "      <td>...</td>\n",
              "      <td>...</td>\n",
              "      <td>...</td>\n",
              "      <td>...</td>\n",
              "      <td>...</td>\n",
              "      <td>...</td>\n",
              "    </tr>\n",
              "    <tr>\n",
              "      <th>12768</th>\n",
              "      <td>-121.43</td>\n",
              "      <td>38.61</td>\n",
              "      <td>40.0</td>\n",
              "      <td>1134.0</td>\n",
              "      <td>252.0</td>\n",
              "      <td>675.0</td>\n",
              "      <td>249.0</td>\n",
              "      <td>1.3696</td>\n",
              "      <td>65200.0</td>\n",
              "      <td>INLAND</td>\n",
              "      <td>12768</td>\n",
              "      <td>0</td>\n",
              "    </tr>\n",
              "    <tr>\n",
              "      <th>12769</th>\n",
              "      <td>-121.42</td>\n",
              "      <td>38.62</td>\n",
              "      <td>41.0</td>\n",
              "      <td>1087.0</td>\n",
              "      <td>272.0</td>\n",
              "      <td>462.0</td>\n",
              "      <td>219.0</td>\n",
              "      <td>2.0224</td>\n",
              "      <td>64900.0</td>\n",
              "      <td>INLAND</td>\n",
              "      <td>12769</td>\n",
              "      <td>0</td>\n",
              "    </tr>\n",
              "    <tr>\n",
              "      <th>12770</th>\n",
              "      <td>-121.42</td>\n",
              "      <td>38.63</td>\n",
              "      <td>42.0</td>\n",
              "      <td>1385.0</td>\n",
              "      <td>273.0</td>\n",
              "      <td>740.0</td>\n",
              "      <td>274.0</td>\n",
              "      <td>2.6055</td>\n",
              "      <td>78000.0</td>\n",
              "      <td>INLAND</td>\n",
              "      <td>12770</td>\n",
              "      <td>0</td>\n",
              "    </tr>\n",
              "    <tr>\n",
              "      <th>12771</th>\n",
              "      <td>-121.43</td>\n",
              "      <td>38.63</td>\n",
              "      <td>43.0</td>\n",
              "      <td>1009.0</td>\n",
              "      <td>225.0</td>\n",
              "      <td>604.0</td>\n",
              "      <td>218.0</td>\n",
              "      <td>1.6641</td>\n",
              "      <td>67000.0</td>\n",
              "      <td>INLAND</td>\n",
              "      <td>12771</td>\n",
              "      <td>0</td>\n",
              "    </tr>\n",
              "    <tr>\n",
              "      <th>12772</th>\n",
              "      <td>-121.42</td>\n",
              "      <td>34.26</td>\n",
              "      <td>29.0</td>\n",
              "      <td>2217.0</td>\n",
              "      <td>536.0</td>\n",
              "      <td>1203.0</td>\n",
              "      <td>507.0</td>\n",
              "      <td>1.9412</td>\n",
              "      <td>73100.0</td>\n",
              "      <td>INLAND</td>\n",
              "      <td>12772</td>\n",
              "      <td>1</td>\n",
              "    </tr>\n",
              "  </tbody>\n",
              "</table>\n",
              "<p>12773 rows × 12 columns</p>\n",
              "</div>"
            ],
            "text/plain": [
              "       longitude  latitude  housing_median_age  total_rooms  total_bedrooms  \\\n",
              "0        -122.23     37.88                41.0        880.0           129.0   \n",
              "1        -122.22     37.86                21.0       7099.0          1106.0   \n",
              "2        -122.24     37.85                52.0       1467.0           190.0   \n",
              "3        -122.25     37.85                52.0       1274.0           235.0   \n",
              "4        -122.25     37.85                52.0       1627.0           280.0   \n",
              "...          ...       ...                 ...          ...             ...   \n",
              "12768    -121.43     38.61                40.0       1134.0           252.0   \n",
              "12769    -121.42     38.62                41.0       1087.0           272.0   \n",
              "12770    -121.42     38.63                42.0       1385.0           273.0   \n",
              "12771    -121.43     38.63                43.0       1009.0           225.0   \n",
              "12772    -121.42     34.26                29.0       2217.0           536.0   \n",
              "\n",
              "       population  households  median_income  median_house_value  \\\n",
              "0           322.0       126.0         8.3252            452600.0   \n",
              "1          2401.0      1138.0         8.3014            358500.0   \n",
              "2           496.0       177.0         7.2574            352100.0   \n",
              "3           558.0       219.0         5.6431            341300.0   \n",
              "4           565.0       259.0         3.8462            342200.0   \n",
              "...           ...         ...            ...                 ...   \n",
              "12768       675.0       249.0         1.3696             65200.0   \n",
              "12769       462.0       219.0         2.0224             64900.0   \n",
              "12770       740.0       274.0         2.6055             78000.0   \n",
              "12771       604.0       218.0         1.6641             67000.0   \n",
              "12772      1203.0       507.0         1.9412             73100.0   \n",
              "\n",
              "      ocean_proximity     id  latitude_outlier  \n",
              "0            NEAR BAY      0                 0  \n",
              "1            NEAR BAY      1                 0  \n",
              "2            NEAR BAY      2                 0  \n",
              "3            NEAR BAY      3                 0  \n",
              "4            NEAR BAY      4                 0  \n",
              "...               ...    ...               ...  \n",
              "12768          INLAND  12768                 0  \n",
              "12769          INLAND  12769                 0  \n",
              "12770          INLAND  12770                 0  \n",
              "12771          INLAND  12771                 0  \n",
              "12772          INLAND  12772                 1  \n",
              "\n",
              "[12773 rows x 12 columns]"
            ]
          },
          "execution_count": 409,
          "metadata": {},
          "output_type": "execute_result"
        }
      ],
      "source": [
        "# исключаем колонку с признаком longitude_outlier,inplace=True-подтверждает запись данного действия в датефрейме\n",
        "df.drop(columns='longitude_outlier', inplace=True)\n",
        "df.head(12773)"
      ]
    },
    {
      "cell_type": "code",
      "execution_count": null,
      "id": "4370bfe7",
      "metadata": {
        "id": "4370bfe7",
        "outputId": "3c3b60b0-7e93-406e-d649-acdad7a94346"
      },
      "outputs": [
        {
          "data": {
            "text/html": [
              "<div>\n",
              "<style scoped>\n",
              "    .dataframe tbody tr th:only-of-type {\n",
              "        vertical-align: middle;\n",
              "    }\n",
              "\n",
              "    .dataframe tbody tr th {\n",
              "        vertical-align: top;\n",
              "    }\n",
              "\n",
              "    .dataframe thead th {\n",
              "        text-align: right;\n",
              "    }\n",
              "</style>\n",
              "<table border=\"1\" class=\"dataframe\">\n",
              "  <thead>\n",
              "    <tr style=\"text-align: right;\">\n",
              "      <th></th>\n",
              "      <th>longitude</th>\n",
              "      <th>latitude</th>\n",
              "      <th>housing_median_age</th>\n",
              "      <th>total_rooms</th>\n",
              "      <th>total_bedrooms</th>\n",
              "      <th>population</th>\n",
              "      <th>households</th>\n",
              "      <th>median_income</th>\n",
              "      <th>median_house_value</th>\n",
              "      <th>ocean_proximity</th>\n",
              "      <th>id</th>\n",
              "    </tr>\n",
              "  </thead>\n",
              "  <tbody>\n",
              "    <tr>\n",
              "      <th>0</th>\n",
              "      <td>-122.23</td>\n",
              "      <td>37.88</td>\n",
              "      <td>41.0</td>\n",
              "      <td>880.0</td>\n",
              "      <td>129.0</td>\n",
              "      <td>322.0</td>\n",
              "      <td>126.0</td>\n",
              "      <td>8.3252</td>\n",
              "      <td>452600.0</td>\n",
              "      <td>NEAR BAY</td>\n",
              "      <td>0</td>\n",
              "    </tr>\n",
              "    <tr>\n",
              "      <th>1</th>\n",
              "      <td>-122.22</td>\n",
              "      <td>37.86</td>\n",
              "      <td>21.0</td>\n",
              "      <td>7099.0</td>\n",
              "      <td>1106.0</td>\n",
              "      <td>2401.0</td>\n",
              "      <td>1138.0</td>\n",
              "      <td>8.3014</td>\n",
              "      <td>358500.0</td>\n",
              "      <td>NEAR BAY</td>\n",
              "      <td>1</td>\n",
              "    </tr>\n",
              "    <tr>\n",
              "      <th>2</th>\n",
              "      <td>-122.24</td>\n",
              "      <td>37.85</td>\n",
              "      <td>52.0</td>\n",
              "      <td>1467.0</td>\n",
              "      <td>190.0</td>\n",
              "      <td>496.0</td>\n",
              "      <td>177.0</td>\n",
              "      <td>7.2574</td>\n",
              "      <td>352100.0</td>\n",
              "      <td>NEAR BAY</td>\n",
              "      <td>2</td>\n",
              "    </tr>\n",
              "    <tr>\n",
              "      <th>3</th>\n",
              "      <td>-122.25</td>\n",
              "      <td>37.85</td>\n",
              "      <td>52.0</td>\n",
              "      <td>1274.0</td>\n",
              "      <td>235.0</td>\n",
              "      <td>558.0</td>\n",
              "      <td>219.0</td>\n",
              "      <td>5.6431</td>\n",
              "      <td>341300.0</td>\n",
              "      <td>NEAR BAY</td>\n",
              "      <td>3</td>\n",
              "    </tr>\n",
              "    <tr>\n",
              "      <th>4</th>\n",
              "      <td>-122.25</td>\n",
              "      <td>37.85</td>\n",
              "      <td>52.0</td>\n",
              "      <td>1627.0</td>\n",
              "      <td>280.0</td>\n",
              "      <td>565.0</td>\n",
              "      <td>259.0</td>\n",
              "      <td>3.8462</td>\n",
              "      <td>342200.0</td>\n",
              "      <td>NEAR BAY</td>\n",
              "      <td>4</td>\n",
              "    </tr>\n",
              "    <tr>\n",
              "      <th>...</th>\n",
              "      <td>...</td>\n",
              "      <td>...</td>\n",
              "      <td>...</td>\n",
              "      <td>...</td>\n",
              "      <td>...</td>\n",
              "      <td>...</td>\n",
              "      <td>...</td>\n",
              "      <td>...</td>\n",
              "      <td>...</td>\n",
              "      <td>...</td>\n",
              "      <td>...</td>\n",
              "    </tr>\n",
              "    <tr>\n",
              "      <th>12768</th>\n",
              "      <td>-121.43</td>\n",
              "      <td>38.61</td>\n",
              "      <td>40.0</td>\n",
              "      <td>1134.0</td>\n",
              "      <td>252.0</td>\n",
              "      <td>675.0</td>\n",
              "      <td>249.0</td>\n",
              "      <td>1.3696</td>\n",
              "      <td>65200.0</td>\n",
              "      <td>INLAND</td>\n",
              "      <td>12768</td>\n",
              "    </tr>\n",
              "    <tr>\n",
              "      <th>12769</th>\n",
              "      <td>-121.42</td>\n",
              "      <td>38.62</td>\n",
              "      <td>41.0</td>\n",
              "      <td>1087.0</td>\n",
              "      <td>272.0</td>\n",
              "      <td>462.0</td>\n",
              "      <td>219.0</td>\n",
              "      <td>2.0224</td>\n",
              "      <td>64900.0</td>\n",
              "      <td>INLAND</td>\n",
              "      <td>12769</td>\n",
              "    </tr>\n",
              "    <tr>\n",
              "      <th>12770</th>\n",
              "      <td>-121.42</td>\n",
              "      <td>38.63</td>\n",
              "      <td>42.0</td>\n",
              "      <td>1385.0</td>\n",
              "      <td>273.0</td>\n",
              "      <td>740.0</td>\n",
              "      <td>274.0</td>\n",
              "      <td>2.6055</td>\n",
              "      <td>78000.0</td>\n",
              "      <td>INLAND</td>\n",
              "      <td>12770</td>\n",
              "    </tr>\n",
              "    <tr>\n",
              "      <th>12771</th>\n",
              "      <td>-121.43</td>\n",
              "      <td>38.63</td>\n",
              "      <td>43.0</td>\n",
              "      <td>1009.0</td>\n",
              "      <td>225.0</td>\n",
              "      <td>604.0</td>\n",
              "      <td>218.0</td>\n",
              "      <td>1.6641</td>\n",
              "      <td>67000.0</td>\n",
              "      <td>INLAND</td>\n",
              "      <td>12771</td>\n",
              "    </tr>\n",
              "    <tr>\n",
              "      <th>12772</th>\n",
              "      <td>-121.42</td>\n",
              "      <td>34.26</td>\n",
              "      <td>29.0</td>\n",
              "      <td>2217.0</td>\n",
              "      <td>536.0</td>\n",
              "      <td>1203.0</td>\n",
              "      <td>507.0</td>\n",
              "      <td>1.9412</td>\n",
              "      <td>73100.0</td>\n",
              "      <td>INLAND</td>\n",
              "      <td>12772</td>\n",
              "    </tr>\n",
              "  </tbody>\n",
              "</table>\n",
              "<p>12773 rows × 11 columns</p>\n",
              "</div>"
            ],
            "text/plain": [
              "       longitude  latitude  housing_median_age  total_rooms  total_bedrooms  \\\n",
              "0        -122.23     37.88                41.0        880.0           129.0   \n",
              "1        -122.22     37.86                21.0       7099.0          1106.0   \n",
              "2        -122.24     37.85                52.0       1467.0           190.0   \n",
              "3        -122.25     37.85                52.0       1274.0           235.0   \n",
              "4        -122.25     37.85                52.0       1627.0           280.0   \n",
              "...          ...       ...                 ...          ...             ...   \n",
              "12768    -121.43     38.61                40.0       1134.0           252.0   \n",
              "12769    -121.42     38.62                41.0       1087.0           272.0   \n",
              "12770    -121.42     38.63                42.0       1385.0           273.0   \n",
              "12771    -121.43     38.63                43.0       1009.0           225.0   \n",
              "12772    -121.42     34.26                29.0       2217.0           536.0   \n",
              "\n",
              "       population  households  median_income  median_house_value  \\\n",
              "0           322.0       126.0         8.3252            452600.0   \n",
              "1          2401.0      1138.0         8.3014            358500.0   \n",
              "2           496.0       177.0         7.2574            352100.0   \n",
              "3           558.0       219.0         5.6431            341300.0   \n",
              "4           565.0       259.0         3.8462            342200.0   \n",
              "...           ...         ...            ...                 ...   \n",
              "12768       675.0       249.0         1.3696             65200.0   \n",
              "12769       462.0       219.0         2.0224             64900.0   \n",
              "12770       740.0       274.0         2.6055             78000.0   \n",
              "12771       604.0       218.0         1.6641             67000.0   \n",
              "12772      1203.0       507.0         1.9412             73100.0   \n",
              "\n",
              "      ocean_proximity     id  \n",
              "0            NEAR BAY      0  \n",
              "1            NEAR BAY      1  \n",
              "2            NEAR BAY      2  \n",
              "3            NEAR BAY      3  \n",
              "4            NEAR BAY      4  \n",
              "...               ...    ...  \n",
              "12768          INLAND  12768  \n",
              "12769          INLAND  12769  \n",
              "12770          INLAND  12770  \n",
              "12771          INLAND  12771  \n",
              "12772          INLAND  12772  \n",
              "\n",
              "[12773 rows x 11 columns]"
            ]
          },
          "execution_count": 410,
          "metadata": {},
          "output_type": "execute_result"
        }
      ],
      "source": [
        "# исключаем колонку с признаком latitude_outlier,inplace=True-подтверждает запись данного действия в датефрейме\n",
        "df.drop(columns='latitude_outlier', inplace=True)\n",
        "df.head(12773)"
      ]
    },
    {
      "cell_type": "markdown",
      "id": "011cb130",
      "metadata": {
        "id": "011cb130"
      },
      "source": [
        "total_bedrooms\n",
        "Найдем выбросы с помощью квантилей. Наблюдения, значения которых больше 97,5% квантиля и которые меньше 2,5% квантиля будем считать выбросами и заменять на медиану."
      ]
    },
    {
      "cell_type": "code",
      "execution_count": null,
      "id": "3f8a159f",
      "metadata": {
        "id": "3f8a159f",
        "outputId": "ca404e85-67b2-4b1e-8fad-8e3f9f14a2e0"
      },
      "outputs": [
        {
          "data": {
            "text/plain": [
              "count    20640.000000\n",
              "mean       536.838857\n",
              "std        419.391878\n",
              "min          1.000000\n",
              "25%        297.000000\n",
              "50%        435.000000\n",
              "75%        643.250000\n",
              "max       6445.000000\n",
              "Name: total_bedrooms, dtype: float64"
            ]
          },
          "execution_count": 411,
          "metadata": {},
          "output_type": "execute_result"
        }
      ],
      "source": [
        "df['total_bedrooms'].describe()"
      ]
    },
    {
      "cell_type": "code",
      "execution_count": null,
      "id": "4245a508",
      "metadata": {
        "id": "4245a508",
        "outputId": "349e25e6-81ba-446d-dcef-5101c198c626"
      },
      "outputs": [
        {
          "data": {
            "text/plain": [
              "1612.0499999999956"
            ]
          },
          "execution_count": 412,
          "metadata": {},
          "output_type": "execute_result"
        }
      ],
      "source": [
        "#Найдем максимальное значение соответствующее 97,5% квантилю\n",
        "total_bedrooms_max_value = np.quantile(df['total_bedrooms'], q=0.975)\n",
        "total_bedrooms_max_value"
      ]
    },
    {
      "cell_type": "code",
      "execution_count": null,
      "id": "3159e4db",
      "metadata": {
        "id": "3159e4db",
        "outputId": "ff2a7bb7-ae28-4607-df8a-58a3b45a26d0"
      },
      "outputs": [
        {
          "data": {
            "text/plain": [
              "84.0"
            ]
          },
          "execution_count": 413,
          "metadata": {},
          "output_type": "execute_result"
        }
      ],
      "source": [
        "# Найдем минимальное значение соответствующее 2,5% квантилю\n",
        "total_bedrooms_min_value = np.quantile(df['total_bedrooms'], q=0.025)\n",
        "total_bedrooms_min_value"
      ]
    },
    {
      "cell_type": "code",
      "execution_count": null,
      "id": "469ae032",
      "metadata": {
        "id": "469ae032",
        "outputId": "73a8cc12-e257-4e66-c0e2-dde572ee9acd"
      },
      "outputs": [
        {
          "data": {
            "text/html": [
              "<div>\n",
              "<style scoped>\n",
              "    .dataframe tbody tr th:only-of-type {\n",
              "        vertical-align: middle;\n",
              "    }\n",
              "\n",
              "    .dataframe tbody tr th {\n",
              "        vertical-align: top;\n",
              "    }\n",
              "\n",
              "    .dataframe thead th {\n",
              "        text-align: right;\n",
              "    }\n",
              "</style>\n",
              "<table border=\"1\" class=\"dataframe\">\n",
              "  <thead>\n",
              "    <tr style=\"text-align: right;\">\n",
              "      <th></th>\n",
              "      <th>longitude</th>\n",
              "      <th>latitude</th>\n",
              "      <th>housing_median_age</th>\n",
              "      <th>total_rooms</th>\n",
              "      <th>total_bedrooms</th>\n",
              "      <th>population</th>\n",
              "      <th>households</th>\n",
              "      <th>median_income</th>\n",
              "      <th>median_house_value</th>\n",
              "      <th>ocean_proximity</th>\n",
              "      <th>id</th>\n",
              "    </tr>\n",
              "  </thead>\n",
              "  <tbody>\n",
              "    <tr>\n",
              "      <th>59</th>\n",
              "      <td>-122.29</td>\n",
              "      <td>37.82</td>\n",
              "      <td>2.0</td>\n",
              "      <td>158.0</td>\n",
              "      <td>43.0</td>\n",
              "      <td>94.0</td>\n",
              "      <td>57.0</td>\n",
              "      <td>2.5625</td>\n",
              "      <td>60000.0</td>\n",
              "      <td>NEAR BAY</td>\n",
              "      <td>59</td>\n",
              "    </tr>\n",
              "    <tr>\n",
              "      <th>61</th>\n",
              "      <td>-122.29</td>\n",
              "      <td>37.82</td>\n",
              "      <td>49.0</td>\n",
              "      <td>135.0</td>\n",
              "      <td>29.0</td>\n",
              "      <td>86.0</td>\n",
              "      <td>23.0</td>\n",
              "      <td>6.1183</td>\n",
              "      <td>75000.0</td>\n",
              "      <td>NEAR BAY</td>\n",
              "      <td>61</td>\n",
              "    </tr>\n",
              "    <tr>\n",
              "      <th>73</th>\n",
              "      <td>-122.29</td>\n",
              "      <td>37.81</td>\n",
              "      <td>46.0</td>\n",
              "      <td>12.0</td>\n",
              "      <td>4.0</td>\n",
              "      <td>18.0</td>\n",
              "      <td>7.0</td>\n",
              "      <td>0.4999</td>\n",
              "      <td>67500.0</td>\n",
              "      <td>NEAR BAY</td>\n",
              "      <td>73</td>\n",
              "    </tr>\n",
              "    <tr>\n",
              "      <th>81</th>\n",
              "      <td>-122.27</td>\n",
              "      <td>37.81</td>\n",
              "      <td>52.0</td>\n",
              "      <td>210.0</td>\n",
              "      <td>56.0</td>\n",
              "      <td>183.0</td>\n",
              "      <td>56.0</td>\n",
              "      <td>1.1667</td>\n",
              "      <td>112500.0</td>\n",
              "      <td>NEAR BAY</td>\n",
              "      <td>81</td>\n",
              "    </tr>\n",
              "    <tr>\n",
              "      <th>88</th>\n",
              "      <td>-122.27</td>\n",
              "      <td>37.80</td>\n",
              "      <td>10.0</td>\n",
              "      <td>105.0</td>\n",
              "      <td>42.0</td>\n",
              "      <td>125.0</td>\n",
              "      <td>39.0</td>\n",
              "      <td>0.9722</td>\n",
              "      <td>137500.0</td>\n",
              "      <td>NEAR BAY</td>\n",
              "      <td>88</td>\n",
              "    </tr>\n",
              "    <tr>\n",
              "      <th>...</th>\n",
              "      <td>...</td>\n",
              "      <td>...</td>\n",
              "      <td>...</td>\n",
              "      <td>...</td>\n",
              "      <td>...</td>\n",
              "      <td>...</td>\n",
              "      <td>...</td>\n",
              "      <td>...</td>\n",
              "      <td>...</td>\n",
              "      <td>...</td>\n",
              "      <td>...</td>\n",
              "    </tr>\n",
              "    <tr>\n",
              "      <th>20583</th>\n",
              "      <td>-122.00</td>\n",
              "      <td>38.73</td>\n",
              "      <td>31.0</td>\n",
              "      <td>371.0</td>\n",
              "      <td>74.0</td>\n",
              "      <td>208.0</td>\n",
              "      <td>84.0</td>\n",
              "      <td>3.8750</td>\n",
              "      <td>137500.0</td>\n",
              "      <td>INLAND</td>\n",
              "      <td>20583</td>\n",
              "    </tr>\n",
              "    <tr>\n",
              "      <th>20620</th>\n",
              "      <td>-121.48</td>\n",
              "      <td>39.05</td>\n",
              "      <td>40.0</td>\n",
              "      <td>198.0</td>\n",
              "      <td>41.0</td>\n",
              "      <td>151.0</td>\n",
              "      <td>48.0</td>\n",
              "      <td>4.5625</td>\n",
              "      <td>100000.0</td>\n",
              "      <td>INLAND</td>\n",
              "      <td>20620</td>\n",
              "    </tr>\n",
              "    <tr>\n",
              "      <th>20625</th>\n",
              "      <td>-121.52</td>\n",
              "      <td>39.12</td>\n",
              "      <td>37.0</td>\n",
              "      <td>102.0</td>\n",
              "      <td>17.0</td>\n",
              "      <td>29.0</td>\n",
              "      <td>14.0</td>\n",
              "      <td>4.1250</td>\n",
              "      <td>72000.0</td>\n",
              "      <td>INLAND</td>\n",
              "      <td>20625</td>\n",
              "    </tr>\n",
              "    <tr>\n",
              "      <th>20627</th>\n",
              "      <td>-121.32</td>\n",
              "      <td>39.13</td>\n",
              "      <td>5.0</td>\n",
              "      <td>358.0</td>\n",
              "      <td>65.0</td>\n",
              "      <td>169.0</td>\n",
              "      <td>59.0</td>\n",
              "      <td>3.0000</td>\n",
              "      <td>162500.0</td>\n",
              "      <td>INLAND</td>\n",
              "      <td>20627</td>\n",
              "    </tr>\n",
              "    <tr>\n",
              "      <th>20629</th>\n",
              "      <td>-121.39</td>\n",
              "      <td>39.12</td>\n",
              "      <td>28.0</td>\n",
              "      <td>10035.0</td>\n",
              "      <td>1856.0</td>\n",
              "      <td>6912.0</td>\n",
              "      <td>1818.0</td>\n",
              "      <td>2.0943</td>\n",
              "      <td>108300.0</td>\n",
              "      <td>INLAND</td>\n",
              "      <td>20629</td>\n",
              "    </tr>\n",
              "  </tbody>\n",
              "</table>\n",
              "<p>1030 rows × 11 columns</p>\n",
              "</div>"
            ],
            "text/plain": [
              "       longitude  latitude  housing_median_age  total_rooms  total_bedrooms  \\\n",
              "59       -122.29     37.82                 2.0        158.0            43.0   \n",
              "61       -122.29     37.82                49.0        135.0            29.0   \n",
              "73       -122.29     37.81                46.0         12.0             4.0   \n",
              "81       -122.27     37.81                52.0        210.0            56.0   \n",
              "88       -122.27     37.80                10.0        105.0            42.0   \n",
              "...          ...       ...                 ...          ...             ...   \n",
              "20583    -122.00     38.73                31.0        371.0            74.0   \n",
              "20620    -121.48     39.05                40.0        198.0            41.0   \n",
              "20625    -121.52     39.12                37.0        102.0            17.0   \n",
              "20627    -121.32     39.13                 5.0        358.0            65.0   \n",
              "20629    -121.39     39.12                28.0      10035.0          1856.0   \n",
              "\n",
              "       population  households  median_income  median_house_value  \\\n",
              "59           94.0        57.0         2.5625             60000.0   \n",
              "61           86.0        23.0         6.1183             75000.0   \n",
              "73           18.0         7.0         0.4999             67500.0   \n",
              "81          183.0        56.0         1.1667            112500.0   \n",
              "88          125.0        39.0         0.9722            137500.0   \n",
              "...           ...         ...            ...                 ...   \n",
              "20583       208.0        84.0         3.8750            137500.0   \n",
              "20620       151.0        48.0         4.5625            100000.0   \n",
              "20625        29.0        14.0         4.1250             72000.0   \n",
              "20627       169.0        59.0         3.0000            162500.0   \n",
              "20629      6912.0      1818.0         2.0943            108300.0   \n",
              "\n",
              "      ocean_proximity     id  \n",
              "59           NEAR BAY     59  \n",
              "61           NEAR BAY     61  \n",
              "73           NEAR BAY     73  \n",
              "81           NEAR BAY     81  \n",
              "88           NEAR BAY     88  \n",
              "...               ...    ...  \n",
              "20583          INLAND  20583  \n",
              "20620          INLAND  20620  \n",
              "20625          INLAND  20625  \n",
              "20627          INLAND  20627  \n",
              "20629          INLAND  20629  \n",
              "\n",
              "[1030 rows x 11 columns]"
            ]
          },
          "execution_count": 414,
          "metadata": {},
          "output_type": "execute_result"
        }
      ],
      "source": [
        "#введем переменную condition, которая > мах значений и меньше min значений и запишем их как признак в датафрейме\n",
        "condition = (df['total_bedrooms'] > total_bedrooms_max_value) | (df['total_bedrooms'] < total_bedrooms_min_value)\n",
        "df[condition]"
      ]
    },
    {
      "cell_type": "code",
      "execution_count": null,
      "id": "b2ce691c",
      "metadata": {
        "id": "b2ce691c",
        "outputId": "1af42545-369c-49cf-c49e-8b7ea78f87a5"
      },
      "outputs": [
        {
          "data": {
            "text/plain": [
              "count    20640.000000\n",
              "mean       499.813808\n",
              "std        275.894753\n",
              "min         84.000000\n",
              "25%        311.000000\n",
              "50%        435.000000\n",
              "75%        615.000000\n",
              "max       1612.000000\n",
              "Name: total_bedrooms, dtype: float64"
            ]
          },
          "execution_count": 415,
          "metadata": {},
          "output_type": "execute_result"
        }
      ],
      "source": [
        "#значения > мах и < min заменили на медиану total_bedrooms\n",
        "df.loc[condition, 'total_bedrooms'] = df['total_bedrooms'].median()\n",
        "df['total_bedrooms'].describe()"
      ]
    },
    {
      "cell_type": "code",
      "execution_count": null,
      "id": "919c21ab",
      "metadata": {
        "id": "919c21ab",
        "outputId": "cafe4801-629f-4e7e-ea58-2c9935a97a21"
      },
      "outputs": [
        {
          "data": {
            "text/html": [
              "<div>\n",
              "<style scoped>\n",
              "    .dataframe tbody tr th:only-of-type {\n",
              "        vertical-align: middle;\n",
              "    }\n",
              "\n",
              "    .dataframe tbody tr th {\n",
              "        vertical-align: top;\n",
              "    }\n",
              "\n",
              "    .dataframe thead th {\n",
              "        text-align: right;\n",
              "    }\n",
              "</style>\n",
              "<table border=\"1\" class=\"dataframe\">\n",
              "  <thead>\n",
              "    <tr style=\"text-align: right;\">\n",
              "      <th></th>\n",
              "      <th>longitude</th>\n",
              "      <th>latitude</th>\n",
              "      <th>housing_median_age</th>\n",
              "      <th>total_rooms</th>\n",
              "      <th>total_bedrooms</th>\n",
              "      <th>population</th>\n",
              "      <th>households</th>\n",
              "      <th>median_income</th>\n",
              "      <th>median_house_value</th>\n",
              "      <th>ocean_proximity</th>\n",
              "      <th>id</th>\n",
              "    </tr>\n",
              "  </thead>\n",
              "  <tbody>\n",
              "    <tr>\n",
              "      <th>0</th>\n",
              "      <td>-122.23</td>\n",
              "      <td>37.88</td>\n",
              "      <td>41.0</td>\n",
              "      <td>880.0</td>\n",
              "      <td>129.0</td>\n",
              "      <td>322.0</td>\n",
              "      <td>126.0</td>\n",
              "      <td>8.3252</td>\n",
              "      <td>452600.0</td>\n",
              "      <td>NEAR BAY</td>\n",
              "      <td>0</td>\n",
              "    </tr>\n",
              "    <tr>\n",
              "      <th>1</th>\n",
              "      <td>-122.22</td>\n",
              "      <td>37.86</td>\n",
              "      <td>21.0</td>\n",
              "      <td>7099.0</td>\n",
              "      <td>1106.0</td>\n",
              "      <td>2401.0</td>\n",
              "      <td>1138.0</td>\n",
              "      <td>8.3014</td>\n",
              "      <td>358500.0</td>\n",
              "      <td>NEAR BAY</td>\n",
              "      <td>1</td>\n",
              "    </tr>\n",
              "    <tr>\n",
              "      <th>2</th>\n",
              "      <td>-122.24</td>\n",
              "      <td>37.85</td>\n",
              "      <td>52.0</td>\n",
              "      <td>1467.0</td>\n",
              "      <td>190.0</td>\n",
              "      <td>496.0</td>\n",
              "      <td>177.0</td>\n",
              "      <td>7.2574</td>\n",
              "      <td>352100.0</td>\n",
              "      <td>NEAR BAY</td>\n",
              "      <td>2</td>\n",
              "    </tr>\n",
              "    <tr>\n",
              "      <th>3</th>\n",
              "      <td>-122.25</td>\n",
              "      <td>37.85</td>\n",
              "      <td>52.0</td>\n",
              "      <td>1274.0</td>\n",
              "      <td>235.0</td>\n",
              "      <td>558.0</td>\n",
              "      <td>219.0</td>\n",
              "      <td>5.6431</td>\n",
              "      <td>341300.0</td>\n",
              "      <td>NEAR BAY</td>\n",
              "      <td>3</td>\n",
              "    </tr>\n",
              "    <tr>\n",
              "      <th>4</th>\n",
              "      <td>-122.25</td>\n",
              "      <td>37.85</td>\n",
              "      <td>52.0</td>\n",
              "      <td>1627.0</td>\n",
              "      <td>280.0</td>\n",
              "      <td>565.0</td>\n",
              "      <td>259.0</td>\n",
              "      <td>3.8462</td>\n",
              "      <td>342200.0</td>\n",
              "      <td>NEAR BAY</td>\n",
              "      <td>4</td>\n",
              "    </tr>\n",
              "    <tr>\n",
              "      <th>...</th>\n",
              "      <td>...</td>\n",
              "      <td>...</td>\n",
              "      <td>...</td>\n",
              "      <td>...</td>\n",
              "      <td>...</td>\n",
              "      <td>...</td>\n",
              "      <td>...</td>\n",
              "      <td>...</td>\n",
              "      <td>...</td>\n",
              "      <td>...</td>\n",
              "      <td>...</td>\n",
              "    </tr>\n",
              "    <tr>\n",
              "      <th>20635</th>\n",
              "      <td>-121.09</td>\n",
              "      <td>39.48</td>\n",
              "      <td>25.0</td>\n",
              "      <td>1665.0</td>\n",
              "      <td>374.0</td>\n",
              "      <td>845.0</td>\n",
              "      <td>330.0</td>\n",
              "      <td>1.5603</td>\n",
              "      <td>78100.0</td>\n",
              "      <td>INLAND</td>\n",
              "      <td>20635</td>\n",
              "    </tr>\n",
              "    <tr>\n",
              "      <th>20636</th>\n",
              "      <td>-121.21</td>\n",
              "      <td>39.49</td>\n",
              "      <td>18.0</td>\n",
              "      <td>697.0</td>\n",
              "      <td>150.0</td>\n",
              "      <td>356.0</td>\n",
              "      <td>114.0</td>\n",
              "      <td>2.5568</td>\n",
              "      <td>77100.0</td>\n",
              "      <td>INLAND</td>\n",
              "      <td>20636</td>\n",
              "    </tr>\n",
              "    <tr>\n",
              "      <th>20637</th>\n",
              "      <td>-121.22</td>\n",
              "      <td>39.43</td>\n",
              "      <td>17.0</td>\n",
              "      <td>2254.0</td>\n",
              "      <td>485.0</td>\n",
              "      <td>1165.0</td>\n",
              "      <td>433.0</td>\n",
              "      <td>1.7000</td>\n",
              "      <td>92300.0</td>\n",
              "      <td>INLAND</td>\n",
              "      <td>20637</td>\n",
              "    </tr>\n",
              "    <tr>\n",
              "      <th>20638</th>\n",
              "      <td>-121.32</td>\n",
              "      <td>39.43</td>\n",
              "      <td>18.0</td>\n",
              "      <td>1860.0</td>\n",
              "      <td>409.0</td>\n",
              "      <td>741.0</td>\n",
              "      <td>349.0</td>\n",
              "      <td>1.8672</td>\n",
              "      <td>84700.0</td>\n",
              "      <td>INLAND</td>\n",
              "      <td>20638</td>\n",
              "    </tr>\n",
              "    <tr>\n",
              "      <th>20639</th>\n",
              "      <td>-121.24</td>\n",
              "      <td>39.37</td>\n",
              "      <td>16.0</td>\n",
              "      <td>2785.0</td>\n",
              "      <td>616.0</td>\n",
              "      <td>1387.0</td>\n",
              "      <td>530.0</td>\n",
              "      <td>2.3886</td>\n",
              "      <td>89400.0</td>\n",
              "      <td>INLAND</td>\n",
              "      <td>20639</td>\n",
              "    </tr>\n",
              "  </tbody>\n",
              "</table>\n",
              "<p>20640 rows × 11 columns</p>\n",
              "</div>"
            ],
            "text/plain": [
              "       longitude  latitude  housing_median_age  total_rooms  total_bedrooms  \\\n",
              "0        -122.23     37.88                41.0        880.0           129.0   \n",
              "1        -122.22     37.86                21.0       7099.0          1106.0   \n",
              "2        -122.24     37.85                52.0       1467.0           190.0   \n",
              "3        -122.25     37.85                52.0       1274.0           235.0   \n",
              "4        -122.25     37.85                52.0       1627.0           280.0   \n",
              "...          ...       ...                 ...          ...             ...   \n",
              "20635    -121.09     39.48                25.0       1665.0           374.0   \n",
              "20636    -121.21     39.49                18.0        697.0           150.0   \n",
              "20637    -121.22     39.43                17.0       2254.0           485.0   \n",
              "20638    -121.32     39.43                18.0       1860.0           409.0   \n",
              "20639    -121.24     39.37                16.0       2785.0           616.0   \n",
              "\n",
              "       population  households  median_income  median_house_value  \\\n",
              "0           322.0       126.0         8.3252            452600.0   \n",
              "1          2401.0      1138.0         8.3014            358500.0   \n",
              "2           496.0       177.0         7.2574            352100.0   \n",
              "3           558.0       219.0         5.6431            341300.0   \n",
              "4           565.0       259.0         3.8462            342200.0   \n",
              "...           ...         ...            ...                 ...   \n",
              "20635       845.0       330.0         1.5603             78100.0   \n",
              "20636       356.0       114.0         2.5568             77100.0   \n",
              "20637      1165.0       433.0         1.7000             92300.0   \n",
              "20638       741.0       349.0         1.8672             84700.0   \n",
              "20639      1387.0       530.0         2.3886             89400.0   \n",
              "\n",
              "      ocean_proximity     id  \n",
              "0            NEAR BAY      0  \n",
              "1            NEAR BAY      1  \n",
              "2            NEAR BAY      2  \n",
              "3            NEAR BAY      3  \n",
              "4            NEAR BAY      4  \n",
              "...               ...    ...  \n",
              "20635          INLAND  20635  \n",
              "20636          INLAND  20636  \n",
              "20637          INLAND  20637  \n",
              "20638          INLAND  20638  \n",
              "20639          INLAND  20639  \n",
              "\n",
              "[20640 rows x 11 columns]"
            ]
          },
          "execution_count": 416,
          "metadata": {},
          "output_type": "execute_result"
        }
      ],
      "source": [
        "df"
      ]
    },
    {
      "cell_type": "markdown",
      "id": "26a5b903",
      "metadata": {
        "id": "26a5b903"
      },
      "source": [
        "households\n",
        "Найдем выбросы с помощью квантилей. Наблюдения, значения которых больше 97,5% квантиля и которые меньше 2,5% квантиля будем считать выбросами и заменять на медиану."
      ]
    },
    {
      "cell_type": "code",
      "execution_count": null,
      "id": "951fd514",
      "metadata": {
        "id": "951fd514",
        "outputId": "4dbbccdd-f490-4976-8cbc-261c6fba7e56"
      },
      "outputs": [
        {
          "data": {
            "text/plain": [
              "count    20640.000000\n",
              "mean       499.539680\n",
              "std        382.329753\n",
              "min          1.000000\n",
              "25%        280.000000\n",
              "50%        409.000000\n",
              "75%        605.000000\n",
              "max       6082.000000\n",
              "Name: households, dtype: float64"
            ]
          },
          "execution_count": 417,
          "metadata": {},
          "output_type": "execute_result"
        }
      ],
      "source": [
        "df['households'].describe()"
      ]
    },
    {
      "cell_type": "code",
      "execution_count": null,
      "id": "f54c4d7d",
      "metadata": {
        "id": "f54c4d7d",
        "outputId": "85743b5a-17a1-4df7-e452-047683573103"
      },
      "outputs": [
        {
          "data": {
            "text/plain": [
              "1483.0"
            ]
          },
          "execution_count": 418,
          "metadata": {},
          "output_type": "execute_result"
        }
      ],
      "source": [
        "households_max_value = np.quantile(df['households'], q=0.975)\n",
        "households_max_value"
      ]
    },
    {
      "cell_type": "code",
      "execution_count": null,
      "id": "6408bf22",
      "metadata": {
        "id": "6408bf22",
        "outputId": "8b3c5f64-a497-4aed-cf96-e9b079aff234"
      },
      "outputs": [
        {
          "data": {
            "text/plain": [
              "72.0"
            ]
          },
          "execution_count": 419,
          "metadata": {},
          "output_type": "execute_result"
        }
      ],
      "source": [
        "households_min_value = np.quantile(df['households'], q=0.025)\n",
        "households_min_value"
      ]
    },
    {
      "cell_type": "code",
      "execution_count": null,
      "id": "599c0ac8",
      "metadata": {
        "id": "599c0ac8",
        "outputId": "d0116452-ca12-4d61-94be-93284a0a862c"
      },
      "outputs": [
        {
          "data": {
            "text/html": [
              "<div>\n",
              "<style scoped>\n",
              "    .dataframe tbody tr th:only-of-type {\n",
              "        vertical-align: middle;\n",
              "    }\n",
              "\n",
              "    .dataframe tbody tr th {\n",
              "        vertical-align: top;\n",
              "    }\n",
              "\n",
              "    .dataframe thead th {\n",
              "        text-align: right;\n",
              "    }\n",
              "</style>\n",
              "<table border=\"1\" class=\"dataframe\">\n",
              "  <thead>\n",
              "    <tr style=\"text-align: right;\">\n",
              "      <th></th>\n",
              "      <th>longitude</th>\n",
              "      <th>latitude</th>\n",
              "      <th>housing_median_age</th>\n",
              "      <th>total_rooms</th>\n",
              "      <th>total_bedrooms</th>\n",
              "      <th>population</th>\n",
              "      <th>households</th>\n",
              "      <th>median_income</th>\n",
              "      <th>median_house_value</th>\n",
              "      <th>ocean_proximity</th>\n",
              "      <th>id</th>\n",
              "    </tr>\n",
              "  </thead>\n",
              "  <tbody>\n",
              "    <tr>\n",
              "      <th>59</th>\n",
              "      <td>-122.29</td>\n",
              "      <td>37.82</td>\n",
              "      <td>2.0</td>\n",
              "      <td>158.0</td>\n",
              "      <td>435.0</td>\n",
              "      <td>94.0</td>\n",
              "      <td>57.0</td>\n",
              "      <td>2.5625</td>\n",
              "      <td>60000.0</td>\n",
              "      <td>NEAR BAY</td>\n",
              "      <td>59</td>\n",
              "    </tr>\n",
              "    <tr>\n",
              "      <th>61</th>\n",
              "      <td>-122.29</td>\n",
              "      <td>37.82</td>\n",
              "      <td>49.0</td>\n",
              "      <td>135.0</td>\n",
              "      <td>435.0</td>\n",
              "      <td>86.0</td>\n",
              "      <td>23.0</td>\n",
              "      <td>6.1183</td>\n",
              "      <td>75000.0</td>\n",
              "      <td>NEAR BAY</td>\n",
              "      <td>61</td>\n",
              "    </tr>\n",
              "    <tr>\n",
              "      <th>73</th>\n",
              "      <td>-122.29</td>\n",
              "      <td>37.81</td>\n",
              "      <td>46.0</td>\n",
              "      <td>12.0</td>\n",
              "      <td>435.0</td>\n",
              "      <td>18.0</td>\n",
              "      <td>7.0</td>\n",
              "      <td>0.4999</td>\n",
              "      <td>67500.0</td>\n",
              "      <td>NEAR BAY</td>\n",
              "      <td>73</td>\n",
              "    </tr>\n",
              "    <tr>\n",
              "      <th>81</th>\n",
              "      <td>-122.27</td>\n",
              "      <td>37.81</td>\n",
              "      <td>52.0</td>\n",
              "      <td>210.0</td>\n",
              "      <td>435.0</td>\n",
              "      <td>183.0</td>\n",
              "      <td>56.0</td>\n",
              "      <td>1.1667</td>\n",
              "      <td>112500.0</td>\n",
              "      <td>NEAR BAY</td>\n",
              "      <td>81</td>\n",
              "    </tr>\n",
              "    <tr>\n",
              "      <th>88</th>\n",
              "      <td>-122.27</td>\n",
              "      <td>37.80</td>\n",
              "      <td>10.0</td>\n",
              "      <td>105.0</td>\n",
              "      <td>435.0</td>\n",
              "      <td>125.0</td>\n",
              "      <td>39.0</td>\n",
              "      <td>0.9722</td>\n",
              "      <td>137500.0</td>\n",
              "      <td>NEAR BAY</td>\n",
              "      <td>88</td>\n",
              "    </tr>\n",
              "    <tr>\n",
              "      <th>...</th>\n",
              "      <td>...</td>\n",
              "      <td>...</td>\n",
              "      <td>...</td>\n",
              "      <td>...</td>\n",
              "      <td>...</td>\n",
              "      <td>...</td>\n",
              "      <td>...</td>\n",
              "      <td>...</td>\n",
              "      <td>...</td>\n",
              "      <td>...</td>\n",
              "      <td>...</td>\n",
              "    </tr>\n",
              "    <tr>\n",
              "      <th>20578</th>\n",
              "      <td>-121.81</td>\n",
              "      <td>38.84</td>\n",
              "      <td>37.0</td>\n",
              "      <td>352.0</td>\n",
              "      <td>435.0</td>\n",
              "      <td>238.0</td>\n",
              "      <td>67.0</td>\n",
              "      <td>2.8542</td>\n",
              "      <td>275000.0</td>\n",
              "      <td>INLAND</td>\n",
              "      <td>20578</td>\n",
              "    </tr>\n",
              "    <tr>\n",
              "      <th>20620</th>\n",
              "      <td>-121.48</td>\n",
              "      <td>39.05</td>\n",
              "      <td>40.0</td>\n",
              "      <td>198.0</td>\n",
              "      <td>435.0</td>\n",
              "      <td>151.0</td>\n",
              "      <td>48.0</td>\n",
              "      <td>4.5625</td>\n",
              "      <td>100000.0</td>\n",
              "      <td>INLAND</td>\n",
              "      <td>20620</td>\n",
              "    </tr>\n",
              "    <tr>\n",
              "      <th>20625</th>\n",
              "      <td>-121.52</td>\n",
              "      <td>39.12</td>\n",
              "      <td>37.0</td>\n",
              "      <td>102.0</td>\n",
              "      <td>435.0</td>\n",
              "      <td>29.0</td>\n",
              "      <td>14.0</td>\n",
              "      <td>4.1250</td>\n",
              "      <td>72000.0</td>\n",
              "      <td>INLAND</td>\n",
              "      <td>20625</td>\n",
              "    </tr>\n",
              "    <tr>\n",
              "      <th>20627</th>\n",
              "      <td>-121.32</td>\n",
              "      <td>39.13</td>\n",
              "      <td>5.0</td>\n",
              "      <td>358.0</td>\n",
              "      <td>435.0</td>\n",
              "      <td>169.0</td>\n",
              "      <td>59.0</td>\n",
              "      <td>3.0000</td>\n",
              "      <td>162500.0</td>\n",
              "      <td>INLAND</td>\n",
              "      <td>20627</td>\n",
              "    </tr>\n",
              "    <tr>\n",
              "      <th>20629</th>\n",
              "      <td>-121.39</td>\n",
              "      <td>39.12</td>\n",
              "      <td>28.0</td>\n",
              "      <td>10035.0</td>\n",
              "      <td>435.0</td>\n",
              "      <td>6912.0</td>\n",
              "      <td>1818.0</td>\n",
              "      <td>2.0943</td>\n",
              "      <td>108300.0</td>\n",
              "      <td>INLAND</td>\n",
              "      <td>20629</td>\n",
              "    </tr>\n",
              "  </tbody>\n",
              "</table>\n",
              "<p>1026 rows × 11 columns</p>\n",
              "</div>"
            ],
            "text/plain": [
              "       longitude  latitude  housing_median_age  total_rooms  total_bedrooms  \\\n",
              "59       -122.29     37.82                 2.0        158.0           435.0   \n",
              "61       -122.29     37.82                49.0        135.0           435.0   \n",
              "73       -122.29     37.81                46.0         12.0           435.0   \n",
              "81       -122.27     37.81                52.0        210.0           435.0   \n",
              "88       -122.27     37.80                10.0        105.0           435.0   \n",
              "...          ...       ...                 ...          ...             ...   \n",
              "20578    -121.81     38.84                37.0        352.0           435.0   \n",
              "20620    -121.48     39.05                40.0        198.0           435.0   \n",
              "20625    -121.52     39.12                37.0        102.0           435.0   \n",
              "20627    -121.32     39.13                 5.0        358.0           435.0   \n",
              "20629    -121.39     39.12                28.0      10035.0           435.0   \n",
              "\n",
              "       population  households  median_income  median_house_value  \\\n",
              "59           94.0        57.0         2.5625             60000.0   \n",
              "61           86.0        23.0         6.1183             75000.0   \n",
              "73           18.0         7.0         0.4999             67500.0   \n",
              "81          183.0        56.0         1.1667            112500.0   \n",
              "88          125.0        39.0         0.9722            137500.0   \n",
              "...           ...         ...            ...                 ...   \n",
              "20578       238.0        67.0         2.8542            275000.0   \n",
              "20620       151.0        48.0         4.5625            100000.0   \n",
              "20625        29.0        14.0         4.1250             72000.0   \n",
              "20627       169.0        59.0         3.0000            162500.0   \n",
              "20629      6912.0      1818.0         2.0943            108300.0   \n",
              "\n",
              "      ocean_proximity     id  \n",
              "59           NEAR BAY     59  \n",
              "61           NEAR BAY     61  \n",
              "73           NEAR BAY     73  \n",
              "81           NEAR BAY     81  \n",
              "88           NEAR BAY     88  \n",
              "...               ...    ...  \n",
              "20578          INLAND  20578  \n",
              "20620          INLAND  20620  \n",
              "20625          INLAND  20625  \n",
              "20627          INLAND  20627  \n",
              "20629          INLAND  20629  \n",
              "\n",
              "[1026 rows x 11 columns]"
            ]
          },
          "execution_count": 420,
          "metadata": {},
          "output_type": "execute_result"
        }
      ],
      "source": [
        "conditions = (df['households'] > households_max_value) | (df['households'] < households_min_value)\n",
        "df[conditions]"
      ]
    },
    {
      "cell_type": "code",
      "execution_count": null,
      "id": "f3a51ec4",
      "metadata": {
        "id": "f3a51ec4",
        "outputId": "63a72eaa-4aba-4ba9-dfc9-a99057e26d30"
      },
      "outputs": [
        {
          "data": {
            "text/plain": [
              "count    20640.000000\n",
              "mean       466.698304\n",
              "std        254.180080\n",
              "min         72.000000\n",
              "25%        292.000000\n",
              "50%        409.000000\n",
              "75%        577.000000\n",
              "max       1483.000000\n",
              "Name: households, dtype: float64"
            ]
          },
          "execution_count": 421,
          "metadata": {},
          "output_type": "execute_result"
        }
      ],
      "source": [
        "df.loc[conditions, 'households'] = df['households'].median()\n",
        "df['households'].describe()"
      ]
    },
    {
      "cell_type": "markdown",
      "id": "9e0f5645",
      "metadata": {
        "id": "9e0f5645"
      },
      "source": [
        "ocean_proximity-категориальные переменные"
      ]
    },
    {
      "cell_type": "code",
      "execution_count": null,
      "id": "706effd9",
      "metadata": {
        "id": "706effd9"
      },
      "outputs": [],
      "source": [
        "#3. Обработка категорий\n",
        "#ocean_proximity = pd.concat([df, pd.get_dummies(df['ocean_proximity'])], axis=1)\n",
        "#ocean_proximity"
      ]
    },
    {
      "cell_type": "code",
      "execution_count": null,
      "id": "2b5cf9c6",
      "metadata": {
        "id": "2b5cf9c6",
        "outputId": "541d9c55-4d74-4afa-96f6-a363e1bd75c7"
      },
      "outputs": [
        {
          "data": {
            "text/html": [
              "<div>\n",
              "<style scoped>\n",
              "    .dataframe tbody tr th:only-of-type {\n",
              "        vertical-align: middle;\n",
              "    }\n",
              "\n",
              "    .dataframe tbody tr th {\n",
              "        vertical-align: top;\n",
              "    }\n",
              "\n",
              "    .dataframe thead th {\n",
              "        text-align: right;\n",
              "    }\n",
              "</style>\n",
              "<table border=\"1\" class=\"dataframe\">\n",
              "  <thead>\n",
              "    <tr style=\"text-align: right;\">\n",
              "      <th></th>\n",
              "      <th>ocean_proximity</th>\n",
              "    </tr>\n",
              "  </thead>\n",
              "  <tbody>\n",
              "    <tr>\n",
              "      <th>0</th>\n",
              "      <td>NEAR BAY</td>\n",
              "    </tr>\n",
              "    <tr>\n",
              "      <th>1</th>\n",
              "      <td>NEAR BAY</td>\n",
              "    </tr>\n",
              "    <tr>\n",
              "      <th>2</th>\n",
              "      <td>NEAR BAY</td>\n",
              "    </tr>\n",
              "    <tr>\n",
              "      <th>3</th>\n",
              "      <td>NEAR BAY</td>\n",
              "    </tr>\n",
              "    <tr>\n",
              "      <th>4</th>\n",
              "      <td>NEAR BAY</td>\n",
              "    </tr>\n",
              "  </tbody>\n",
              "</table>\n",
              "</div>"
            ],
            "text/plain": [
              "  ocean_proximity\n",
              "0        NEAR BAY\n",
              "1        NEAR BAY\n",
              "2        NEAR BAY\n",
              "3        NEAR BAY\n",
              "4        NEAR BAY"
            ]
          },
          "execution_count": 423,
          "metadata": {},
          "output_type": "execute_result"
        }
      ],
      "source": [
        "#выявление в датафрейме данных относящихся к типу объект\n",
        "df_obj_features = df.select_dtypes(include='object')\n",
        "df_obj_features.head()"
      ]
    },
    {
      "cell_type": "code",
      "execution_count": null,
      "id": "d4fb3f3b",
      "metadata": {
        "id": "d4fb3f3b",
        "outputId": "917952f2-1b39-4475-ad72-6ba635380834"
      },
      "outputs": [
        {
          "data": {
            "text/plain": [
              "<1H OCEAN     9127\n",
              "INLAND        6542\n",
              "NEAR OCEAN    2655\n",
              "NEAR BAY      2288\n",
              "-               23\n",
              "ISLAND           5\n",
              "Name: ocean_proximity, dtype: int64"
            ]
          },
          "execution_count": 424,
          "metadata": {},
          "output_type": "execute_result"
        }
      ],
      "source": [
        "#обзор количества таких данных\n",
        "df['ocean_proximity'].value_counts()"
      ]
    },
    {
      "cell_type": "code",
      "execution_count": null,
      "id": "a14cdf75",
      "metadata": {
        "id": "a14cdf75",
        "outputId": "5bc3842e-9d32-4879-dd3d-36201ea0e863"
      },
      "outputs": [
        {
          "data": {
            "text/plain": [
              "array(['NEAR BAY', '<1H OCEAN', 'INLAND', '-', 'NEAR OCEAN', 'ISLAND'],\n",
              "      dtype=object)"
            ]
          },
          "execution_count": 425,
          "metadata": {},
          "output_type": "execute_result"
        }
      ],
      "source": [
        "df['ocean_proximity'].unique()"
      ]
    },
    {
      "cell_type": "code",
      "execution_count": null,
      "id": "7734ca8a",
      "metadata": {
        "id": "7734ca8a",
        "outputId": "d57b3e1e-8824-479a-a8e3-76c701f83603"
      },
      "outputs": [
        {
          "data": {
            "text/plain": [
              "6"
            ]
          },
          "execution_count": 426,
          "metadata": {},
          "output_type": "execute_result"
        }
      ],
      "source": [
        "df['ocean_proximity'].nunique()"
      ]
    },
    {
      "cell_type": "code",
      "execution_count": null,
      "id": "afd12cf1",
      "metadata": {
        "id": "afd12cf1"
      },
      "outputs": [],
      "source": [
        "#Обработка пропусков, создадим новую переменную ocean_proximity_nan: нет пропусков=0, есть=1\n",
        "df['ocean_proximity_nan'] = 0\n",
        "df.loc[df['ocean_proximity'] == '-', 'ocean_proximity_nan'] = 1"
      ]
    },
    {
      "cell_type": "code",
      "execution_count": null,
      "id": "cf37feef",
      "metadata": {
        "id": "cf37feef",
        "outputId": "5d5a7968-75db-4d82-8053-5b22b92f6cb9"
      },
      "outputs": [
        {
          "data": {
            "text/html": [
              "<div>\n",
              "<style scoped>\n",
              "    .dataframe tbody tr th:only-of-type {\n",
              "        vertical-align: middle;\n",
              "    }\n",
              "\n",
              "    .dataframe tbody tr th {\n",
              "        vertical-align: top;\n",
              "    }\n",
              "\n",
              "    .dataframe thead th {\n",
              "        text-align: right;\n",
              "    }\n",
              "</style>\n",
              "<table border=\"1\" class=\"dataframe\">\n",
              "  <thead>\n",
              "    <tr style=\"text-align: right;\">\n",
              "      <th></th>\n",
              "      <th>longitude</th>\n",
              "      <th>latitude</th>\n",
              "      <th>housing_median_age</th>\n",
              "      <th>total_rooms</th>\n",
              "      <th>total_bedrooms</th>\n",
              "      <th>population</th>\n",
              "      <th>households</th>\n",
              "      <th>median_income</th>\n",
              "      <th>median_house_value</th>\n",
              "      <th>ocean_proximity</th>\n",
              "      <th>id</th>\n",
              "      <th>ocean_proximity_nan</th>\n",
              "    </tr>\n",
              "  </thead>\n",
              "  <tbody>\n",
              "    <tr>\n",
              "      <th>1153</th>\n",
              "      <td>-121.46</td>\n",
              "      <td>39.54</td>\n",
              "      <td>14.0</td>\n",
              "      <td>5549.0</td>\n",
              "      <td>1000.0</td>\n",
              "      <td>1822.0</td>\n",
              "      <td>919.0</td>\n",
              "      <td>2.9562</td>\n",
              "      <td>142300.0</td>\n",
              "      <td>-</td>\n",
              "      <td>1153</td>\n",
              "      <td>1</td>\n",
              "    </tr>\n",
              "    <tr>\n",
              "      <th>2435</th>\n",
              "      <td>-119.59</td>\n",
              "      <td>36.57</td>\n",
              "      <td>19.0</td>\n",
              "      <td>1733.0</td>\n",
              "      <td>303.0</td>\n",
              "      <td>911.0</td>\n",
              "      <td>281.0</td>\n",
              "      <td>3.5987</td>\n",
              "      <td>131700.0</td>\n",
              "      <td>-</td>\n",
              "      <td>2435</td>\n",
              "      <td>1</td>\n",
              "    </tr>\n",
              "    <tr>\n",
              "      <th>2636</th>\n",
              "      <td>-124.15</td>\n",
              "      <td>40.59</td>\n",
              "      <td>39.0</td>\n",
              "      <td>1186.0</td>\n",
              "      <td>238.0</td>\n",
              "      <td>539.0</td>\n",
              "      <td>212.0</td>\n",
              "      <td>2.0938</td>\n",
              "      <td>79600.0</td>\n",
              "      <td>-</td>\n",
              "      <td>2636</td>\n",
              "      <td>1</td>\n",
              "    </tr>\n",
              "    <tr>\n",
              "      <th>5980</th>\n",
              "      <td>-117.74</td>\n",
              "      <td>34.10</td>\n",
              "      <td>26.0</td>\n",
              "      <td>2723.0</td>\n",
              "      <td>604.0</td>\n",
              "      <td>1847.0</td>\n",
              "      <td>498.0</td>\n",
              "      <td>2.6779</td>\n",
              "      <td>136000.0</td>\n",
              "      <td>-</td>\n",
              "      <td>5980</td>\n",
              "      <td>1</td>\n",
              "    </tr>\n",
              "    <tr>\n",
              "      <th>6373</th>\n",
              "      <td>-118.02</td>\n",
              "      <td>34.15</td>\n",
              "      <td>44.0</td>\n",
              "      <td>2419.0</td>\n",
              "      <td>437.0</td>\n",
              "      <td>1045.0</td>\n",
              "      <td>432.0</td>\n",
              "      <td>3.8750</td>\n",
              "      <td>280800.0</td>\n",
              "      <td>-</td>\n",
              "      <td>6373</td>\n",
              "      <td>1</td>\n",
              "    </tr>\n",
              "  </tbody>\n",
              "</table>\n",
              "</div>"
            ],
            "text/plain": [
              "      longitude  latitude  housing_median_age  total_rooms  total_bedrooms  \\\n",
              "1153    -121.46     39.54                14.0       5549.0          1000.0   \n",
              "2435    -119.59     36.57                19.0       1733.0           303.0   \n",
              "2636    -124.15     40.59                39.0       1186.0           238.0   \n",
              "5980    -117.74     34.10                26.0       2723.0           604.0   \n",
              "6373    -118.02     34.15                44.0       2419.0           437.0   \n",
              "\n",
              "      population  households  median_income  median_house_value  \\\n",
              "1153      1822.0       919.0         2.9562            142300.0   \n",
              "2435       911.0       281.0         3.5987            131700.0   \n",
              "2636       539.0       212.0         2.0938             79600.0   \n",
              "5980      1847.0       498.0         2.6779            136000.0   \n",
              "6373      1045.0       432.0         3.8750            280800.0   \n",
              "\n",
              "     ocean_proximity    id  ocean_proximity_nan  \n",
              "1153               -  1153                    1  \n",
              "2435               -  2435                    1  \n",
              "2636               -  2636                    1  \n",
              "5980               -  5980                    1  \n",
              "6373               -  6373                    1  "
            ]
          },
          "execution_count": 428,
          "metadata": {},
          "output_type": "execute_result"
        }
      ],
      "source": [
        "#запишем переменную с пропусками в датафрейм\n",
        "df[df['ocean_proximity_nan'] == 1].head()"
      ]
    },
    {
      "cell_type": "code",
      "execution_count": null,
      "id": "5525b757",
      "metadata": {
        "id": "5525b757",
        "outputId": "ee2e752f-6445-4cec-8f77-50eb691aed9d"
      },
      "outputs": [
        {
          "data": {
            "text/plain": [
              "0    <1H OCEAN\n",
              "Name: ocean_proximity, dtype: object"
            ]
          },
          "execution_count": 429,
          "metadata": {},
          "output_type": "execute_result"
        }
      ],
      "source": [
        "#посчитаем моду\n",
        "df['ocean_proximity'].mode()"
      ]
    },
    {
      "cell_type": "markdown",
      "id": "bb9f549d",
      "metadata": {
        "id": "bb9f549d"
      },
      "source": [
        "Заменим значение \"-\" в признаке ocean_proximity на самое популярное значение в признаке, то есть на моду."
      ]
    },
    {
      "cell_type": "code",
      "execution_count": null,
      "id": "7f1b6938",
      "metadata": {
        "id": "7f1b6938"
      },
      "outputs": [],
      "source": [
        "df.replace(\n",
        "    {'ocean_proximity':\n",
        "     {'-': df['ocean_proximity'].mode()[0]}\n",
        "    },\n",
        "    inplace=True)"
      ]
    },
    {
      "cell_type": "code",
      "execution_count": null,
      "id": "07c9c9a2",
      "metadata": {
        "id": "07c9c9a2",
        "outputId": "da7b4020-80d1-4c97-a9ec-70166c9786b2"
      },
      "outputs": [
        {
          "data": {
            "text/plain": [
              "<1H OCEAN     9150\n",
              "INLAND        6542\n",
              "NEAR OCEAN    2655\n",
              "NEAR BAY      2288\n",
              "ISLAND           5\n",
              "Name: ocean_proximity, dtype: int64"
            ]
          },
          "execution_count": 431,
          "metadata": {},
          "output_type": "execute_result"
        }
      ],
      "source": [
        "df['ocean_proximity'].value_counts()"
      ]
    },
    {
      "cell_type": "code",
      "execution_count": null,
      "id": "421ffc2a",
      "metadata": {
        "id": "421ffc2a",
        "outputId": "37ae8282-bb61-40cb-f4fc-a9fd548b6104"
      },
      "outputs": [
        {
          "data": {
            "text/html": [
              "<div>\n",
              "<style scoped>\n",
              "    .dataframe tbody tr th:only-of-type {\n",
              "        vertical-align: middle;\n",
              "    }\n",
              "\n",
              "    .dataframe tbody tr th {\n",
              "        vertical-align: top;\n",
              "    }\n",
              "\n",
              "    .dataframe thead th {\n",
              "        text-align: right;\n",
              "    }\n",
              "</style>\n",
              "<table border=\"1\" class=\"dataframe\">\n",
              "  <thead>\n",
              "    <tr style=\"text-align: right;\">\n",
              "      <th></th>\n",
              "      <th>longitude</th>\n",
              "      <th>latitude</th>\n",
              "      <th>housing_median_age</th>\n",
              "      <th>total_rooms</th>\n",
              "      <th>total_bedrooms</th>\n",
              "      <th>population</th>\n",
              "      <th>households</th>\n",
              "      <th>median_income</th>\n",
              "      <th>median_house_value</th>\n",
              "      <th>ocean_proximity</th>\n",
              "      <th>id</th>\n",
              "    </tr>\n",
              "  </thead>\n",
              "  <tbody>\n",
              "    <tr>\n",
              "      <th>0</th>\n",
              "      <td>-122.23</td>\n",
              "      <td>37.88</td>\n",
              "      <td>41.0</td>\n",
              "      <td>880.0</td>\n",
              "      <td>129.0</td>\n",
              "      <td>322.0</td>\n",
              "      <td>126.0</td>\n",
              "      <td>8.3252</td>\n",
              "      <td>452600.0</td>\n",
              "      <td>NEAR BAY</td>\n",
              "      <td>0</td>\n",
              "    </tr>\n",
              "    <tr>\n",
              "      <th>1</th>\n",
              "      <td>-122.22</td>\n",
              "      <td>37.86</td>\n",
              "      <td>21.0</td>\n",
              "      <td>7099.0</td>\n",
              "      <td>1106.0</td>\n",
              "      <td>2401.0</td>\n",
              "      <td>1138.0</td>\n",
              "      <td>8.3014</td>\n",
              "      <td>358500.0</td>\n",
              "      <td>NEAR BAY</td>\n",
              "      <td>1</td>\n",
              "    </tr>\n",
              "    <tr>\n",
              "      <th>2</th>\n",
              "      <td>-122.24</td>\n",
              "      <td>37.85</td>\n",
              "      <td>52.0</td>\n",
              "      <td>1467.0</td>\n",
              "      <td>190.0</td>\n",
              "      <td>496.0</td>\n",
              "      <td>177.0</td>\n",
              "      <td>7.2574</td>\n",
              "      <td>352100.0</td>\n",
              "      <td>NEAR BAY</td>\n",
              "      <td>2</td>\n",
              "    </tr>\n",
              "    <tr>\n",
              "      <th>3</th>\n",
              "      <td>-122.25</td>\n",
              "      <td>37.85</td>\n",
              "      <td>52.0</td>\n",
              "      <td>1274.0</td>\n",
              "      <td>235.0</td>\n",
              "      <td>558.0</td>\n",
              "      <td>219.0</td>\n",
              "      <td>5.6431</td>\n",
              "      <td>341300.0</td>\n",
              "      <td>NEAR BAY</td>\n",
              "      <td>3</td>\n",
              "    </tr>\n",
              "    <tr>\n",
              "      <th>4</th>\n",
              "      <td>-122.25</td>\n",
              "      <td>37.85</td>\n",
              "      <td>52.0</td>\n",
              "      <td>1627.0</td>\n",
              "      <td>280.0</td>\n",
              "      <td>565.0</td>\n",
              "      <td>259.0</td>\n",
              "      <td>3.8462</td>\n",
              "      <td>342200.0</td>\n",
              "      <td>NEAR BAY</td>\n",
              "      <td>4</td>\n",
              "    </tr>\n",
              "    <tr>\n",
              "      <th>...</th>\n",
              "      <td>...</td>\n",
              "      <td>...</td>\n",
              "      <td>...</td>\n",
              "      <td>...</td>\n",
              "      <td>...</td>\n",
              "      <td>...</td>\n",
              "      <td>...</td>\n",
              "      <td>...</td>\n",
              "      <td>...</td>\n",
              "      <td>...</td>\n",
              "      <td>...</td>\n",
              "    </tr>\n",
              "    <tr>\n",
              "      <th>20635</th>\n",
              "      <td>-121.09</td>\n",
              "      <td>39.48</td>\n",
              "      <td>25.0</td>\n",
              "      <td>1665.0</td>\n",
              "      <td>374.0</td>\n",
              "      <td>845.0</td>\n",
              "      <td>330.0</td>\n",
              "      <td>1.5603</td>\n",
              "      <td>78100.0</td>\n",
              "      <td>INLAND</td>\n",
              "      <td>20635</td>\n",
              "    </tr>\n",
              "    <tr>\n",
              "      <th>20636</th>\n",
              "      <td>-121.21</td>\n",
              "      <td>39.49</td>\n",
              "      <td>18.0</td>\n",
              "      <td>697.0</td>\n",
              "      <td>150.0</td>\n",
              "      <td>356.0</td>\n",
              "      <td>114.0</td>\n",
              "      <td>2.5568</td>\n",
              "      <td>77100.0</td>\n",
              "      <td>INLAND</td>\n",
              "      <td>20636</td>\n",
              "    </tr>\n",
              "    <tr>\n",
              "      <th>20637</th>\n",
              "      <td>-121.22</td>\n",
              "      <td>39.43</td>\n",
              "      <td>17.0</td>\n",
              "      <td>2254.0</td>\n",
              "      <td>485.0</td>\n",
              "      <td>1165.0</td>\n",
              "      <td>433.0</td>\n",
              "      <td>1.7000</td>\n",
              "      <td>92300.0</td>\n",
              "      <td>INLAND</td>\n",
              "      <td>20637</td>\n",
              "    </tr>\n",
              "    <tr>\n",
              "      <th>20638</th>\n",
              "      <td>-121.32</td>\n",
              "      <td>39.43</td>\n",
              "      <td>18.0</td>\n",
              "      <td>1860.0</td>\n",
              "      <td>409.0</td>\n",
              "      <td>741.0</td>\n",
              "      <td>349.0</td>\n",
              "      <td>1.8672</td>\n",
              "      <td>84700.0</td>\n",
              "      <td>INLAND</td>\n",
              "      <td>20638</td>\n",
              "    </tr>\n",
              "    <tr>\n",
              "      <th>20639</th>\n",
              "      <td>-121.24</td>\n",
              "      <td>39.37</td>\n",
              "      <td>16.0</td>\n",
              "      <td>2785.0</td>\n",
              "      <td>616.0</td>\n",
              "      <td>1387.0</td>\n",
              "      <td>530.0</td>\n",
              "      <td>2.3886</td>\n",
              "      <td>89400.0</td>\n",
              "      <td>INLAND</td>\n",
              "      <td>20639</td>\n",
              "    </tr>\n",
              "  </tbody>\n",
              "</table>\n",
              "<p>20640 rows × 11 columns</p>\n",
              "</div>"
            ],
            "text/plain": [
              "       longitude  latitude  housing_median_age  total_rooms  total_bedrooms  \\\n",
              "0        -122.23     37.88                41.0        880.0           129.0   \n",
              "1        -122.22     37.86                21.0       7099.0          1106.0   \n",
              "2        -122.24     37.85                52.0       1467.0           190.0   \n",
              "3        -122.25     37.85                52.0       1274.0           235.0   \n",
              "4        -122.25     37.85                52.0       1627.0           280.0   \n",
              "...          ...       ...                 ...          ...             ...   \n",
              "20635    -121.09     39.48                25.0       1665.0           374.0   \n",
              "20636    -121.21     39.49                18.0        697.0           150.0   \n",
              "20637    -121.22     39.43                17.0       2254.0           485.0   \n",
              "20638    -121.32     39.43                18.0       1860.0           409.0   \n",
              "20639    -121.24     39.37                16.0       2785.0           616.0   \n",
              "\n",
              "       population  households  median_income  median_house_value  \\\n",
              "0           322.0       126.0         8.3252            452600.0   \n",
              "1          2401.0      1138.0         8.3014            358500.0   \n",
              "2           496.0       177.0         7.2574            352100.0   \n",
              "3           558.0       219.0         5.6431            341300.0   \n",
              "4           565.0       259.0         3.8462            342200.0   \n",
              "...           ...         ...            ...                 ...   \n",
              "20635       845.0       330.0         1.5603             78100.0   \n",
              "20636       356.0       114.0         2.5568             77100.0   \n",
              "20637      1165.0       433.0         1.7000             92300.0   \n",
              "20638       741.0       349.0         1.8672             84700.0   \n",
              "20639      1387.0       530.0         2.3886             89400.0   \n",
              "\n",
              "      ocean_proximity     id  \n",
              "0            NEAR BAY      0  \n",
              "1            NEAR BAY      1  \n",
              "2            NEAR BAY      2  \n",
              "3            NEAR BAY      3  \n",
              "4            NEAR BAY      4  \n",
              "...               ...    ...  \n",
              "20635          INLAND  20635  \n",
              "20636          INLAND  20636  \n",
              "20637          INLAND  20637  \n",
              "20638          INLAND  20638  \n",
              "20639          INLAND  20639  \n",
              "\n",
              "[20640 rows x 11 columns]"
            ]
          },
          "execution_count": 432,
          "metadata": {},
          "output_type": "execute_result"
        }
      ],
      "source": [
        "#удалим из датафрейма признак ocean_proximity_nan\n",
        "df.drop(columns='ocean_proximity_nan', inplace=True)\n",
        "df"
      ]
    },
    {
      "cell_type": "markdown",
      "id": "ff3bee61",
      "metadata": {
        "id": "ff3bee61"
      },
      "source": [
        "Заменять строковые значения порядковыми числами не всегда хорошая идея, поэтому заменим на:\n",
        "A) Бинарные (дамми) переменные"
      ]
    },
    {
      "cell_type": "code",
      "execution_count": null,
      "id": "1700e0d9",
      "metadata": {
        "id": "1700e0d9",
        "outputId": "013730b8-0269-4679-c1ac-07ad9125ebbd"
      },
      "outputs": [
        {
          "data": {
            "text/html": [
              "<div>\n",
              "<style scoped>\n",
              "    .dataframe tbody tr th:only-of-type {\n",
              "        vertical-align: middle;\n",
              "    }\n",
              "\n",
              "    .dataframe tbody tr th {\n",
              "        vertical-align: top;\n",
              "    }\n",
              "\n",
              "    .dataframe thead th {\n",
              "        text-align: right;\n",
              "    }\n",
              "</style>\n",
              "<table border=\"1\" class=\"dataframe\">\n",
              "  <thead>\n",
              "    <tr style=\"text-align: right;\">\n",
              "      <th></th>\n",
              "      <th>longitude</th>\n",
              "      <th>latitude</th>\n",
              "      <th>housing_median_age</th>\n",
              "      <th>total_rooms</th>\n",
              "      <th>total_bedrooms</th>\n",
              "      <th>population</th>\n",
              "      <th>households</th>\n",
              "      <th>median_income</th>\n",
              "      <th>median_house_value</th>\n",
              "      <th>id</th>\n",
              "      <th>ocean_proximity_&lt;1H OCEAN</th>\n",
              "      <th>ocean_proximity_INLAND</th>\n",
              "      <th>ocean_proximity_ISLAND</th>\n",
              "      <th>ocean_proximity_NEAR BAY</th>\n",
              "      <th>ocean_proximity_NEAR OCEAN</th>\n",
              "    </tr>\n",
              "  </thead>\n",
              "  <tbody>\n",
              "    <tr>\n",
              "      <th>0</th>\n",
              "      <td>-122.23</td>\n",
              "      <td>37.88</td>\n",
              "      <td>41.0</td>\n",
              "      <td>880.0</td>\n",
              "      <td>129.0</td>\n",
              "      <td>322.0</td>\n",
              "      <td>126.0</td>\n",
              "      <td>8.3252</td>\n",
              "      <td>452600.0</td>\n",
              "      <td>0</td>\n",
              "      <td>0</td>\n",
              "      <td>0</td>\n",
              "      <td>0</td>\n",
              "      <td>1</td>\n",
              "      <td>0</td>\n",
              "    </tr>\n",
              "    <tr>\n",
              "      <th>1</th>\n",
              "      <td>-122.22</td>\n",
              "      <td>37.86</td>\n",
              "      <td>21.0</td>\n",
              "      <td>7099.0</td>\n",
              "      <td>1106.0</td>\n",
              "      <td>2401.0</td>\n",
              "      <td>1138.0</td>\n",
              "      <td>8.3014</td>\n",
              "      <td>358500.0</td>\n",
              "      <td>1</td>\n",
              "      <td>0</td>\n",
              "      <td>0</td>\n",
              "      <td>0</td>\n",
              "      <td>1</td>\n",
              "      <td>0</td>\n",
              "    </tr>\n",
              "    <tr>\n",
              "      <th>2</th>\n",
              "      <td>-122.24</td>\n",
              "      <td>37.85</td>\n",
              "      <td>52.0</td>\n",
              "      <td>1467.0</td>\n",
              "      <td>190.0</td>\n",
              "      <td>496.0</td>\n",
              "      <td>177.0</td>\n",
              "      <td>7.2574</td>\n",
              "      <td>352100.0</td>\n",
              "      <td>2</td>\n",
              "      <td>0</td>\n",
              "      <td>0</td>\n",
              "      <td>0</td>\n",
              "      <td>1</td>\n",
              "      <td>0</td>\n",
              "    </tr>\n",
              "    <tr>\n",
              "      <th>3</th>\n",
              "      <td>-122.25</td>\n",
              "      <td>37.85</td>\n",
              "      <td>52.0</td>\n",
              "      <td>1274.0</td>\n",
              "      <td>235.0</td>\n",
              "      <td>558.0</td>\n",
              "      <td>219.0</td>\n",
              "      <td>5.6431</td>\n",
              "      <td>341300.0</td>\n",
              "      <td>3</td>\n",
              "      <td>0</td>\n",
              "      <td>0</td>\n",
              "      <td>0</td>\n",
              "      <td>1</td>\n",
              "      <td>0</td>\n",
              "    </tr>\n",
              "    <tr>\n",
              "      <th>4</th>\n",
              "      <td>-122.25</td>\n",
              "      <td>37.85</td>\n",
              "      <td>52.0</td>\n",
              "      <td>1627.0</td>\n",
              "      <td>280.0</td>\n",
              "      <td>565.0</td>\n",
              "      <td>259.0</td>\n",
              "      <td>3.8462</td>\n",
              "      <td>342200.0</td>\n",
              "      <td>4</td>\n",
              "      <td>0</td>\n",
              "      <td>0</td>\n",
              "      <td>0</td>\n",
              "      <td>1</td>\n",
              "      <td>0</td>\n",
              "    </tr>\n",
              "    <tr>\n",
              "      <th>...</th>\n",
              "      <td>...</td>\n",
              "      <td>...</td>\n",
              "      <td>...</td>\n",
              "      <td>...</td>\n",
              "      <td>...</td>\n",
              "      <td>...</td>\n",
              "      <td>...</td>\n",
              "      <td>...</td>\n",
              "      <td>...</td>\n",
              "      <td>...</td>\n",
              "      <td>...</td>\n",
              "      <td>...</td>\n",
              "      <td>...</td>\n",
              "      <td>...</td>\n",
              "      <td>...</td>\n",
              "    </tr>\n",
              "    <tr>\n",
              "      <th>20635</th>\n",
              "      <td>-121.09</td>\n",
              "      <td>39.48</td>\n",
              "      <td>25.0</td>\n",
              "      <td>1665.0</td>\n",
              "      <td>374.0</td>\n",
              "      <td>845.0</td>\n",
              "      <td>330.0</td>\n",
              "      <td>1.5603</td>\n",
              "      <td>78100.0</td>\n",
              "      <td>20635</td>\n",
              "      <td>0</td>\n",
              "      <td>1</td>\n",
              "      <td>0</td>\n",
              "      <td>0</td>\n",
              "      <td>0</td>\n",
              "    </tr>\n",
              "    <tr>\n",
              "      <th>20636</th>\n",
              "      <td>-121.21</td>\n",
              "      <td>39.49</td>\n",
              "      <td>18.0</td>\n",
              "      <td>697.0</td>\n",
              "      <td>150.0</td>\n",
              "      <td>356.0</td>\n",
              "      <td>114.0</td>\n",
              "      <td>2.5568</td>\n",
              "      <td>77100.0</td>\n",
              "      <td>20636</td>\n",
              "      <td>0</td>\n",
              "      <td>1</td>\n",
              "      <td>0</td>\n",
              "      <td>0</td>\n",
              "      <td>0</td>\n",
              "    </tr>\n",
              "    <tr>\n",
              "      <th>20637</th>\n",
              "      <td>-121.22</td>\n",
              "      <td>39.43</td>\n",
              "      <td>17.0</td>\n",
              "      <td>2254.0</td>\n",
              "      <td>485.0</td>\n",
              "      <td>1165.0</td>\n",
              "      <td>433.0</td>\n",
              "      <td>1.7000</td>\n",
              "      <td>92300.0</td>\n",
              "      <td>20637</td>\n",
              "      <td>0</td>\n",
              "      <td>1</td>\n",
              "      <td>0</td>\n",
              "      <td>0</td>\n",
              "      <td>0</td>\n",
              "    </tr>\n",
              "    <tr>\n",
              "      <th>20638</th>\n",
              "      <td>-121.32</td>\n",
              "      <td>39.43</td>\n",
              "      <td>18.0</td>\n",
              "      <td>1860.0</td>\n",
              "      <td>409.0</td>\n",
              "      <td>741.0</td>\n",
              "      <td>349.0</td>\n",
              "      <td>1.8672</td>\n",
              "      <td>84700.0</td>\n",
              "      <td>20638</td>\n",
              "      <td>0</td>\n",
              "      <td>1</td>\n",
              "      <td>0</td>\n",
              "      <td>0</td>\n",
              "      <td>0</td>\n",
              "    </tr>\n",
              "    <tr>\n",
              "      <th>20639</th>\n",
              "      <td>-121.24</td>\n",
              "      <td>39.37</td>\n",
              "      <td>16.0</td>\n",
              "      <td>2785.0</td>\n",
              "      <td>616.0</td>\n",
              "      <td>1387.0</td>\n",
              "      <td>530.0</td>\n",
              "      <td>2.3886</td>\n",
              "      <td>89400.0</td>\n",
              "      <td>20639</td>\n",
              "      <td>0</td>\n",
              "      <td>1</td>\n",
              "      <td>0</td>\n",
              "      <td>0</td>\n",
              "      <td>0</td>\n",
              "    </tr>\n",
              "  </tbody>\n",
              "</table>\n",
              "<p>20640 rows × 15 columns</p>\n",
              "</div>"
            ],
            "text/plain": [
              "       longitude  latitude  housing_median_age  total_rooms  total_bedrooms  \\\n",
              "0        -122.23     37.88                41.0        880.0           129.0   \n",
              "1        -122.22     37.86                21.0       7099.0          1106.0   \n",
              "2        -122.24     37.85                52.0       1467.0           190.0   \n",
              "3        -122.25     37.85                52.0       1274.0           235.0   \n",
              "4        -122.25     37.85                52.0       1627.0           280.0   \n",
              "...          ...       ...                 ...          ...             ...   \n",
              "20635    -121.09     39.48                25.0       1665.0           374.0   \n",
              "20636    -121.21     39.49                18.0        697.0           150.0   \n",
              "20637    -121.22     39.43                17.0       2254.0           485.0   \n",
              "20638    -121.32     39.43                18.0       1860.0           409.0   \n",
              "20639    -121.24     39.37                16.0       2785.0           616.0   \n",
              "\n",
              "       population  households  median_income  median_house_value     id  \\\n",
              "0           322.0       126.0         8.3252            452600.0      0   \n",
              "1          2401.0      1138.0         8.3014            358500.0      1   \n",
              "2           496.0       177.0         7.2574            352100.0      2   \n",
              "3           558.0       219.0         5.6431            341300.0      3   \n",
              "4           565.0       259.0         3.8462            342200.0      4   \n",
              "...           ...         ...            ...                 ...    ...   \n",
              "20635       845.0       330.0         1.5603             78100.0  20635   \n",
              "20636       356.0       114.0         2.5568             77100.0  20636   \n",
              "20637      1165.0       433.0         1.7000             92300.0  20637   \n",
              "20638       741.0       349.0         1.8672             84700.0  20638   \n",
              "20639      1387.0       530.0         2.3886             89400.0  20639   \n",
              "\n",
              "       ocean_proximity_<1H OCEAN  ocean_proximity_INLAND  \\\n",
              "0                              0                       0   \n",
              "1                              0                       0   \n",
              "2                              0                       0   \n",
              "3                              0                       0   \n",
              "4                              0                       0   \n",
              "...                          ...                     ...   \n",
              "20635                          0                       1   \n",
              "20636                          0                       1   \n",
              "20637                          0                       1   \n",
              "20638                          0                       1   \n",
              "20639                          0                       1   \n",
              "\n",
              "       ocean_proximity_ISLAND  ocean_proximity_NEAR BAY  \\\n",
              "0                           0                         1   \n",
              "1                           0                         1   \n",
              "2                           0                         1   \n",
              "3                           0                         1   \n",
              "4                           0                         1   \n",
              "...                       ...                       ...   \n",
              "20635                       0                         0   \n",
              "20636                       0                         0   \n",
              "20637                       0                         0   \n",
              "20638                       0                         0   \n",
              "20639                       0                         0   \n",
              "\n",
              "       ocean_proximity_NEAR OCEAN  \n",
              "0                               0  \n",
              "1                               0  \n",
              "2                               0  \n",
              "3                               0  \n",
              "4                               0  \n",
              "...                           ...  \n",
              "20635                           0  \n",
              "20636                           0  \n",
              "20637                           0  \n",
              "20638                           0  \n",
              "20639                           0  \n",
              "\n",
              "[20640 rows x 15 columns]"
            ]
          },
          "execution_count": 433,
          "metadata": {},
          "output_type": "execute_result"
        }
      ],
      "source": [
        "df = pd.get_dummies(df, columns = ['ocean_proximity'])\n",
        "df"
      ]
    },
    {
      "cell_type": "markdown",
      "id": "d9a3a5a1",
      "metadata": {
        "id": "d9a3a5a1"
      },
      "source": [
        "Вещественные переменные\n",
        "A) Feature discretization -мы использовали\n",
        "возраст дома (0-100)\n",
        "1 категория - новые дома (до 5 лет),\n",
        "2 категория - дома от 5 до 10\n",
        "Б) Feature binarization\n",
        "только 1 признак\n",
        "1 - новый дом,\n",
        "0 - старый"
      ]
    },
    {
      "cell_type": "code",
      "execution_count": null,
      "id": "06417cd7",
      "metadata": {
        "id": "06417cd7",
        "outputId": "a003b8ab-f903-4c77-bc55-505f1d28b46c"
      },
      "outputs": [
        {
          "data": {
            "text/plain": [
              "count    20640.000000\n",
              "mean        28.665746\n",
              "std         12.355019\n",
              "min          1.000000\n",
              "25%         19.000000\n",
              "50%         29.000000\n",
              "75%         37.000000\n",
              "max         52.000000\n",
              "Name: housing_median_age, dtype: float64"
            ]
          },
          "execution_count": 434,
          "metadata": {},
          "output_type": "execute_result"
        }
      ],
      "source": [
        "df['housing_median_age'].describe()"
      ]
    },
    {
      "cell_type": "code",
      "execution_count": null,
      "id": "3cc53b41",
      "metadata": {
        "id": "3cc53b41"
      },
      "outputs": [],
      "source": [
        "def age_to_cat(X):\n",
        "\n",
        "    X['age_cat'] = 0\n",
        "\n",
        "    X.loc[X['housing_median_age'] <= 5, 'age_cat'] = 1\n",
        "    X.loc[(X['housing_median_age'] > 5) & (X['housing_median_age'] <= 10), 'age_cat'] = 2\n",
        "    X.loc[(X['housing_median_age'] > 10) & (X['housing_median_age'] <= 25), 'age_cat'] = 3\n",
        "    X.loc[X['housing_median_age'] > 25, 'age_cat'] = 4\n",
        "\n",
        "    return X"
      ]
    },
    {
      "cell_type": "code",
      "execution_count": null,
      "id": "ee8d4b1a",
      "metadata": {
        "id": "ee8d4b1a",
        "outputId": "848d1774-da4b-45a9-f800-f5dee685cdc3"
      },
      "outputs": [
        {
          "data": {
            "text/html": [
              "<div>\n",
              "<style scoped>\n",
              "    .dataframe tbody tr th:only-of-type {\n",
              "        vertical-align: middle;\n",
              "    }\n",
              "\n",
              "    .dataframe tbody tr th {\n",
              "        vertical-align: top;\n",
              "    }\n",
              "\n",
              "    .dataframe thead th {\n",
              "        text-align: right;\n",
              "    }\n",
              "</style>\n",
              "<table border=\"1\" class=\"dataframe\">\n",
              "  <thead>\n",
              "    <tr style=\"text-align: right;\">\n",
              "      <th></th>\n",
              "      <th>longitude</th>\n",
              "      <th>latitude</th>\n",
              "      <th>housing_median_age</th>\n",
              "      <th>total_rooms</th>\n",
              "      <th>total_bedrooms</th>\n",
              "      <th>population</th>\n",
              "      <th>households</th>\n",
              "      <th>median_income</th>\n",
              "      <th>median_house_value</th>\n",
              "      <th>id</th>\n",
              "      <th>ocean_proximity_&lt;1H OCEAN</th>\n",
              "      <th>ocean_proximity_INLAND</th>\n",
              "      <th>ocean_proximity_ISLAND</th>\n",
              "      <th>ocean_proximity_NEAR BAY</th>\n",
              "      <th>ocean_proximity_NEAR OCEAN</th>\n",
              "      <th>age_cat</th>\n",
              "    </tr>\n",
              "  </thead>\n",
              "  <tbody>\n",
              "    <tr>\n",
              "      <th>0</th>\n",
              "      <td>-122.23</td>\n",
              "      <td>37.88</td>\n",
              "      <td>41.0</td>\n",
              "      <td>880.0</td>\n",
              "      <td>129.0</td>\n",
              "      <td>322.0</td>\n",
              "      <td>126.0</td>\n",
              "      <td>8.3252</td>\n",
              "      <td>452600.0</td>\n",
              "      <td>0</td>\n",
              "      <td>0</td>\n",
              "      <td>0</td>\n",
              "      <td>0</td>\n",
              "      <td>1</td>\n",
              "      <td>0</td>\n",
              "      <td>4</td>\n",
              "    </tr>\n",
              "    <tr>\n",
              "      <th>1</th>\n",
              "      <td>-122.22</td>\n",
              "      <td>37.86</td>\n",
              "      <td>21.0</td>\n",
              "      <td>7099.0</td>\n",
              "      <td>1106.0</td>\n",
              "      <td>2401.0</td>\n",
              "      <td>1138.0</td>\n",
              "      <td>8.3014</td>\n",
              "      <td>358500.0</td>\n",
              "      <td>1</td>\n",
              "      <td>0</td>\n",
              "      <td>0</td>\n",
              "      <td>0</td>\n",
              "      <td>1</td>\n",
              "      <td>0</td>\n",
              "      <td>3</td>\n",
              "    </tr>\n",
              "    <tr>\n",
              "      <th>2</th>\n",
              "      <td>-122.24</td>\n",
              "      <td>37.85</td>\n",
              "      <td>52.0</td>\n",
              "      <td>1467.0</td>\n",
              "      <td>190.0</td>\n",
              "      <td>496.0</td>\n",
              "      <td>177.0</td>\n",
              "      <td>7.2574</td>\n",
              "      <td>352100.0</td>\n",
              "      <td>2</td>\n",
              "      <td>0</td>\n",
              "      <td>0</td>\n",
              "      <td>0</td>\n",
              "      <td>1</td>\n",
              "      <td>0</td>\n",
              "      <td>4</td>\n",
              "    </tr>\n",
              "    <tr>\n",
              "      <th>3</th>\n",
              "      <td>-122.25</td>\n",
              "      <td>37.85</td>\n",
              "      <td>52.0</td>\n",
              "      <td>1274.0</td>\n",
              "      <td>235.0</td>\n",
              "      <td>558.0</td>\n",
              "      <td>219.0</td>\n",
              "      <td>5.6431</td>\n",
              "      <td>341300.0</td>\n",
              "      <td>3</td>\n",
              "      <td>0</td>\n",
              "      <td>0</td>\n",
              "      <td>0</td>\n",
              "      <td>1</td>\n",
              "      <td>0</td>\n",
              "      <td>4</td>\n",
              "    </tr>\n",
              "    <tr>\n",
              "      <th>4</th>\n",
              "      <td>-122.25</td>\n",
              "      <td>37.85</td>\n",
              "      <td>52.0</td>\n",
              "      <td>1627.0</td>\n",
              "      <td>280.0</td>\n",
              "      <td>565.0</td>\n",
              "      <td>259.0</td>\n",
              "      <td>3.8462</td>\n",
              "      <td>342200.0</td>\n",
              "      <td>4</td>\n",
              "      <td>0</td>\n",
              "      <td>0</td>\n",
              "      <td>0</td>\n",
              "      <td>1</td>\n",
              "      <td>0</td>\n",
              "      <td>4</td>\n",
              "    </tr>\n",
              "  </tbody>\n",
              "</table>\n",
              "</div>"
            ],
            "text/plain": [
              "   longitude  latitude  housing_median_age  total_rooms  total_bedrooms  \\\n",
              "0    -122.23     37.88                41.0        880.0           129.0   \n",
              "1    -122.22     37.86                21.0       7099.0          1106.0   \n",
              "2    -122.24     37.85                52.0       1467.0           190.0   \n",
              "3    -122.25     37.85                52.0       1274.0           235.0   \n",
              "4    -122.25     37.85                52.0       1627.0           280.0   \n",
              "\n",
              "   population  households  median_income  median_house_value  id  \\\n",
              "0       322.0       126.0         8.3252            452600.0   0   \n",
              "1      2401.0      1138.0         8.3014            358500.0   1   \n",
              "2       496.0       177.0         7.2574            352100.0   2   \n",
              "3       558.0       219.0         5.6431            341300.0   3   \n",
              "4       565.0       259.0         3.8462            342200.0   4   \n",
              "\n",
              "   ocean_proximity_<1H OCEAN  ocean_proximity_INLAND  ocean_proximity_ISLAND  \\\n",
              "0                          0                       0                       0   \n",
              "1                          0                       0                       0   \n",
              "2                          0                       0                       0   \n",
              "3                          0                       0                       0   \n",
              "4                          0                       0                       0   \n",
              "\n",
              "   ocean_proximity_NEAR BAY  ocean_proximity_NEAR OCEAN  age_cat  \n",
              "0                         1                           0        4  \n",
              "1                         1                           0        3  \n",
              "2                         1                           0        4  \n",
              "3                         1                           0        4  \n",
              "4                         1                           0        4  "
            ]
          },
          "execution_count": 436,
          "metadata": {},
          "output_type": "execute_result"
        }
      ],
      "source": [
        "df = age_to_cat(df)\n",
        "df.head()"
      ]
    },
    {
      "cell_type": "markdown",
      "id": "ac30b08d",
      "metadata": {
        "id": "ac30b08d"
      },
      "source": [
        "6) Генерация новых признаков - Новые фичи (Features)-необходимо знание статистки и индексов"
      ]
    },
    {
      "cell_type": "code",
      "execution_count": null,
      "id": "ea26d793",
      "metadata": {
        "id": "ea26d793",
        "outputId": "b1172f37-1389-4fab-92d2-61a97439d3e9"
      },
      "outputs": [
        {
          "data": {
            "text/html": [
              "<div>\n",
              "<style scoped>\n",
              "    .dataframe tbody tr th:only-of-type {\n",
              "        vertical-align: middle;\n",
              "    }\n",
              "\n",
              "    .dataframe tbody tr th {\n",
              "        vertical-align: top;\n",
              "    }\n",
              "\n",
              "    .dataframe thead th {\n",
              "        text-align: right;\n",
              "    }\n",
              "</style>\n",
              "<table border=\"1\" class=\"dataframe\">\n",
              "  <thead>\n",
              "    <tr style=\"text-align: right;\">\n",
              "      <th></th>\n",
              "      <th>longitude</th>\n",
              "      <th>latitude</th>\n",
              "      <th>housing_median_age</th>\n",
              "      <th>total_rooms</th>\n",
              "      <th>total_bedrooms</th>\n",
              "      <th>population</th>\n",
              "      <th>households</th>\n",
              "      <th>median_income</th>\n",
              "      <th>median_house_value</th>\n",
              "      <th>id</th>\n",
              "      <th>ocean_proximity_&lt;1H OCEAN</th>\n",
              "      <th>ocean_proximity_INLAND</th>\n",
              "      <th>ocean_proximity_ISLAND</th>\n",
              "      <th>ocean_proximity_NEAR BAY</th>\n",
              "      <th>ocean_proximity_NEAR OCEAN</th>\n",
              "      <th>age_cat</th>\n",
              "      <th>bedroom_share</th>\n",
              "    </tr>\n",
              "  </thead>\n",
              "  <tbody>\n",
              "    <tr>\n",
              "      <th>0</th>\n",
              "      <td>-122.23</td>\n",
              "      <td>37.88</td>\n",
              "      <td>41.0</td>\n",
              "      <td>880.0</td>\n",
              "      <td>129.0</td>\n",
              "      <td>322.0</td>\n",
              "      <td>126.0</td>\n",
              "      <td>8.3252</td>\n",
              "      <td>452600.0</td>\n",
              "      <td>0</td>\n",
              "      <td>0</td>\n",
              "      <td>0</td>\n",
              "      <td>0</td>\n",
              "      <td>1</td>\n",
              "      <td>0</td>\n",
              "      <td>4</td>\n",
              "      <td>14.659091</td>\n",
              "    </tr>\n",
              "    <tr>\n",
              "      <th>1</th>\n",
              "      <td>-122.22</td>\n",
              "      <td>37.86</td>\n",
              "      <td>21.0</td>\n",
              "      <td>7099.0</td>\n",
              "      <td>1106.0</td>\n",
              "      <td>2401.0</td>\n",
              "      <td>1138.0</td>\n",
              "      <td>8.3014</td>\n",
              "      <td>358500.0</td>\n",
              "      <td>1</td>\n",
              "      <td>0</td>\n",
              "      <td>0</td>\n",
              "      <td>0</td>\n",
              "      <td>1</td>\n",
              "      <td>0</td>\n",
              "      <td>3</td>\n",
              "      <td>15.579659</td>\n",
              "    </tr>\n",
              "    <tr>\n",
              "      <th>2</th>\n",
              "      <td>-122.24</td>\n",
              "      <td>37.85</td>\n",
              "      <td>52.0</td>\n",
              "      <td>1467.0</td>\n",
              "      <td>190.0</td>\n",
              "      <td>496.0</td>\n",
              "      <td>177.0</td>\n",
              "      <td>7.2574</td>\n",
              "      <td>352100.0</td>\n",
              "      <td>2</td>\n",
              "      <td>0</td>\n",
              "      <td>0</td>\n",
              "      <td>0</td>\n",
              "      <td>1</td>\n",
              "      <td>0</td>\n",
              "      <td>4</td>\n",
              "      <td>12.951602</td>\n",
              "    </tr>\n",
              "    <tr>\n",
              "      <th>3</th>\n",
              "      <td>-122.25</td>\n",
              "      <td>37.85</td>\n",
              "      <td>52.0</td>\n",
              "      <td>1274.0</td>\n",
              "      <td>235.0</td>\n",
              "      <td>558.0</td>\n",
              "      <td>219.0</td>\n",
              "      <td>5.6431</td>\n",
              "      <td>341300.0</td>\n",
              "      <td>3</td>\n",
              "      <td>0</td>\n",
              "      <td>0</td>\n",
              "      <td>0</td>\n",
              "      <td>1</td>\n",
              "      <td>0</td>\n",
              "      <td>4</td>\n",
              "      <td>18.445840</td>\n",
              "    </tr>\n",
              "    <tr>\n",
              "      <th>4</th>\n",
              "      <td>-122.25</td>\n",
              "      <td>37.85</td>\n",
              "      <td>52.0</td>\n",
              "      <td>1627.0</td>\n",
              "      <td>280.0</td>\n",
              "      <td>565.0</td>\n",
              "      <td>259.0</td>\n",
              "      <td>3.8462</td>\n",
              "      <td>342200.0</td>\n",
              "      <td>4</td>\n",
              "      <td>0</td>\n",
              "      <td>0</td>\n",
              "      <td>0</td>\n",
              "      <td>1</td>\n",
              "      <td>0</td>\n",
              "      <td>4</td>\n",
              "      <td>17.209588</td>\n",
              "    </tr>\n",
              "    <tr>\n",
              "      <th>...</th>\n",
              "      <td>...</td>\n",
              "      <td>...</td>\n",
              "      <td>...</td>\n",
              "      <td>...</td>\n",
              "      <td>...</td>\n",
              "      <td>...</td>\n",
              "      <td>...</td>\n",
              "      <td>...</td>\n",
              "      <td>...</td>\n",
              "      <td>...</td>\n",
              "      <td>...</td>\n",
              "      <td>...</td>\n",
              "      <td>...</td>\n",
              "      <td>...</td>\n",
              "      <td>...</td>\n",
              "      <td>...</td>\n",
              "      <td>...</td>\n",
              "    </tr>\n",
              "    <tr>\n",
              "      <th>20635</th>\n",
              "      <td>-121.09</td>\n",
              "      <td>39.48</td>\n",
              "      <td>25.0</td>\n",
              "      <td>1665.0</td>\n",
              "      <td>374.0</td>\n",
              "      <td>845.0</td>\n",
              "      <td>330.0</td>\n",
              "      <td>1.5603</td>\n",
              "      <td>78100.0</td>\n",
              "      <td>20635</td>\n",
              "      <td>0</td>\n",
              "      <td>1</td>\n",
              "      <td>0</td>\n",
              "      <td>0</td>\n",
              "      <td>0</td>\n",
              "      <td>3</td>\n",
              "      <td>22.462462</td>\n",
              "    </tr>\n",
              "    <tr>\n",
              "      <th>20636</th>\n",
              "      <td>-121.21</td>\n",
              "      <td>39.49</td>\n",
              "      <td>18.0</td>\n",
              "      <td>697.0</td>\n",
              "      <td>150.0</td>\n",
              "      <td>356.0</td>\n",
              "      <td>114.0</td>\n",
              "      <td>2.5568</td>\n",
              "      <td>77100.0</td>\n",
              "      <td>20636</td>\n",
              "      <td>0</td>\n",
              "      <td>1</td>\n",
              "      <td>0</td>\n",
              "      <td>0</td>\n",
              "      <td>0</td>\n",
              "      <td>3</td>\n",
              "      <td>21.520803</td>\n",
              "    </tr>\n",
              "    <tr>\n",
              "      <th>20637</th>\n",
              "      <td>-121.22</td>\n",
              "      <td>39.43</td>\n",
              "      <td>17.0</td>\n",
              "      <td>2254.0</td>\n",
              "      <td>485.0</td>\n",
              "      <td>1165.0</td>\n",
              "      <td>433.0</td>\n",
              "      <td>1.7000</td>\n",
              "      <td>92300.0</td>\n",
              "      <td>20637</td>\n",
              "      <td>0</td>\n",
              "      <td>1</td>\n",
              "      <td>0</td>\n",
              "      <td>0</td>\n",
              "      <td>0</td>\n",
              "      <td>3</td>\n",
              "      <td>21.517303</td>\n",
              "    </tr>\n",
              "    <tr>\n",
              "      <th>20638</th>\n",
              "      <td>-121.32</td>\n",
              "      <td>39.43</td>\n",
              "      <td>18.0</td>\n",
              "      <td>1860.0</td>\n",
              "      <td>409.0</td>\n",
              "      <td>741.0</td>\n",
              "      <td>349.0</td>\n",
              "      <td>1.8672</td>\n",
              "      <td>84700.0</td>\n",
              "      <td>20638</td>\n",
              "      <td>0</td>\n",
              "      <td>1</td>\n",
              "      <td>0</td>\n",
              "      <td>0</td>\n",
              "      <td>0</td>\n",
              "      <td>3</td>\n",
              "      <td>21.989247</td>\n",
              "    </tr>\n",
              "    <tr>\n",
              "      <th>20639</th>\n",
              "      <td>-121.24</td>\n",
              "      <td>39.37</td>\n",
              "      <td>16.0</td>\n",
              "      <td>2785.0</td>\n",
              "      <td>616.0</td>\n",
              "      <td>1387.0</td>\n",
              "      <td>530.0</td>\n",
              "      <td>2.3886</td>\n",
              "      <td>89400.0</td>\n",
              "      <td>20639</td>\n",
              "      <td>0</td>\n",
              "      <td>1</td>\n",
              "      <td>0</td>\n",
              "      <td>0</td>\n",
              "      <td>0</td>\n",
              "      <td>3</td>\n",
              "      <td>22.118492</td>\n",
              "    </tr>\n",
              "  </tbody>\n",
              "</table>\n",
              "<p>20640 rows × 17 columns</p>\n",
              "</div>"
            ],
            "text/plain": [
              "       longitude  latitude  housing_median_age  total_rooms  total_bedrooms  \\\n",
              "0        -122.23     37.88                41.0        880.0           129.0   \n",
              "1        -122.22     37.86                21.0       7099.0          1106.0   \n",
              "2        -122.24     37.85                52.0       1467.0           190.0   \n",
              "3        -122.25     37.85                52.0       1274.0           235.0   \n",
              "4        -122.25     37.85                52.0       1627.0           280.0   \n",
              "...          ...       ...                 ...          ...             ...   \n",
              "20635    -121.09     39.48                25.0       1665.0           374.0   \n",
              "20636    -121.21     39.49                18.0        697.0           150.0   \n",
              "20637    -121.22     39.43                17.0       2254.0           485.0   \n",
              "20638    -121.32     39.43                18.0       1860.0           409.0   \n",
              "20639    -121.24     39.37                16.0       2785.0           616.0   \n",
              "\n",
              "       population  households  median_income  median_house_value     id  \\\n",
              "0           322.0       126.0         8.3252            452600.0      0   \n",
              "1          2401.0      1138.0         8.3014            358500.0      1   \n",
              "2           496.0       177.0         7.2574            352100.0      2   \n",
              "3           558.0       219.0         5.6431            341300.0      3   \n",
              "4           565.0       259.0         3.8462            342200.0      4   \n",
              "...           ...         ...            ...                 ...    ...   \n",
              "20635       845.0       330.0         1.5603             78100.0  20635   \n",
              "20636       356.0       114.0         2.5568             77100.0  20636   \n",
              "20637      1165.0       433.0         1.7000             92300.0  20637   \n",
              "20638       741.0       349.0         1.8672             84700.0  20638   \n",
              "20639      1387.0       530.0         2.3886             89400.0  20639   \n",
              "\n",
              "       ocean_proximity_<1H OCEAN  ocean_proximity_INLAND  \\\n",
              "0                              0                       0   \n",
              "1                              0                       0   \n",
              "2                              0                       0   \n",
              "3                              0                       0   \n",
              "4                              0                       0   \n",
              "...                          ...                     ...   \n",
              "20635                          0                       1   \n",
              "20636                          0                       1   \n",
              "20637                          0                       1   \n",
              "20638                          0                       1   \n",
              "20639                          0                       1   \n",
              "\n",
              "       ocean_proximity_ISLAND  ocean_proximity_NEAR BAY  \\\n",
              "0                           0                         1   \n",
              "1                           0                         1   \n",
              "2                           0                         1   \n",
              "3                           0                         1   \n",
              "4                           0                         1   \n",
              "...                       ...                       ...   \n",
              "20635                       0                         0   \n",
              "20636                       0                         0   \n",
              "20637                       0                         0   \n",
              "20638                       0                         0   \n",
              "20639                       0                         0   \n",
              "\n",
              "       ocean_proximity_NEAR OCEAN  age_cat  bedroom_share  \n",
              "0                               0        4      14.659091  \n",
              "1                               0        3      15.579659  \n",
              "2                               0        4      12.951602  \n",
              "3                               0        4      18.445840  \n",
              "4                               0        4      17.209588  \n",
              "...                           ...      ...            ...  \n",
              "20635                           0        3      22.462462  \n",
              "20636                           0        3      21.520803  \n",
              "20637                           0        3      21.517303  \n",
              "20638                           0        3      21.989247  \n",
              "20639                           0        3      22.118492  \n",
              "\n",
              "[20640 rows x 17 columns]"
            ]
          },
          "execution_count": 437,
          "metadata": {},
          "output_type": "execute_result"
        }
      ],
      "source": [
        "#Доля спален в общем количестве комнат\n",
        "df['bedroom_share'] = df['total_bedrooms']/df['total_rooms'] * 100\n",
        "df"
      ]
    },
    {
      "cell_type": "code",
      "execution_count": null,
      "id": "d4dc6467",
      "metadata": {
        "id": "d4dc6467",
        "outputId": "4a564cd4-452e-46a9-c702-14d8f5245de5"
      },
      "outputs": [
        {
          "data": {
            "text/plain": [
              "0        14.659091\n",
              "1        15.579659\n",
              "2        12.951602\n",
              "3        18.445840\n",
              "4        17.209588\n",
              "           ...    \n",
              "20635    22.462462\n",
              "20636    21.520803\n",
              "20637    21.517303\n",
              "20638    21.989247\n",
              "20639    22.118492\n",
              "Name: bedroom_share, Length: 20640, dtype: float64"
            ]
          },
          "execution_count": 438,
          "metadata": {},
          "output_type": "execute_result"
        }
      ],
      "source": [
        "bedroom_share = df['bedroom_share']\n",
        "bedroom_share"
      ]
    },
    {
      "cell_type": "code",
      "execution_count": null,
      "id": "5600ccfa",
      "metadata": {
        "id": "5600ccfa",
        "outputId": "dc2cd017-4af2-4567-d8e7-0936a66e12c4"
      },
      "outputs": [
        {
          "data": {
            "text/html": [
              "<div>\n",
              "<style scoped>\n",
              "    .dataframe tbody tr th:only-of-type {\n",
              "        vertical-align: middle;\n",
              "    }\n",
              "\n",
              "    .dataframe tbody tr th {\n",
              "        vertical-align: top;\n",
              "    }\n",
              "\n",
              "    .dataframe thead th {\n",
              "        text-align: right;\n",
              "    }\n",
              "</style>\n",
              "<table border=\"1\" class=\"dataframe\">\n",
              "  <thead>\n",
              "    <tr style=\"text-align: right;\">\n",
              "      <th></th>\n",
              "      <th>longitude</th>\n",
              "      <th>latitude</th>\n",
              "      <th>housing_median_age</th>\n",
              "      <th>total_rooms</th>\n",
              "      <th>total_bedrooms</th>\n",
              "      <th>population</th>\n",
              "      <th>households</th>\n",
              "      <th>median_income</th>\n",
              "      <th>median_house_value</th>\n",
              "      <th>id</th>\n",
              "      <th>ocean_proximity_&lt;1H OCEAN</th>\n",
              "      <th>ocean_proximity_INLAND</th>\n",
              "      <th>ocean_proximity_ISLAND</th>\n",
              "      <th>ocean_proximity_NEAR BAY</th>\n",
              "      <th>ocean_proximity_NEAR OCEAN</th>\n",
              "      <th>age_cat</th>\n",
              "      <th>bedroom_share</th>\n",
              "      <th>population_per_room</th>\n",
              "    </tr>\n",
              "  </thead>\n",
              "  <tbody>\n",
              "    <tr>\n",
              "      <th>0</th>\n",
              "      <td>-122.23</td>\n",
              "      <td>37.88</td>\n",
              "      <td>41.0</td>\n",
              "      <td>880.0</td>\n",
              "      <td>129.0</td>\n",
              "      <td>322.0</td>\n",
              "      <td>126.0</td>\n",
              "      <td>8.3252</td>\n",
              "      <td>452600.0</td>\n",
              "      <td>0</td>\n",
              "      <td>0</td>\n",
              "      <td>0</td>\n",
              "      <td>0</td>\n",
              "      <td>1</td>\n",
              "      <td>0</td>\n",
              "      <td>4</td>\n",
              "      <td>14.659091</td>\n",
              "      <td>0.365909</td>\n",
              "    </tr>\n",
              "    <tr>\n",
              "      <th>1</th>\n",
              "      <td>-122.22</td>\n",
              "      <td>37.86</td>\n",
              "      <td>21.0</td>\n",
              "      <td>7099.0</td>\n",
              "      <td>1106.0</td>\n",
              "      <td>2401.0</td>\n",
              "      <td>1138.0</td>\n",
              "      <td>8.3014</td>\n",
              "      <td>358500.0</td>\n",
              "      <td>1</td>\n",
              "      <td>0</td>\n",
              "      <td>0</td>\n",
              "      <td>0</td>\n",
              "      <td>1</td>\n",
              "      <td>0</td>\n",
              "      <td>3</td>\n",
              "      <td>15.579659</td>\n",
              "      <td>0.338217</td>\n",
              "    </tr>\n",
              "    <tr>\n",
              "      <th>2</th>\n",
              "      <td>-122.24</td>\n",
              "      <td>37.85</td>\n",
              "      <td>52.0</td>\n",
              "      <td>1467.0</td>\n",
              "      <td>190.0</td>\n",
              "      <td>496.0</td>\n",
              "      <td>177.0</td>\n",
              "      <td>7.2574</td>\n",
              "      <td>352100.0</td>\n",
              "      <td>2</td>\n",
              "      <td>0</td>\n",
              "      <td>0</td>\n",
              "      <td>0</td>\n",
              "      <td>1</td>\n",
              "      <td>0</td>\n",
              "      <td>4</td>\n",
              "      <td>12.951602</td>\n",
              "      <td>0.338105</td>\n",
              "    </tr>\n",
              "    <tr>\n",
              "      <th>3</th>\n",
              "      <td>-122.25</td>\n",
              "      <td>37.85</td>\n",
              "      <td>52.0</td>\n",
              "      <td>1274.0</td>\n",
              "      <td>235.0</td>\n",
              "      <td>558.0</td>\n",
              "      <td>219.0</td>\n",
              "      <td>5.6431</td>\n",
              "      <td>341300.0</td>\n",
              "      <td>3</td>\n",
              "      <td>0</td>\n",
              "      <td>0</td>\n",
              "      <td>0</td>\n",
              "      <td>1</td>\n",
              "      <td>0</td>\n",
              "      <td>4</td>\n",
              "      <td>18.445840</td>\n",
              "      <td>0.437991</td>\n",
              "    </tr>\n",
              "    <tr>\n",
              "      <th>4</th>\n",
              "      <td>-122.25</td>\n",
              "      <td>37.85</td>\n",
              "      <td>52.0</td>\n",
              "      <td>1627.0</td>\n",
              "      <td>280.0</td>\n",
              "      <td>565.0</td>\n",
              "      <td>259.0</td>\n",
              "      <td>3.8462</td>\n",
              "      <td>342200.0</td>\n",
              "      <td>4</td>\n",
              "      <td>0</td>\n",
              "      <td>0</td>\n",
              "      <td>0</td>\n",
              "      <td>1</td>\n",
              "      <td>0</td>\n",
              "      <td>4</td>\n",
              "      <td>17.209588</td>\n",
              "      <td>0.347265</td>\n",
              "    </tr>\n",
              "    <tr>\n",
              "      <th>...</th>\n",
              "      <td>...</td>\n",
              "      <td>...</td>\n",
              "      <td>...</td>\n",
              "      <td>...</td>\n",
              "      <td>...</td>\n",
              "      <td>...</td>\n",
              "      <td>...</td>\n",
              "      <td>...</td>\n",
              "      <td>...</td>\n",
              "      <td>...</td>\n",
              "      <td>...</td>\n",
              "      <td>...</td>\n",
              "      <td>...</td>\n",
              "      <td>...</td>\n",
              "      <td>...</td>\n",
              "      <td>...</td>\n",
              "      <td>...</td>\n",
              "      <td>...</td>\n",
              "    </tr>\n",
              "    <tr>\n",
              "      <th>20635</th>\n",
              "      <td>-121.09</td>\n",
              "      <td>39.48</td>\n",
              "      <td>25.0</td>\n",
              "      <td>1665.0</td>\n",
              "      <td>374.0</td>\n",
              "      <td>845.0</td>\n",
              "      <td>330.0</td>\n",
              "      <td>1.5603</td>\n",
              "      <td>78100.0</td>\n",
              "      <td>20635</td>\n",
              "      <td>0</td>\n",
              "      <td>1</td>\n",
              "      <td>0</td>\n",
              "      <td>0</td>\n",
              "      <td>0</td>\n",
              "      <td>3</td>\n",
              "      <td>22.462462</td>\n",
              "      <td>0.507508</td>\n",
              "    </tr>\n",
              "    <tr>\n",
              "      <th>20636</th>\n",
              "      <td>-121.21</td>\n",
              "      <td>39.49</td>\n",
              "      <td>18.0</td>\n",
              "      <td>697.0</td>\n",
              "      <td>150.0</td>\n",
              "      <td>356.0</td>\n",
              "      <td>114.0</td>\n",
              "      <td>2.5568</td>\n",
              "      <td>77100.0</td>\n",
              "      <td>20636</td>\n",
              "      <td>0</td>\n",
              "      <td>1</td>\n",
              "      <td>0</td>\n",
              "      <td>0</td>\n",
              "      <td>0</td>\n",
              "      <td>3</td>\n",
              "      <td>21.520803</td>\n",
              "      <td>0.510760</td>\n",
              "    </tr>\n",
              "    <tr>\n",
              "      <th>20637</th>\n",
              "      <td>-121.22</td>\n",
              "      <td>39.43</td>\n",
              "      <td>17.0</td>\n",
              "      <td>2254.0</td>\n",
              "      <td>485.0</td>\n",
              "      <td>1165.0</td>\n",
              "      <td>433.0</td>\n",
              "      <td>1.7000</td>\n",
              "      <td>92300.0</td>\n",
              "      <td>20637</td>\n",
              "      <td>0</td>\n",
              "      <td>1</td>\n",
              "      <td>0</td>\n",
              "      <td>0</td>\n",
              "      <td>0</td>\n",
              "      <td>3</td>\n",
              "      <td>21.517303</td>\n",
              "      <td>0.516859</td>\n",
              "    </tr>\n",
              "    <tr>\n",
              "      <th>20638</th>\n",
              "      <td>-121.32</td>\n",
              "      <td>39.43</td>\n",
              "      <td>18.0</td>\n",
              "      <td>1860.0</td>\n",
              "      <td>409.0</td>\n",
              "      <td>741.0</td>\n",
              "      <td>349.0</td>\n",
              "      <td>1.8672</td>\n",
              "      <td>84700.0</td>\n",
              "      <td>20638</td>\n",
              "      <td>0</td>\n",
              "      <td>1</td>\n",
              "      <td>0</td>\n",
              "      <td>0</td>\n",
              "      <td>0</td>\n",
              "      <td>3</td>\n",
              "      <td>21.989247</td>\n",
              "      <td>0.398387</td>\n",
              "    </tr>\n",
              "    <tr>\n",
              "      <th>20639</th>\n",
              "      <td>-121.24</td>\n",
              "      <td>39.37</td>\n",
              "      <td>16.0</td>\n",
              "      <td>2785.0</td>\n",
              "      <td>616.0</td>\n",
              "      <td>1387.0</td>\n",
              "      <td>530.0</td>\n",
              "      <td>2.3886</td>\n",
              "      <td>89400.0</td>\n",
              "      <td>20639</td>\n",
              "      <td>0</td>\n",
              "      <td>1</td>\n",
              "      <td>0</td>\n",
              "      <td>0</td>\n",
              "      <td>0</td>\n",
              "      <td>3</td>\n",
              "      <td>22.118492</td>\n",
              "      <td>0.498025</td>\n",
              "    </tr>\n",
              "  </tbody>\n",
              "</table>\n",
              "<p>20640 rows × 18 columns</p>\n",
              "</div>"
            ],
            "text/plain": [
              "       longitude  latitude  housing_median_age  total_rooms  total_bedrooms  \\\n",
              "0        -122.23     37.88                41.0        880.0           129.0   \n",
              "1        -122.22     37.86                21.0       7099.0          1106.0   \n",
              "2        -122.24     37.85                52.0       1467.0           190.0   \n",
              "3        -122.25     37.85                52.0       1274.0           235.0   \n",
              "4        -122.25     37.85                52.0       1627.0           280.0   \n",
              "...          ...       ...                 ...          ...             ...   \n",
              "20635    -121.09     39.48                25.0       1665.0           374.0   \n",
              "20636    -121.21     39.49                18.0        697.0           150.0   \n",
              "20637    -121.22     39.43                17.0       2254.0           485.0   \n",
              "20638    -121.32     39.43                18.0       1860.0           409.0   \n",
              "20639    -121.24     39.37                16.0       2785.0           616.0   \n",
              "\n",
              "       population  households  median_income  median_house_value     id  \\\n",
              "0           322.0       126.0         8.3252            452600.0      0   \n",
              "1          2401.0      1138.0         8.3014            358500.0      1   \n",
              "2           496.0       177.0         7.2574            352100.0      2   \n",
              "3           558.0       219.0         5.6431            341300.0      3   \n",
              "4           565.0       259.0         3.8462            342200.0      4   \n",
              "...           ...         ...            ...                 ...    ...   \n",
              "20635       845.0       330.0         1.5603             78100.0  20635   \n",
              "20636       356.0       114.0         2.5568             77100.0  20636   \n",
              "20637      1165.0       433.0         1.7000             92300.0  20637   \n",
              "20638       741.0       349.0         1.8672             84700.0  20638   \n",
              "20639      1387.0       530.0         2.3886             89400.0  20639   \n",
              "\n",
              "       ocean_proximity_<1H OCEAN  ocean_proximity_INLAND  \\\n",
              "0                              0                       0   \n",
              "1                              0                       0   \n",
              "2                              0                       0   \n",
              "3                              0                       0   \n",
              "4                              0                       0   \n",
              "...                          ...                     ...   \n",
              "20635                          0                       1   \n",
              "20636                          0                       1   \n",
              "20637                          0                       1   \n",
              "20638                          0                       1   \n",
              "20639                          0                       1   \n",
              "\n",
              "       ocean_proximity_ISLAND  ocean_proximity_NEAR BAY  \\\n",
              "0                           0                         1   \n",
              "1                           0                         1   \n",
              "2                           0                         1   \n",
              "3                           0                         1   \n",
              "4                           0                         1   \n",
              "...                       ...                       ...   \n",
              "20635                       0                         0   \n",
              "20636                       0                         0   \n",
              "20637                       0                         0   \n",
              "20638                       0                         0   \n",
              "20639                       0                         0   \n",
              "\n",
              "       ocean_proximity_NEAR OCEAN  age_cat  bedroom_share  population_per_room  \n",
              "0                               0        4      14.659091             0.365909  \n",
              "1                               0        3      15.579659             0.338217  \n",
              "2                               0        4      12.951602             0.338105  \n",
              "3                               0        4      18.445840             0.437991  \n",
              "4                               0        4      17.209588             0.347265  \n",
              "...                           ...      ...            ...                  ...  \n",
              "20635                           0        3      22.462462             0.507508  \n",
              "20636                           0        3      21.520803             0.510760  \n",
              "20637                           0        3      21.517303             0.516859  \n",
              "20638                           0        3      21.989247             0.398387  \n",
              "20639                           0        3      22.118492             0.498025  \n",
              "\n",
              "[20640 rows x 18 columns]"
            ]
          },
          "execution_count": 439,
          "metadata": {},
          "output_type": "execute_result"
        }
      ],
      "source": [
        "#Сколько человек в среднем живут в одной комнате\n",
        "df['population_per_room'] = df['population']/df['total_rooms']\n",
        "df"
      ]
    },
    {
      "cell_type": "code",
      "execution_count": null,
      "id": "a37e8580",
      "metadata": {
        "id": "a37e8580",
        "outputId": "1d8b7933-4b33-4c5c-e734-a25fc7f9fd8a"
      },
      "outputs": [
        {
          "data": {
            "text/plain": [
              "0        0.365909\n",
              "1        0.338217\n",
              "2        0.338105\n",
              "3        0.437991\n",
              "4        0.347265\n",
              "           ...   \n",
              "20635    0.507508\n",
              "20636    0.510760\n",
              "20637    0.516859\n",
              "20638    0.398387\n",
              "20639    0.498025\n",
              "Name: population_per_room, Length: 20640, dtype: float64"
            ]
          },
          "execution_count": 440,
          "metadata": {},
          "output_type": "execute_result"
        }
      ],
      "source": [
        "population_per_room = df['population_per_room']\n",
        "population_per_room"
      ]
    },
    {
      "cell_type": "markdown",
      "id": "59cc8463",
      "metadata": {
        "id": "59cc8463"
      },
      "source": [
        "Сохранение результатов"
      ]
    },
    {
      "cell_type": "code",
      "execution_count": null,
      "id": "ce47b285",
      "metadata": {
        "id": "ce47b285",
        "outputId": "44f1d172-e17e-4186-df68-91e655523305"
      },
      "outputs": [
        {
          "data": {
            "text/html": [
              "<div>\n",
              "<style scoped>\n",
              "    .dataframe tbody tr th:only-of-type {\n",
              "        vertical-align: middle;\n",
              "    }\n",
              "\n",
              "    .dataframe tbody tr th {\n",
              "        vertical-align: top;\n",
              "    }\n",
              "\n",
              "    .dataframe thead th {\n",
              "        text-align: right;\n",
              "    }\n",
              "</style>\n",
              "<table border=\"1\" class=\"dataframe\">\n",
              "  <thead>\n",
              "    <tr style=\"text-align: right;\">\n",
              "      <th></th>\n",
              "      <th>longitude</th>\n",
              "      <th>latitude</th>\n",
              "      <th>housing_median_age</th>\n",
              "      <th>total_rooms</th>\n",
              "      <th>total_bedrooms</th>\n",
              "      <th>population</th>\n",
              "      <th>households</th>\n",
              "      <th>median_income</th>\n",
              "      <th>median_house_value</th>\n",
              "      <th>id</th>\n",
              "      <th>ocean_proximity_&lt;1H OCEAN</th>\n",
              "      <th>ocean_proximity_INLAND</th>\n",
              "      <th>ocean_proximity_ISLAND</th>\n",
              "      <th>ocean_proximity_NEAR BAY</th>\n",
              "      <th>ocean_proximity_NEAR OCEAN</th>\n",
              "      <th>age_cat</th>\n",
              "      <th>bedroom_share</th>\n",
              "      <th>population_per_room</th>\n",
              "    </tr>\n",
              "  </thead>\n",
              "  <tbody>\n",
              "    <tr>\n",
              "      <th>0</th>\n",
              "      <td>-122.23</td>\n",
              "      <td>37.88</td>\n",
              "      <td>41.0</td>\n",
              "      <td>880.0</td>\n",
              "      <td>129.0</td>\n",
              "      <td>322.0</td>\n",
              "      <td>126.0</td>\n",
              "      <td>8.3252</td>\n",
              "      <td>452600.0</td>\n",
              "      <td>0</td>\n",
              "      <td>0</td>\n",
              "      <td>0</td>\n",
              "      <td>0</td>\n",
              "      <td>1</td>\n",
              "      <td>0</td>\n",
              "      <td>4</td>\n",
              "      <td>14.659091</td>\n",
              "      <td>0.365909</td>\n",
              "    </tr>\n",
              "    <tr>\n",
              "      <th>1</th>\n",
              "      <td>-122.22</td>\n",
              "      <td>37.86</td>\n",
              "      <td>21.0</td>\n",
              "      <td>7099.0</td>\n",
              "      <td>1106.0</td>\n",
              "      <td>2401.0</td>\n",
              "      <td>1138.0</td>\n",
              "      <td>8.3014</td>\n",
              "      <td>358500.0</td>\n",
              "      <td>1</td>\n",
              "      <td>0</td>\n",
              "      <td>0</td>\n",
              "      <td>0</td>\n",
              "      <td>1</td>\n",
              "      <td>0</td>\n",
              "      <td>3</td>\n",
              "      <td>15.579659</td>\n",
              "      <td>0.338217</td>\n",
              "    </tr>\n",
              "    <tr>\n",
              "      <th>2</th>\n",
              "      <td>-122.24</td>\n",
              "      <td>37.85</td>\n",
              "      <td>52.0</td>\n",
              "      <td>1467.0</td>\n",
              "      <td>190.0</td>\n",
              "      <td>496.0</td>\n",
              "      <td>177.0</td>\n",
              "      <td>7.2574</td>\n",
              "      <td>352100.0</td>\n",
              "      <td>2</td>\n",
              "      <td>0</td>\n",
              "      <td>0</td>\n",
              "      <td>0</td>\n",
              "      <td>1</td>\n",
              "      <td>0</td>\n",
              "      <td>4</td>\n",
              "      <td>12.951602</td>\n",
              "      <td>0.338105</td>\n",
              "    </tr>\n",
              "    <tr>\n",
              "      <th>3</th>\n",
              "      <td>-122.25</td>\n",
              "      <td>37.85</td>\n",
              "      <td>52.0</td>\n",
              "      <td>1274.0</td>\n",
              "      <td>235.0</td>\n",
              "      <td>558.0</td>\n",
              "      <td>219.0</td>\n",
              "      <td>5.6431</td>\n",
              "      <td>341300.0</td>\n",
              "      <td>3</td>\n",
              "      <td>0</td>\n",
              "      <td>0</td>\n",
              "      <td>0</td>\n",
              "      <td>1</td>\n",
              "      <td>0</td>\n",
              "      <td>4</td>\n",
              "      <td>18.445840</td>\n",
              "      <td>0.437991</td>\n",
              "    </tr>\n",
              "    <tr>\n",
              "      <th>4</th>\n",
              "      <td>-122.25</td>\n",
              "      <td>37.85</td>\n",
              "      <td>52.0</td>\n",
              "      <td>1627.0</td>\n",
              "      <td>280.0</td>\n",
              "      <td>565.0</td>\n",
              "      <td>259.0</td>\n",
              "      <td>3.8462</td>\n",
              "      <td>342200.0</td>\n",
              "      <td>4</td>\n",
              "      <td>0</td>\n",
              "      <td>0</td>\n",
              "      <td>0</td>\n",
              "      <td>1</td>\n",
              "      <td>0</td>\n",
              "      <td>4</td>\n",
              "      <td>17.209588</td>\n",
              "      <td>0.347265</td>\n",
              "    </tr>\n",
              "  </tbody>\n",
              "</table>\n",
              "</div>"
            ],
            "text/plain": [
              "   longitude  latitude  housing_median_age  total_rooms  total_bedrooms  \\\n",
              "0    -122.23     37.88                41.0        880.0           129.0   \n",
              "1    -122.22     37.86                21.0       7099.0          1106.0   \n",
              "2    -122.24     37.85                52.0       1467.0           190.0   \n",
              "3    -122.25     37.85                52.0       1274.0           235.0   \n",
              "4    -122.25     37.85                52.0       1627.0           280.0   \n",
              "\n",
              "   population  households  median_income  median_house_value  id  \\\n",
              "0       322.0       126.0         8.3252            452600.0   0   \n",
              "1      2401.0      1138.0         8.3014            358500.0   1   \n",
              "2       496.0       177.0         7.2574            352100.0   2   \n",
              "3       558.0       219.0         5.6431            341300.0   3   \n",
              "4       565.0       259.0         3.8462            342200.0   4   \n",
              "\n",
              "   ocean_proximity_<1H OCEAN  ocean_proximity_INLAND  ocean_proximity_ISLAND  \\\n",
              "0                          0                       0                       0   \n",
              "1                          0                       0                       0   \n",
              "2                          0                       0                       0   \n",
              "3                          0                       0                       0   \n",
              "4                          0                       0                       0   \n",
              "\n",
              "   ocean_proximity_NEAR BAY  ocean_proximity_NEAR OCEAN  age_cat  \\\n",
              "0                         1                           0        4   \n",
              "1                         1                           0        3   \n",
              "2                         1                           0        4   \n",
              "3                         1                           0        4   \n",
              "4                         1                           0        4   \n",
              "\n",
              "   bedroom_share  population_per_room  \n",
              "0      14.659091             0.365909  \n",
              "1      15.579659             0.338217  \n",
              "2      12.951602             0.338105  \n",
              "3      18.445840             0.437991  \n",
              "4      17.209588             0.347265  "
            ]
          },
          "execution_count": 441,
          "metadata": {},
          "output_type": "execute_result"
        }
      ],
      "source": [
        "df.head()"
      ]
    },
    {
      "cell_type": "code",
      "execution_count": null,
      "id": "253240cc",
      "metadata": {
        "id": "253240cc",
        "outputId": "a55332e6-07fd-4da2-b46e-99a16bd83c6a"
      },
      "outputs": [
        {
          "data": {
            "image/png": "[encoded data removed]",
            "text/plain": [
              "<Figure size 1152x576 with 1 Axes>"
            ]
          },
          "metadata": {
            "needs_background": "light"
          },
          "output_type": "display_data"
        }
      ],
      "source": [
        "#Корреляция значения средней цены от каждого признака\n",
        "correlation = df.corrwith(df['median_house_value']).sort_values(ascending=False)\n",
        "correlation.drop('median_house_value', inplace=True)\n",
        "\n",
        "plt.figure(figsize = (16, 8))\n",
        "plt.bar(correlation.index, correlation)\n",
        "plt.xticks(rotation='90')\n",
        "plt.xlabel('Features', fontsize=15)\n",
        "plt.ylabel('Correlation', fontsize=15)\n",
        "plt.title('feature correlation', fontsize=15)\n",
        "plt.show()\n"
      ]
    },
    {
      "cell_type": "markdown",
      "id": "935ffa60",
      "metadata": {
        "id": "935ffa60"
      },
      "source": [
        "7) Построение модели"
      ]
    },
    {
      "cell_type": "code",
      "execution_count": null,
      "id": "fd67a558",
      "metadata": {
        "id": "fd67a558",
        "outputId": "bf2b86c1-6864-4378-d5e4-bae05ef18b3c"
      },
      "outputs": [
        {
          "data": {
            "text/plain": [
              "Index(['longitude', 'latitude', 'housing_median_age', 'total_rooms',\n",
              "       'total_bedrooms', 'population', 'households', 'median_income',\n",
              "       'median_house_value', 'ocean_proximity_<1H OCEAN',\n",
              "       'ocean_proximity_INLAND', 'ocean_proximity_ISLAND',\n",
              "       'ocean_proximity_NEAR BAY', 'ocean_proximity_NEAR OCEAN', 'age_cat',\n",
              "       'bedroom_share', 'population_per_room'],\n",
              "      dtype='object')"
            ]
          },
          "execution_count": 443,
          "metadata": {},
          "output_type": "execute_result"
        }
      ],
      "source": [
        "#Исключаем признак 'id'\n",
        "df.drop(columns='id', inplace=True)\n",
        "df.columns"
      ]
    },
    {
      "cell_type": "markdown",
      "id": "f71d3f61",
      "metadata": {
        "id": "f71d3f61"
      },
      "source": [
        "Неколичественные строковые признаки всегда нужно переводить в числовое представление, так как многие модели машинного обучения не способны работать со строками."
      ]
    },
    {
      "cell_type": "code",
      "execution_count": null,
      "id": "12961a38",
      "metadata": {
        "id": "12961a38",
        "outputId": "522dbf77-c77e-4bca-f733-bf2f88a05f2d"
      },
      "outputs": [
        {
          "name": "stdout",
          "output_type": "stream",
          "text": [
            "<class 'pandas.core.frame.DataFrame'>\n",
            "RangeIndex: 20640 entries, 0 to 20639\n",
            "Data columns (total 17 columns):\n",
            " #   Column                      Non-Null Count  Dtype  \n",
            "---  ------                      --------------  -----  \n",
            " 0   longitude                   20640 non-null  float64\n",
            " 1   latitude                    20640 non-null  float64\n",
            " 2   housing_median_age          20640 non-null  float64\n",
            " 3   total_rooms                 20640 non-null  float64\n",
            " 4   total_bedrooms              20640 non-null  float64\n",
            " 5   population                  20640 non-null  float64\n",
            " 6   households                  20640 non-null  float64\n",
            " 7   median_income               20640 non-null  float64\n",
            " 8   median_house_value          20640 non-null  float64\n",
            " 9   ocean_proximity_<1H OCEAN   20640 non-null  uint8  \n",
            " 10  ocean_proximity_INLAND      20640 non-null  uint8  \n",
            " 11  ocean_proximity_ISLAND      20640 non-null  uint8  \n",
            " 12  ocean_proximity_NEAR BAY    20640 non-null  uint8  \n",
            " 13  ocean_proximity_NEAR OCEAN  20640 non-null  uint8  \n",
            " 14  age_cat                     20640 non-null  int64  \n",
            " 15  bedroom_share               20640 non-null  float64\n",
            " 16  population_per_room         20640 non-null  float64\n",
            "dtypes: float64(11), int64(1), uint8(5)\n",
            "memory usage: 2.0 MB\n"
          ]
        }
      ],
      "source": [
        "df.info()"
      ]
    },
    {
      "cell_type": "code",
      "execution_count": null,
      "id": "8e55e47a",
      "metadata": {
        "id": "8e55e47a",
        "outputId": "a4145177-16fe-4e95-d618-ee7e6ef5b977"
      },
      "outputs": [
        {
          "data": {
            "text/plain": [
              "Index(['longitude', 'latitude', 'housing_median_age', 'total_rooms',\n",
              "       'total_bedrooms', 'population', 'households', 'median_income',\n",
              "       'median_house_value', 'ocean_proximity_<1H OCEAN',\n",
              "       'ocean_proximity_INLAND', 'ocean_proximity_ISLAND',\n",
              "       'ocean_proximity_NEAR BAY', 'ocean_proximity_NEAR OCEAN', 'age_cat',\n",
              "       'bedroom_share', 'population_per_room'],\n",
              "      dtype='object')"
            ]
          },
          "execution_count": 445,
          "metadata": {},
          "output_type": "execute_result"
        }
      ],
      "source": [
        "feature_names = df.columns\n",
        "feature_names"
      ]
    },
    {
      "cell_type": "markdown",
      "id": "9dc96ed9",
      "metadata": {
        "id": "9dc96ed9"
      },
      "source": [
        "Создадим несколько таблиц DataFrame для более удобного хранения данных. В таблице X будут храниться признаки. В качестве названий для столбцов возьмём массив columns:"
      ]
    },
    {
      "cell_type": "code",
      "execution_count": null,
      "id": "b38aa7e3",
      "metadata": {
        "id": "b38aa7e3",
        "outputId": "a6759bb0-d358-47b1-831b-7c0c293b50a8"
      },
      "outputs": [
        {
          "data": {
            "text/html": [
              "<div>\n",
              "<style scoped>\n",
              "    .dataframe tbody tr th:only-of-type {\n",
              "        vertical-align: middle;\n",
              "    }\n",
              "\n",
              "    .dataframe tbody tr th {\n",
              "        vertical-align: top;\n",
              "    }\n",
              "\n",
              "    .dataframe thead th {\n",
              "        text-align: right;\n",
              "    }\n",
              "</style>\n",
              "<table border=\"1\" class=\"dataframe\">\n",
              "  <thead>\n",
              "    <tr style=\"text-align: right;\">\n",
              "      <th></th>\n",
              "      <th>longitude</th>\n",
              "      <th>latitude</th>\n",
              "      <th>housing_median_age</th>\n",
              "      <th>total_rooms</th>\n",
              "      <th>total_bedrooms</th>\n",
              "      <th>population</th>\n",
              "      <th>households</th>\n",
              "      <th>median_income</th>\n",
              "      <th>median_house_value</th>\n",
              "      <th>ocean_proximity_&lt;1H OCEAN</th>\n",
              "      <th>ocean_proximity_INLAND</th>\n",
              "      <th>ocean_proximity_ISLAND</th>\n",
              "      <th>ocean_proximity_NEAR BAY</th>\n",
              "      <th>ocean_proximity_NEAR OCEAN</th>\n",
              "      <th>age_cat</th>\n",
              "      <th>bedroom_share</th>\n",
              "      <th>population_per_room</th>\n",
              "    </tr>\n",
              "  </thead>\n",
              "  <tbody>\n",
              "    <tr>\n",
              "      <th>0</th>\n",
              "      <td>-122.23</td>\n",
              "      <td>37.88</td>\n",
              "      <td>41.0</td>\n",
              "      <td>880.0</td>\n",
              "      <td>129.0</td>\n",
              "      <td>322.0</td>\n",
              "      <td>126.0</td>\n",
              "      <td>8.3252</td>\n",
              "      <td>452600.0</td>\n",
              "      <td>0</td>\n",
              "      <td>0</td>\n",
              "      <td>0</td>\n",
              "      <td>1</td>\n",
              "      <td>0</td>\n",
              "      <td>4</td>\n",
              "      <td>14.659091</td>\n",
              "      <td>0.365909</td>\n",
              "    </tr>\n",
              "    <tr>\n",
              "      <th>1</th>\n",
              "      <td>-122.22</td>\n",
              "      <td>37.86</td>\n",
              "      <td>21.0</td>\n",
              "      <td>7099.0</td>\n",
              "      <td>1106.0</td>\n",
              "      <td>2401.0</td>\n",
              "      <td>1138.0</td>\n",
              "      <td>8.3014</td>\n",
              "      <td>358500.0</td>\n",
              "      <td>0</td>\n",
              "      <td>0</td>\n",
              "      <td>0</td>\n",
              "      <td>1</td>\n",
              "      <td>0</td>\n",
              "      <td>3</td>\n",
              "      <td>15.579659</td>\n",
              "      <td>0.338217</td>\n",
              "    </tr>\n",
              "    <tr>\n",
              "      <th>2</th>\n",
              "      <td>-122.24</td>\n",
              "      <td>37.85</td>\n",
              "      <td>52.0</td>\n",
              "      <td>1467.0</td>\n",
              "      <td>190.0</td>\n",
              "      <td>496.0</td>\n",
              "      <td>177.0</td>\n",
              "      <td>7.2574</td>\n",
              "      <td>352100.0</td>\n",
              "      <td>0</td>\n",
              "      <td>0</td>\n",
              "      <td>0</td>\n",
              "      <td>1</td>\n",
              "      <td>0</td>\n",
              "      <td>4</td>\n",
              "      <td>12.951602</td>\n",
              "      <td>0.338105</td>\n",
              "    </tr>\n",
              "    <tr>\n",
              "      <th>3</th>\n",
              "      <td>-122.25</td>\n",
              "      <td>37.85</td>\n",
              "      <td>52.0</td>\n",
              "      <td>1274.0</td>\n",
              "      <td>235.0</td>\n",
              "      <td>558.0</td>\n",
              "      <td>219.0</td>\n",
              "      <td>5.6431</td>\n",
              "      <td>341300.0</td>\n",
              "      <td>0</td>\n",
              "      <td>0</td>\n",
              "      <td>0</td>\n",
              "      <td>1</td>\n",
              "      <td>0</td>\n",
              "      <td>4</td>\n",
              "      <td>18.445840</td>\n",
              "      <td>0.437991</td>\n",
              "    </tr>\n",
              "    <tr>\n",
              "      <th>4</th>\n",
              "      <td>-122.25</td>\n",
              "      <td>37.85</td>\n",
              "      <td>52.0</td>\n",
              "      <td>1627.0</td>\n",
              "      <td>280.0</td>\n",
              "      <td>565.0</td>\n",
              "      <td>259.0</td>\n",
              "      <td>3.8462</td>\n",
              "      <td>342200.0</td>\n",
              "      <td>0</td>\n",
              "      <td>0</td>\n",
              "      <td>0</td>\n",
              "      <td>1</td>\n",
              "      <td>0</td>\n",
              "      <td>4</td>\n",
              "      <td>17.209588</td>\n",
              "      <td>0.347265</td>\n",
              "    </tr>\n",
              "    <tr>\n",
              "      <th>...</th>\n",
              "      <td>...</td>\n",
              "      <td>...</td>\n",
              "      <td>...</td>\n",
              "      <td>...</td>\n",
              "      <td>...</td>\n",
              "      <td>...</td>\n",
              "      <td>...</td>\n",
              "      <td>...</td>\n",
              "      <td>...</td>\n",
              "      <td>...</td>\n",
              "      <td>...</td>\n",
              "      <td>...</td>\n",
              "      <td>...</td>\n",
              "      <td>...</td>\n",
              "      <td>...</td>\n",
              "      <td>...</td>\n",
              "      <td>...</td>\n",
              "    </tr>\n",
              "    <tr>\n",
              "      <th>20635</th>\n",
              "      <td>-121.09</td>\n",
              "      <td>39.48</td>\n",
              "      <td>25.0</td>\n",
              "      <td>1665.0</td>\n",
              "      <td>374.0</td>\n",
              "      <td>845.0</td>\n",
              "      <td>330.0</td>\n",
              "      <td>1.5603</td>\n",
              "      <td>78100.0</td>\n",
              "      <td>0</td>\n",
              "      <td>1</td>\n",
              "      <td>0</td>\n",
              "      <td>0</td>\n",
              "      <td>0</td>\n",
              "      <td>3</td>\n",
              "      <td>22.462462</td>\n",
              "      <td>0.507508</td>\n",
              "    </tr>\n",
              "    <tr>\n",
              "      <th>20636</th>\n",
              "      <td>-121.21</td>\n",
              "      <td>39.49</td>\n",
              "      <td>18.0</td>\n",
              "      <td>697.0</td>\n",
              "      <td>150.0</td>\n",
              "      <td>356.0</td>\n",
              "      <td>114.0</td>\n",
              "      <td>2.5568</td>\n",
              "      <td>77100.0</td>\n",
              "      <td>0</td>\n",
              "      <td>1</td>\n",
              "      <td>0</td>\n",
              "      <td>0</td>\n",
              "      <td>0</td>\n",
              "      <td>3</td>\n",
              "      <td>21.520803</td>\n",
              "      <td>0.510760</td>\n",
              "    </tr>\n",
              "    <tr>\n",
              "      <th>20637</th>\n",
              "      <td>-121.22</td>\n",
              "      <td>39.43</td>\n",
              "      <td>17.0</td>\n",
              "      <td>2254.0</td>\n",
              "      <td>485.0</td>\n",
              "      <td>1165.0</td>\n",
              "      <td>433.0</td>\n",
              "      <td>1.7000</td>\n",
              "      <td>92300.0</td>\n",
              "      <td>0</td>\n",
              "      <td>1</td>\n",
              "      <td>0</td>\n",
              "      <td>0</td>\n",
              "      <td>0</td>\n",
              "      <td>3</td>\n",
              "      <td>21.517303</td>\n",
              "      <td>0.516859</td>\n",
              "    </tr>\n",
              "    <tr>\n",
              "      <th>20638</th>\n",
              "      <td>-121.32</td>\n",
              "      <td>39.43</td>\n",
              "      <td>18.0</td>\n",
              "      <td>1860.0</td>\n",
              "      <td>409.0</td>\n",
              "      <td>741.0</td>\n",
              "      <td>349.0</td>\n",
              "      <td>1.8672</td>\n",
              "      <td>84700.0</td>\n",
              "      <td>0</td>\n",
              "      <td>1</td>\n",
              "      <td>0</td>\n",
              "      <td>0</td>\n",
              "      <td>0</td>\n",
              "      <td>3</td>\n",
              "      <td>21.989247</td>\n",
              "      <td>0.398387</td>\n",
              "    </tr>\n",
              "    <tr>\n",
              "      <th>20639</th>\n",
              "      <td>-121.24</td>\n",
              "      <td>39.37</td>\n",
              "      <td>16.0</td>\n",
              "      <td>2785.0</td>\n",
              "      <td>616.0</td>\n",
              "      <td>1387.0</td>\n",
              "      <td>530.0</td>\n",
              "      <td>2.3886</td>\n",
              "      <td>89400.0</td>\n",
              "      <td>0</td>\n",
              "      <td>1</td>\n",
              "      <td>0</td>\n",
              "      <td>0</td>\n",
              "      <td>0</td>\n",
              "      <td>3</td>\n",
              "      <td>22.118492</td>\n",
              "      <td>0.498025</td>\n",
              "    </tr>\n",
              "  </tbody>\n",
              "</table>\n",
              "<p>20640 rows × 17 columns</p>\n",
              "</div>"
            ],
            "text/plain": [
              "       longitude  latitude  housing_median_age  total_rooms  total_bedrooms  \\\n",
              "0        -122.23     37.88                41.0        880.0           129.0   \n",
              "1        -122.22     37.86                21.0       7099.0          1106.0   \n",
              "2        -122.24     37.85                52.0       1467.0           190.0   \n",
              "3        -122.25     37.85                52.0       1274.0           235.0   \n",
              "4        -122.25     37.85                52.0       1627.0           280.0   \n",
              "...          ...       ...                 ...          ...             ...   \n",
              "20635    -121.09     39.48                25.0       1665.0           374.0   \n",
              "20636    -121.21     39.49                18.0        697.0           150.0   \n",
              "20637    -121.22     39.43                17.0       2254.0           485.0   \n",
              "20638    -121.32     39.43                18.0       1860.0           409.0   \n",
              "20639    -121.24     39.37                16.0       2785.0           616.0   \n",
              "\n",
              "       population  households  median_income  median_house_value  \\\n",
              "0           322.0       126.0         8.3252            452600.0   \n",
              "1          2401.0      1138.0         8.3014            358500.0   \n",
              "2           496.0       177.0         7.2574            352100.0   \n",
              "3           558.0       219.0         5.6431            341300.0   \n",
              "4           565.0       259.0         3.8462            342200.0   \n",
              "...           ...         ...            ...                 ...   \n",
              "20635       845.0       330.0         1.5603             78100.0   \n",
              "20636       356.0       114.0         2.5568             77100.0   \n",
              "20637      1165.0       433.0         1.7000             92300.0   \n",
              "20638       741.0       349.0         1.8672             84700.0   \n",
              "20639      1387.0       530.0         2.3886             89400.0   \n",
              "\n",
              "       ocean_proximity_<1H OCEAN  ocean_proximity_INLAND  \\\n",
              "0                              0                       0   \n",
              "1                              0                       0   \n",
              "2                              0                       0   \n",
              "3                              0                       0   \n",
              "4                              0                       0   \n",
              "...                          ...                     ...   \n",
              "20635                          0                       1   \n",
              "20636                          0                       1   \n",
              "20637                          0                       1   \n",
              "20638                          0                       1   \n",
              "20639                          0                       1   \n",
              "\n",
              "       ocean_proximity_ISLAND  ocean_proximity_NEAR BAY  \\\n",
              "0                           0                         1   \n",
              "1                           0                         1   \n",
              "2                           0                         1   \n",
              "3                           0                         1   \n",
              "4                           0                         1   \n",
              "...                       ...                       ...   \n",
              "20635                       0                         0   \n",
              "20636                       0                         0   \n",
              "20637                       0                         0   \n",
              "20638                       0                         0   \n",
              "20639                       0                         0   \n",
              "\n",
              "       ocean_proximity_NEAR OCEAN  age_cat  bedroom_share  population_per_room  \n",
              "0                               0        4      14.659091             0.365909  \n",
              "1                               0        3      15.579659             0.338217  \n",
              "2                               0        4      12.951602             0.338105  \n",
              "3                               0        4      18.445840             0.437991  \n",
              "4                               0        4      17.209588             0.347265  \n",
              "...                           ...      ...            ...                  ...  \n",
              "20635                           0        3      22.462462             0.507508  \n",
              "20636                           0        3      21.520803             0.510760  \n",
              "20637                           0        3      21.517303             0.516859  \n",
              "20638                           0        3      21.989247             0.398387  \n",
              "20639                           0        3      22.118492             0.498025  \n",
              "\n",
              "[20640 rows x 17 columns]"
            ]
          },
          "execution_count": 446,
          "metadata": {},
          "output_type": "execute_result"
        }
      ],
      "source": [
        "X = pd.DataFrame(df, columns=feature_names)\n",
        "\n",
        "X"
      ]
    },
    {
      "cell_type": "code",
      "execution_count": null,
      "id": "f9e44e8f",
      "metadata": {
        "id": "f9e44e8f",
        "outputId": "1bde7619-1ac2-4e99-e178-fc23700ed5b4"
      },
      "outputs": [
        {
          "name": "stdout",
          "output_type": "stream",
          "text": [
            "<class 'pandas.core.frame.DataFrame'>\n",
            "RangeIndex: 20640 entries, 0 to 20639\n",
            "Data columns (total 17 columns):\n",
            " #   Column                      Non-Null Count  Dtype  \n",
            "---  ------                      --------------  -----  \n",
            " 0   longitude                   20640 non-null  float64\n",
            " 1   latitude                    20640 non-null  float64\n",
            " 2   housing_median_age          20640 non-null  float64\n",
            " 3   total_rooms                 20640 non-null  float64\n",
            " 4   total_bedrooms              20640 non-null  float64\n",
            " 5   population                  20640 non-null  float64\n",
            " 6   households                  20640 non-null  float64\n",
            " 7   median_income               20640 non-null  float64\n",
            " 8   median_house_value          20640 non-null  float64\n",
            " 9   ocean_proximity_<1H OCEAN   20640 non-null  uint8  \n",
            " 10  ocean_proximity_INLAND      20640 non-null  uint8  \n",
            " 11  ocean_proximity_ISLAND      20640 non-null  uint8  \n",
            " 12  ocean_proximity_NEAR BAY    20640 non-null  uint8  \n",
            " 13  ocean_proximity_NEAR OCEAN  20640 non-null  uint8  \n",
            " 14  age_cat                     20640 non-null  int64  \n",
            " 15  bedroom_share               20640 non-null  float64\n",
            " 16  population_per_room         20640 non-null  float64\n",
            "dtypes: float64(11), int64(1), uint8(5)\n",
            "memory usage: 2.0 MB\n"
          ]
        }
      ],
      "source": [
        "X.info()"
      ]
    },
    {
      "cell_type": "code",
      "execution_count": null,
      "id": "2d8c44f8",
      "metadata": {
        "id": "2d8c44f8",
        "outputId": "dc750954-7dc7-4ef4-f358-8430b2fe4942"
      },
      "outputs": [
        {
          "data": {
            "text/plain": [
              "0        452600.0\n",
              "1        358500.0\n",
              "2        352100.0\n",
              "3        341300.0\n",
              "4        342200.0\n",
              "           ...   \n",
              "20635     78100.0\n",
              "20636     77100.0\n",
              "20637     92300.0\n",
              "20638     84700.0\n",
              "20639     89400.0\n",
              "Name: median_house_value, Length: 20640, dtype: float64"
            ]
          },
          "execution_count": 448,
          "metadata": {},
          "output_type": "execute_result"
        }
      ],
      "source": [
        "#Выбор целевой переменной для предсказания стоимости дома\n",
        "target = df['median_house_value']\n",
        "target"
      ]
    },
    {
      "cell_type": "code",
      "execution_count": null,
      "id": "22f2d2b4",
      "metadata": {
        "id": "22f2d2b4"
      },
      "outputs": [],
      "source": [
        "#index = df.index\n",
        "#index"
      ]
    },
    {
      "cell_type": "code",
      "execution_count": null,
      "id": "42d5dea0",
      "metadata": {
        "id": "42d5dea0",
        "outputId": "e014e053-b3d1-4b2f-defa-be3762c00812"
      },
      "outputs": [
        {
          "data": {
            "text/html": [
              "<div>\n",
              "<style scoped>\n",
              "    .dataframe tbody tr th:only-of-type {\n",
              "        vertical-align: middle;\n",
              "    }\n",
              "\n",
              "    .dataframe tbody tr th {\n",
              "        vertical-align: top;\n",
              "    }\n",
              "\n",
              "    .dataframe thead th {\n",
              "        text-align: right;\n",
              "    }\n",
              "</style>\n",
              "<table border=\"1\" class=\"dataframe\">\n",
              "  <thead>\n",
              "    <tr style=\"text-align: right;\">\n",
              "      <th></th>\n",
              "      <th>median_house_value</th>\n",
              "    </tr>\n",
              "  </thead>\n",
              "  <tbody>\n",
              "    <tr>\n",
              "      <th>0</th>\n",
              "      <td>452600.0</td>\n",
              "    </tr>\n",
              "    <tr>\n",
              "      <th>1</th>\n",
              "      <td>358500.0</td>\n",
              "    </tr>\n",
              "    <tr>\n",
              "      <th>2</th>\n",
              "      <td>352100.0</td>\n",
              "    </tr>\n",
              "    <tr>\n",
              "      <th>3</th>\n",
              "      <td>341300.0</td>\n",
              "    </tr>\n",
              "    <tr>\n",
              "      <th>4</th>\n",
              "      <td>342200.0</td>\n",
              "    </tr>\n",
              "    <tr>\n",
              "      <th>...</th>\n",
              "      <td>...</td>\n",
              "    </tr>\n",
              "    <tr>\n",
              "      <th>20635</th>\n",
              "      <td>78100.0</td>\n",
              "    </tr>\n",
              "    <tr>\n",
              "      <th>20636</th>\n",
              "      <td>77100.0</td>\n",
              "    </tr>\n",
              "    <tr>\n",
              "      <th>20637</th>\n",
              "      <td>92300.0</td>\n",
              "    </tr>\n",
              "    <tr>\n",
              "      <th>20638</th>\n",
              "      <td>84700.0</td>\n",
              "    </tr>\n",
              "    <tr>\n",
              "      <th>20639</th>\n",
              "      <td>89400.0</td>\n",
              "    </tr>\n",
              "  </tbody>\n",
              "</table>\n",
              "<p>20640 rows × 1 columns</p>\n",
              "</div>"
            ],
            "text/plain": [
              "       median_house_value\n",
              "0                452600.0\n",
              "1                358500.0\n",
              "2                352100.0\n",
              "3                341300.0\n",
              "4                342200.0\n",
              "...                   ...\n",
              "20635             78100.0\n",
              "20636             77100.0\n",
              "20637             92300.0\n",
              "20638             84700.0\n",
              "20639             89400.0\n",
              "\n",
              "[20640 rows x 1 columns]"
            ]
          },
          "execution_count": 450,
          "metadata": {},
          "output_type": "execute_result"
        }
      ],
      "source": [
        "y = pd.DataFrame(target, columns=['median_house_value'])\n",
        "y"
      ]
    },
    {
      "cell_type": "code",
      "execution_count": null,
      "id": "56414388",
      "metadata": {
        "id": "56414388",
        "outputId": "bd0f1ea4-41b7-4916-f46d-a7906235d61e"
      },
      "outputs": [
        {
          "name": "stdout",
          "output_type": "stream",
          "text": [
            "<class 'pandas.core.frame.DataFrame'>\n",
            "RangeIndex: 20640 entries, 0 to 20639\n",
            "Data columns (total 1 columns):\n",
            " #   Column              Non-Null Count  Dtype  \n",
            "---  ------              --------------  -----  \n",
            " 0   median_house_value  20640 non-null  float64\n",
            "dtypes: float64(1)\n",
            "memory usage: 161.4 KB\n"
          ]
        }
      ],
      "source": [
        "y.info()"
      ]
    },
    {
      "cell_type": "markdown",
      "id": "4a336458",
      "metadata": {
        "id": "4a336458"
      },
      "source": [
        "Когда необходимо применять масштабирование/нормализацию:\n",
        "\n",
        "Во всех методах понижения размерности\n",
        "В линейной регрессии\n",
        "В KNN\n",
        "Когда не обязательно использовать масштабирование/нормализацию:\n",
        "\n",
        "Дерево решений\n",
        "Случайный лес\n",
        "Градентный бустинг"
      ]
    },
    {
      "cell_type": "markdown",
      "id": "15d79a93",
      "metadata": {
        "id": "15d79a93"
      },
      "source": [
        "Разбиение выборки на тренировочную и тестовую.\n",
        "Первая нужна для того, чтобы обучить модель. Вторая - для проверки качества обученной модели: мы можем сравнить предсказанную на этих данных цену с реальной, поскольку она у нас тоже имеется.\n",
        "Разбиение данных на тренировочную и тестовую выборку можно выполнить с помощью функции train_test_split из модуля sklearn.model_selection.\n",
        "С помощью параметра test_size можно указать, какую часть данных мы хотим выделить под тест. размер тестовой выборки составлял 30% от всех данных, при этом аргумент random_state должен быть равен 42."
      ]
    },
    {
      "cell_type": "code",
      "execution_count": null,
      "id": "6e3ba63d",
      "metadata": {
        "id": "6e3ba63d"
      },
      "outputs": [],
      "source": [
        "from sklearn.model_selection import train_test_split"
      ]
    },
    {
      "cell_type": "code",
      "execution_count": null,
      "id": "94c67c61",
      "metadata": {
        "id": "94c67c61"
      },
      "outputs": [],
      "source": [
        "X_train, X_test, y_train, y_test = train_test_split(X, y, test_size=0.3, random_state=42)"
      ]
    },
    {
      "cell_type": "markdown",
      "id": "c567ae09",
      "metadata": {
        "id": "c567ae09"
      },
      "source": [
        "Попробуем  модель, созданную  с помощью RandomForestRegressor:"
      ]
    },
    {
      "cell_type": "markdown",
      "id": "9d58be54",
      "metadata": {
        "id": "9d58be54"
      },
      "source": [
        "Рассмотрим несколько параметров данной модели:\n",
        "n_estimators - число деревьев в ансамбле\n",
        "max_depth - максимальная глубина дерева."
      ]
    },
    {
      "cell_type": "code",
      "execution_count": null,
      "id": "bbf75a6a",
      "metadata": {
        "id": "bbf75a6a"
      },
      "outputs": [],
      "source": [
        "from sklearn.ensemble import RandomForestRegressor\n",
        "\n",
        "model = RandomForestRegressor(n_estimators=1000, max_depth=12, random_state=42)"
      ]
    },
    {
      "cell_type": "markdown",
      "id": "c1451327",
      "metadata": {
        "id": "c1451327"
      },
      "source": [
        "Обучите модель на тренировочных данных аналогично тому, как вы обучали модель LinearRegression, но при этом в метод fit вместо датафрейма y_train поставьте y_train.values[:, 0], чтобы получить из датафрейма одномерный массив Numpy, так как для класса RandomForestRegressor в данном методе для аргумента y предпочтительно применение массивов вместо датафрейма."
      ]
    },
    {
      "cell_type": "code",
      "execution_count": null,
      "id": "75419735",
      "metadata": {
        "id": "75419735",
        "outputId": "d51e9ba9-6173-4d4f-9c25-a3bd08ef1486"
      },
      "outputs": [
        {
          "data": {
            "text/plain": [
              "RandomForestRegressor(max_depth=12, n_estimators=1000, random_state=42)"
            ]
          },
          "execution_count": 455,
          "metadata": {},
          "output_type": "execute_result"
        }
      ],
      "source": [
        "model.fit(X_train, y_train.values[:, 0])"
      ]
    },
    {
      "cell_type": "code",
      "execution_count": null,
      "id": "566212aa",
      "metadata": {
        "id": "566212aa"
      },
      "outputs": [],
      "source": [
        "df.to_csv(TRAIN_DATASET_PATH, index=False, encoding='utf-8', sep=';')"
      ]
    },
    {
      "cell_type": "markdown",
      "id": "094d9792",
      "metadata": {
        "id": "094d9792"
      },
      "source": [
        "Надо предсказать и на обучающей модели.\n",
        "Создадим таблицу DataFrame чтобы сопоставить реальные значения с предсказанными.\n",
        "Поскольку массив y_pred является двумерным, переведём его в одномерный, используя метод .flatten."
      ]
    },
    {
      "cell_type": "code",
      "execution_count": null,
      "id": "827a800a",
      "metadata": {
        "id": "827a800a",
        "outputId": "7271775a-1c33-4108-8633-14692e554d4e"
      },
      "outputs": [
        {
          "data": {
            "text/html": [
              "<div>\n",
              "<style scoped>\n",
              "    .dataframe tbody tr th:only-of-type {\n",
              "        vertical-align: middle;\n",
              "    }\n",
              "\n",
              "    .dataframe tbody tr th {\n",
              "        vertical-align: top;\n",
              "    }\n",
              "\n",
              "    .dataframe thead th {\n",
              "        text-align: right;\n",
              "    }\n",
              "</style>\n",
              "<table border=\"1\" class=\"dataframe\">\n",
              "  <thead>\n",
              "    <tr style=\"text-align: right;\">\n",
              "      <th></th>\n",
              "      <th>y_test</th>\n",
              "      <th>y_pred_model</th>\n",
              "    </tr>\n",
              "  </thead>\n",
              "  <tbody>\n",
              "    <tr>\n",
              "      <th>20046</th>\n",
              "      <td>47700.000000</td>\n",
              "      <td>47712.701886</td>\n",
              "    </tr>\n",
              "    <tr>\n",
              "      <th>3024</th>\n",
              "      <td>45800.000000</td>\n",
              "      <td>45466.011411</td>\n",
              "    </tr>\n",
              "    <tr>\n",
              "      <th>15663</th>\n",
              "      <td>206855.816909</td>\n",
              "      <td>206855.827259</td>\n",
              "    </tr>\n",
              "    <tr>\n",
              "      <th>20484</th>\n",
              "      <td>218600.000000</td>\n",
              "      <td>218582.829253</td>\n",
              "    </tr>\n",
              "    <tr>\n",
              "      <th>9814</th>\n",
              "      <td>278000.000000</td>\n",
              "      <td>277989.659167</td>\n",
              "    </tr>\n",
              "  </tbody>\n",
              "</table>\n",
              "</div>"
            ],
            "text/plain": [
              "              y_test   y_pred_model\n",
              "20046   47700.000000   47712.701886\n",
              "3024    45800.000000   45466.011411\n",
              "15663  206855.816909  206855.827259\n",
              "20484  218600.000000  218582.829253\n",
              "9814   278000.000000  277989.659167"
            ]
          },
          "execution_count": 457,
          "metadata": {},
          "output_type": "execute_result"
        }
      ],
      "source": [
        "y_pred_model = model.predict(X_test)\n",
        "check_test_model = pd.DataFrame({\n",
        "    \"y_test\": y_test[\"median_house_value\"],\n",
        "    \"y_pred_model\": y_pred_model.flatten()})\n",
        "\n",
        "check_test_model.head()"
      ]
    },
    {
      "cell_type": "code",
      "execution_count": null,
      "id": "2fed3c1c",
      "metadata": {
        "id": "2fed3c1c"
      },
      "outputs": [],
      "source": [
        "#9) Внедрение модели\n",
        "df.to_csv(PREPARED_DATASET_PATH, index=False, encoding='utf-8', sep=';')"
      ]
    },
    {
      "cell_type": "markdown",
      "id": "fba83c9f",
      "metadata": {
        "id": "fba83c9f"
      },
      "source": [
        "вызвала атрибут feature_importances_. С помощью этого атрибута найдите сумму всех показателей важности, установила, какие два признака показывают наибольшую важность.\n"
      ]
    },
    {
      "cell_type": "code",
      "execution_count": null,
      "id": "d0829fd1",
      "metadata": {
        "id": "d0829fd1",
        "outputId": "c9253ab2-6045-4853-a684-673da1db52dd"
      },
      "outputs": [
        {
          "name": "stdout",
          "output_type": "stream",
          "text": [
            "[2.65054069e-07 4.59817056e-07 1.17092085e-07 9.51283415e-08\n",
            " 8.74142365e-08 9.75276191e-08 9.47942303e-08 1.07946490e-07\n",
            " 9.99998290e-01 1.56847301e-08 7.54039067e-09 5.15241402e-14\n",
            " 8.62552241e-09 1.77162509e-08 3.12080182e-08 1.48489469e-07\n",
            " 1.55940872e-07]\n"
          ]
        }
      ],
      "source": [
        "print(model.feature_importances_)"
      ]
    },
    {
      "cell_type": "code",
      "execution_count": null,
      "id": "2c45b4f4",
      "metadata": {
        "id": "2c45b4f4",
        "outputId": "cd89328d-e139-4d56-bd83-b1fd28c873df"
      },
      "outputs": [
        {
          "data": {
            "text/plain": [
              "1.0"
            ]
          },
          "execution_count": 460,
          "metadata": {},
          "output_type": "execute_result"
        }
      ],
      "source": [
        "model.feature_importances_.sum()"
      ]
    },
    {
      "cell_type": "code",
      "execution_count": null,
      "id": "5978aa9f",
      "metadata": {
        "id": "5978aa9f",
        "outputId": "fddfe187-aeb6-4d86-aff3-5003da20caa4"
      },
      "outputs": [
        {
          "data": {
            "text/html": [
              "<div>\n",
              "<style scoped>\n",
              "    .dataframe tbody tr th:only-of-type {\n",
              "        vertical-align: middle;\n",
              "    }\n",
              "\n",
              "    .dataframe tbody tr th {\n",
              "        vertical-align: top;\n",
              "    }\n",
              "\n",
              "    .dataframe thead th {\n",
              "        text-align: right;\n",
              "    }\n",
              "</style>\n",
              "<table border=\"1\" class=\"dataframe\">\n",
              "  <thead>\n",
              "    <tr style=\"text-align: right;\">\n",
              "      <th></th>\n",
              "      <th>feature_importance</th>\n",
              "      <th>name</th>\n",
              "    </tr>\n",
              "  </thead>\n",
              "  <tbody>\n",
              "    <tr>\n",
              "      <th>0</th>\n",
              "      <td>2.650541e-07</td>\n",
              "      <td>longitude</td>\n",
              "    </tr>\n",
              "    <tr>\n",
              "      <th>1</th>\n",
              "      <td>4.598171e-07</td>\n",
              "      <td>latitude</td>\n",
              "    </tr>\n",
              "    <tr>\n",
              "      <th>2</th>\n",
              "      <td>1.170921e-07</td>\n",
              "      <td>housing_median_age</td>\n",
              "    </tr>\n",
              "    <tr>\n",
              "      <th>3</th>\n",
              "      <td>9.512834e-08</td>\n",
              "      <td>total_rooms</td>\n",
              "    </tr>\n",
              "    <tr>\n",
              "      <th>4</th>\n",
              "      <td>8.741424e-08</td>\n",
              "      <td>total_bedrooms</td>\n",
              "    </tr>\n",
              "    <tr>\n",
              "      <th>5</th>\n",
              "      <td>9.752762e-08</td>\n",
              "      <td>population</td>\n",
              "    </tr>\n",
              "    <tr>\n",
              "      <th>6</th>\n",
              "      <td>9.479423e-08</td>\n",
              "      <td>households</td>\n",
              "    </tr>\n",
              "    <tr>\n",
              "      <th>7</th>\n",
              "      <td>1.079465e-07</td>\n",
              "      <td>median_income</td>\n",
              "    </tr>\n",
              "    <tr>\n",
              "      <th>8</th>\n",
              "      <td>9.999983e-01</td>\n",
              "      <td>median_house_value</td>\n",
              "    </tr>\n",
              "    <tr>\n",
              "      <th>9</th>\n",
              "      <td>1.568473e-08</td>\n",
              "      <td>ocean_proximity_&lt;1H OCEAN</td>\n",
              "    </tr>\n",
              "    <tr>\n",
              "      <th>10</th>\n",
              "      <td>7.540391e-09</td>\n",
              "      <td>ocean_proximity_INLAND</td>\n",
              "    </tr>\n",
              "    <tr>\n",
              "      <th>11</th>\n",
              "      <td>5.152414e-14</td>\n",
              "      <td>ocean_proximity_ISLAND</td>\n",
              "    </tr>\n",
              "    <tr>\n",
              "      <th>12</th>\n",
              "      <td>8.625522e-09</td>\n",
              "      <td>ocean_proximity_NEAR BAY</td>\n",
              "    </tr>\n",
              "    <tr>\n",
              "      <th>13</th>\n",
              "      <td>1.771625e-08</td>\n",
              "      <td>ocean_proximity_NEAR OCEAN</td>\n",
              "    </tr>\n",
              "    <tr>\n",
              "      <th>14</th>\n",
              "      <td>3.120802e-08</td>\n",
              "      <td>age_cat</td>\n",
              "    </tr>\n",
              "    <tr>\n",
              "      <th>15</th>\n",
              "      <td>1.484895e-07</td>\n",
              "      <td>bedroom_share</td>\n",
              "    </tr>\n",
              "    <tr>\n",
              "      <th>16</th>\n",
              "      <td>1.559409e-07</td>\n",
              "      <td>population_per_room</td>\n",
              "    </tr>\n",
              "  </tbody>\n",
              "</table>\n",
              "</div>"
            ],
            "text/plain": [
              "    feature_importance                        name\n",
              "0         2.650541e-07                   longitude\n",
              "1         4.598171e-07                    latitude\n",
              "2         1.170921e-07          housing_median_age\n",
              "3         9.512834e-08                 total_rooms\n",
              "4         8.741424e-08              total_bedrooms\n",
              "5         9.752762e-08                  population\n",
              "6         9.479423e-08                  households\n",
              "7         1.079465e-07               median_income\n",
              "8         9.999983e-01          median_house_value\n",
              "9         1.568473e-08   ocean_proximity_<1H OCEAN\n",
              "10        7.540391e-09      ocean_proximity_INLAND\n",
              "11        5.152414e-14      ocean_proximity_ISLAND\n",
              "12        8.625522e-09    ocean_proximity_NEAR BAY\n",
              "13        1.771625e-08  ocean_proximity_NEAR OCEAN\n",
              "14        3.120802e-08                     age_cat\n",
              "15        1.484895e-07               bedroom_share\n",
              "16        1.559409e-07         population_per_room"
            ]
          },
          "execution_count": 461,
          "metadata": {},
          "output_type": "execute_result"
        }
      ],
      "source": [
        "#установила, какие признаки показывают наибольшую важность.\n",
        "feature_importance = pd.DataFrame({'name':X.columns,\n",
        "                                   'feature_importance':model.feature_importances_},\n",
        "                                  columns=['feature_importance', 'name'])\n",
        "feature_importance"
      ]
    },
    {
      "cell_type": "markdown",
      "id": "471a8fbe",
      "metadata": {
        "id": "471a8fbe"
      },
      "source": [
        "Наиболее важными признаками оказались total_rooms, population, households, median_house_value."
      ]
    },
    {
      "cell_type": "markdown",
      "id": "4e2f4665",
      "metadata": {
        "id": "4e2f4665"
      },
      "source": [
        "8) Оценка качества.\n",
        "R2 (коэффициент детерминации) функция оценки регрессии. Наилучшая возможная оценка — 1,0."
      ]
    },
    {
      "cell_type": "code",
      "execution_count": null,
      "id": "05dc640e",
      "metadata": {
        "id": "05dc640e",
        "outputId": "608c78b9-c96f-4c59-e696-bc4e0d77b883"
      },
      "outputs": [
        {
          "data": {
            "text/plain": [
              "0.9999990313513932"
            ]
          },
          "execution_count": 462,
          "metadata": {},
          "output_type": "execute_result"
        }
      ],
      "source": [
        "from sklearn.metrics import r2_score\n",
        "r2_score(y_test, y_pred_model)"
      ]
    },
    {
      "cell_type": "markdown",
      "id": "b3e30b8e",
      "metadata": {
        "id": "b3e30b8e"
      },
      "source": [
        "Для итогового проекта использую модель - RandomForestRegressor."
      ]
    },
    {
      "cell_type": "markdown",
      "id": "ea4cca16",
      "metadata": {
        "id": "ea4cca16"
      },
      "source": [
        "Построение модели с помощью LinearRegression.\n",
        "\n",
        "Линейная регрессия - предназначен для предсказания непрерывной величины."
      ]
    },
    {
      "cell_type": "markdown",
      "id": "860fdd80",
      "metadata": {
        "id": "860fdd80"
      },
      "source": [
        "Стандартизация признаков xscaled=x−xmean/σx\n",
        "Важно отметить, что стандартизация важна не только для отбора признаков. Стандартизация является важным этапом предобработки данных, без которого многие алгоритмы будут работать некорректно."
      ]
    },
    {
      "cell_type": "code",
      "execution_count": null,
      "id": "cfd6b83a",
      "metadata": {
        "id": "cfd6b83a",
        "outputId": "02e9a2a8-4989-4965-8613-b836bad9e0c2"
      },
      "outputs": [
        {
          "data": {
            "text/plain": [
              "'\\nfrom sklearn.preprocessing import StandardScaler\\n\\nscaler = StandardScaler()\\nX_train_scaled = scaler.fit_transform(X_train)\\nX_train_scaled = pd.DataFrame(X_train_scaled, columns=feature_names)\\n\\nX_test_scaled = scaler.fit_transform(X_test)\\nX_test_scaled = pd.DataFrame(X_test_scaled, columns=feature_names)\\n'"
            ]
          },
          "execution_count": 463,
          "metadata": {},
          "output_type": "execute_result"
        }
      ],
      "source": [
        "'''\n",
        "from sklearn.preprocessing import StandardScaler\n",
        "\n",
        "scaler = StandardScaler()\n",
        "X_train_scaled = scaler.fit_transform(X_train)\n",
        "X_train_scaled = pd.DataFrame(X_train_scaled, columns=feature_names)\n",
        "\n",
        "X_test_scaled = scaler.fit_transform(X_test)\n",
        "X_test_scaled = pd.DataFrame(X_test_scaled, columns=feature_names)\n",
        "'''"
      ]
    },
    {
      "cell_type": "markdown",
      "id": "d569e37a",
      "metadata": {
        "id": "d569e37a"
      },
      "source": [
        "Построение модели\n",
        "Линейная регрессия"
      ]
    },
    {
      "cell_type": "markdown",
      "id": "fe54b357",
      "metadata": {
        "id": "fe54b357"
      },
      "source": [
        "Создайте модель линейной регрессии под названием lr с помощью класса LinearRegression из модуля sklearn.linear_model. Обучите модель на тренировочных данных (используйте все признаки) и сделайте предсказание на тестовых."
      ]
    },
    {
      "cell_type": "code",
      "execution_count": null,
      "id": "71e39969",
      "metadata": {
        "id": "71e39969",
        "outputId": "2c5738d6-5fad-483c-d2ce-6c2d42836888"
      },
      "outputs": [
        {
          "data": {
            "text/plain": [
              "'\\nfrom sklearn.linear_model import LinearRegression\\n\\nlr = LinearRegression()\\n'"
            ]
          },
          "execution_count": 464,
          "metadata": {},
          "output_type": "execute_result"
        }
      ],
      "source": [
        "'''\n",
        "from sklearn.linear_model import LinearRegression\n",
        "\n",
        "lr = LinearRegression()\n",
        "'''"
      ]
    },
    {
      "cell_type": "markdown",
      "id": "35f4002b",
      "metadata": {
        "id": "35f4002b"
      },
      "source": [
        "Обучение модели на тренировочных стандартизированных данных:"
      ]
    },
    {
      "cell_type": "code",
      "execution_count": null,
      "id": "c615520d",
      "metadata": {
        "id": "c615520d",
        "outputId": "3cd7c707-3791-47f6-e270-97576b06e427"
      },
      "outputs": [
        {
          "data": {
            "text/plain": [
              "'\\nlr.fit(X_train_scaled, y_train)\\n\\nplt.barh(feature_names, lr.coef_.flatten())\\n\\nplt.xlabel(\"Вес признака\")\\nplt.ylabel(\"Признак\")\\n\\nplt.show()\\n'"
            ]
          },
          "execution_count": 465,
          "metadata": {},
          "output_type": "execute_result"
        }
      ],
      "source": [
        "'''\n",
        "lr.fit(X_train_scaled, y_train)\n",
        "\n",
        "plt.barh(feature_names, lr.coef_.flatten())\n",
        "\n",
        "plt.xlabel(\"Вес признака\")\n",
        "plt.ylabel(\"Признак\")\n",
        "\n",
        "plt.show()\n",
        "'''"
      ]
    },
    {
      "cell_type": "code",
      "execution_count": null,
      "id": "33c95748",
      "metadata": {
        "id": "33c95748",
        "outputId": "065b7c8e-e1c8-4928-c819-b17c3dbcff1e"
      },
      "outputs": [
        {
          "data": {
            "text/plain": [
              "'\\n#Посмотрим, какие коэффициенты подобрала наша модель на этапе обучения. Свободный коэффициент w0 хранится в атрибуте .intercept_:\\nlr.intercept_\\n'"
            ]
          },
          "execution_count": 466,
          "metadata": {},
          "output_type": "execute_result"
        }
      ],
      "source": [
        "'''\n",
        "#Посмотрим, какие коэффициенты подобрала наша модель на этапе обучения. Свободный коэффициент w0 хранится в атрибуте .intercept_:\n",
        "lr.intercept_\n",
        "'''"
      ]
    },
    {
      "cell_type": "code",
      "execution_count": null,
      "id": "72dccf2e",
      "metadata": {
        "id": "72dccf2e",
        "outputId": "bb3e3d7e-0389-4fbd-82ca-7ab38d2ead59"
      },
      "outputs": [
        {
          "data": {
            "text/plain": [
              "'\\n#Остальные коэффициенты w1 , … , wn хранятся в атрибуте .coef_:\\nlr.coef_\\n'"
            ]
          },
          "execution_count": 467,
          "metadata": {},
          "output_type": "execute_result"
        }
      ],
      "source": [
        "'''\n",
        "#Остальные коэффициенты w1 , … , wn хранятся в атрибуте .coef_:\n",
        "lr.coef_\n",
        "'''"
      ]
    },
    {
      "cell_type": "code",
      "execution_count": null,
      "id": "e6c91211",
      "metadata": {
        "id": "e6c91211",
        "outputId": "a21ba43a-ffc7-47d3-8e8b-0a86678d19df"
      },
      "outputs": [
        {
          "data": {
            "text/plain": [
              "'\\n#Давайте визуализируем то, какой вклад вносит каждый из этих коэффициентов:\\nfrom matplotlib import pyplot as plt\\n\\nplt.rcParams[\\'figure.figsize\\'] = 6, 4\\n\\n%matplotlib inline\\n\\nplt.barh(feature_names, lr.coef_.flatten())\\n\\nplt.xlabel(\"Вес признака\")\\nplt.ylabel(\"Признак\")\\n\\nplt.show()\\n'"
            ]
          },
          "execution_count": 468,
          "metadata": {},
          "output_type": "execute_result"
        }
      ],
      "source": [
        "'''\n",
        "#Давайте визуализируем то, какой вклад вносит каждый из этих коэффициентов:\n",
        "from matplotlib import pyplot as plt\n",
        "\n",
        "plt.rcParams['figure.figsize'] = 6, 4\n",
        "\n",
        "%matplotlib inline\n",
        "\n",
        "plt.barh(feature_names, lr.coef_.flatten())\n",
        "\n",
        "plt.xlabel(\"Вес признака\")\n",
        "plt.ylabel(\"Признак\")\n",
        "\n",
        "plt.show()\n",
        "'''"
      ]
    },
    {
      "cell_type": "code",
      "execution_count": null,
      "id": "b48d5e0a",
      "metadata": {
        "id": "b48d5e0a",
        "outputId": "ea92bf47-c58e-413b-f948-2844f6f40e97"
      },
      "outputs": [
        {
          "data": {
            "text/plain": [
              "'\\nX_train_scaled.describe()\\n'"
            ]
          },
          "execution_count": 469,
          "metadata": {},
          "output_type": "execute_result"
        }
      ],
      "source": [
        "'''\n",
        "X_train_scaled.describe()\n",
        "'''"
      ]
    },
    {
      "cell_type": "markdown",
      "id": "fc36409b",
      "metadata": {
        "id": "fc36409b"
      },
      "source": [
        "стоит обратить внимание, что наиболее важный признак - это таргет переменная, не показатель"
      ]
    },
    {
      "cell_type": "code",
      "execution_count": null,
      "id": "829d19d9",
      "metadata": {
        "id": "829d19d9",
        "outputId": "b5303f06-fac5-4a7d-c09f-6c579c7479d5"
      },
      "outputs": [
        {
          "data": {
            "text/plain": [
              "'\\n#Попробуем обучить модель, используя лишь признаки, вес которых достаточно отличается от 0, \\n#и посмотрим, как это отразится на качестве модели:\\nimportant_features = [\\n    feature\\n    for feature, weight in zip(feature_names, lr.coef_.flatten())\\n    if np.abs(weight) > 0.5\\n]\\n\\nprint(important_features)\\n'"
            ]
          },
          "execution_count": 470,
          "metadata": {},
          "output_type": "execute_result"
        }
      ],
      "source": [
        "'''\n",
        "#Попробуем обучить модель, используя лишь признаки, вес которых достаточно отличается от 0,\n",
        "#и посмотрим, как это отразится на качестве модели:\n",
        "important_features = [\n",
        "    feature\n",
        "    for feature, weight in zip(feature_names, lr.coef_.flatten())\n",
        "    if np.abs(weight) > 0.5\n",
        "]\n",
        "\n",
        "print(important_features)\n",
        "'''"
      ]
    },
    {
      "cell_type": "markdown",
      "id": "c00a3984",
      "metadata": {
        "id": "c00a3984"
      },
      "source": [
        "Теперь, когда модель обучена, мы можем получить предсказанные значения на объектах X_test с помощью метода .predict:"
      ]
    },
    {
      "cell_type": "markdown",
      "id": "863412a8",
      "metadata": {
        "id": "863412a8"
      },
      "source": [
        "**Надо предсказать и на обучающей модели**"
      ]
    },
    {
      "cell_type": "code",
      "execution_count": null,
      "id": "86968a7b",
      "metadata": {
        "id": "86968a7b",
        "outputId": "b8238fd8-44b5-4b55-a185-0c5ec0a8c3b9"
      },
      "outputs": [
        {
          "data": {
            "text/plain": [
              "'\\n#обученная модель\\nlr.fit(\\n    X_train_scaled.loc[:, important_features],\\n    y_train\\n)\\n#обучающая модель\\ny_pred_lr = lr.predict(X_test_scaled.loc[:, important_features])\\ny_pred_lr.shape\\n'"
            ]
          },
          "execution_count": 471,
          "metadata": {},
          "output_type": "execute_result"
        }
      ],
      "source": [
        "'''\n",
        "#обученная модель\n",
        "lr.fit(\n",
        "    X_train_scaled.loc[:, important_features],\n",
        "    y_train\n",
        ")\n",
        "#обучающая модель\n",
        "y_pred_lr = lr.predict(X_test_scaled.loc[:, important_features])\n",
        "y_pred_lr.shape\n",
        "'''"
      ]
    },
    {
      "cell_type": "code",
      "execution_count": null,
      "id": "36754161",
      "metadata": {
        "id": "36754161",
        "outputId": "a4050dd6-36dd-49f3-ba2c-7f7e80ae22b6"
      },
      "outputs": [
        {
          "data": {
            "text/plain": [
              "\"\\n#9) Внедрение модели \\ndf.to_csv(TEST_DATASET_PATH, index=False, encoding='utf-8', sep=';')\\n\""
            ]
          },
          "execution_count": 472,
          "metadata": {},
          "output_type": "execute_result"
        }
      ],
      "source": [
        "'''\n",
        "#9) Внедрение модели\n",
        "df.to_csv(TRAIN_DATASET_PATH, index=False, encoding='utf-8', sep=';')\n",
        "'''"
      ]
    },
    {
      "cell_type": "markdown",
      "id": "72680da1",
      "metadata": {
        "id": "72680da1"
      },
      "source": [
        "Создадим таблицу DataFrame чтобы сопоставить реальные значения с предсказанными. Поскольку массив y_pred является двумерным, переведём его в одномерный, используя метод .flatten."
      ]
    },
    {
      "cell_type": "code",
      "execution_count": null,
      "id": "c7acd9ed",
      "metadata": {
        "id": "c7acd9ed",
        "outputId": "77566c98-012a-4a5f-ac8a-d5e3c497a6cf"
      },
      "outputs": [
        {
          "data": {
            "text/plain": [
              "\"\\ncheck_test_lr = pd.DataFrame({\\n    'y_test': y_test['median_house_value'],\\n    'y_pred_lr': y_pred_lr.flatten()})\\n\\ncheck_test_lr\\n\""
            ]
          },
          "execution_count": 473,
          "metadata": {},
          "output_type": "execute_result"
        }
      ],
      "source": [
        "'''\n",
        "check_test_lr = pd.DataFrame({\n",
        "    'y_test': y_test['median_house_value'],\n",
        "    'y_pred_lr': y_pred_lr.flatten()})\n",
        "\n",
        "check_test_lr\n",
        "'''"
      ]
    },
    {
      "cell_type": "markdown",
      "id": "e6b29589",
      "metadata": {
        "id": "e6b29589"
      },
      "source": [
        "8) Оценка качества."
      ]
    },
    {
      "cell_type": "markdown",
      "id": "3b2b431d",
      "metadata": {
        "id": "3b2b431d"
      },
      "source": [
        "Вычислите R2 полученных предказаний с помощью r2_score из модуля sklearn.metrics."
      ]
    },
    {
      "cell_type": "code",
      "execution_count": null,
      "id": "c3427e14",
      "metadata": {
        "id": "c3427e14",
        "outputId": "876b820d-75be-4217-d4c0-27495acee837"
      },
      "outputs": [
        {
          "data": {
            "text/plain": [
              "'\\nfrom sklearn.metrics import r2_score\\nr2_score(y_test, y_pred_lr)\\n'"
            ]
          },
          "execution_count": 474,
          "metadata": {},
          "output_type": "execute_result"
        }
      ],
      "source": [
        "'''\n",
        "from sklearn.metrics import r2_score\n",
        "r2_score(y_test, y_pred_lr)\n",
        "'''"
      ]
    },
    {
      "cell_type": "markdown",
      "id": "65846883",
      "metadata": {
        "id": "65846883"
      },
      "source": [
        "10) Мониторинг качества и улучшение модели"
      ]
    },
    {
      "cell_type": "markdown",
      "id": "badc6b44",
      "metadata": {
        "id": "badc6b44"
      },
      "source": [
        "Одним из симптомов переобучения линейных моделей являются очень большие по модулю веса. Бороться с этим можно с помощью регуляризации. В библиотеке sklearn доступны уже готовые реализации моделей линейной регрессии с L1- и L2-регуляризацией. Это, соответственно, модели Lasso и Ridge из модуля sklearn.linear_model.\n",
        "При этом, коэффициент регуляризации можно задавать с помощью параметра alpha при инициализации этих моделей."
      ]
    },
    {
      "cell_type": "code",
      "execution_count": null,
      "id": "deb66192",
      "metadata": {
        "id": "deb66192",
        "outputId": "c5ef3e88-cbd9-4605-97eb-32560de5446a"
      },
      "outputs": [
        {
          "data": {
            "text/plain": [
              "'\\nfrom sklearn.linear_model import Lasso, Ridge\\nmodel = Lasso(alpha=0.03)\\n'"
            ]
          },
          "execution_count": 475,
          "metadata": {},
          "output_type": "execute_result"
        }
      ],
      "source": [
        "'''\n",
        "from sklearn.linear_model import Lasso, Ridge\n",
        "model = Lasso(alpha=0.03)\n",
        "'''"
      ]
    },
    {
      "cell_type": "code",
      "execution_count": null,
      "id": "53d85764",
      "metadata": {
        "id": "53d85764",
        "outputId": "c30f333e-5af8-42e8-b3bb-5be659a39e4a"
      },
      "outputs": [
        {
          "data": {
            "text/plain": [
              "'\\nmodel.fit(X_train_scaled.loc[:, important_features], y_train)\\n#обучающая модель\\ny_pred_lr = model.predict(X_test_scaled.loc[:, important_features])\\n'"
            ]
          },
          "execution_count": 476,
          "metadata": {},
          "output_type": "execute_result"
        }
      ],
      "source": [
        "'''\n",
        "model.fit(X_train_scaled.loc[:, important_features], y_train)\n",
        "#обучающая модель\n",
        "y_pred_lr = model.predict(X_test_scaled.loc[:, important_features])\n",
        "'''"
      ]
    },
    {
      "cell_type": "code",
      "execution_count": null,
      "id": "a93cb0be",
      "metadata": {
        "id": "a93cb0be"
      },
      "outputs": [],
      "source": [
        "'''\n",
        "#9) Внедрение модели\n",
        "df.to_csv(PREPARED_DATASET_PATH, index=False, encoding='utf-8', sep=';')\n",
        "'''"
      ]
    },
    {
      "cell_type": "code",
      "execution_count": null,
      "id": "7fadcb4b",
      "metadata": {
        "id": "7fadcb4b",
        "outputId": "70baa9a9-1b49-4aca-fff0-e8e69066a511"
      },
      "outputs": [
        {
          "data": {
            "text/plain": [
              "'\\nfrom sklearn.metrics import r2_score\\nr2_score(y_test, y_pred_lr)\\n'"
            ]
          },
          "execution_count": 477,
          "metadata": {},
          "output_type": "execute_result"
        }
      ],
      "source": [
        "'''\n",
        "from sklearn.metrics import r2_score\n",
        "r2_score(y_test, y_pred_lr)\n",
        "'''"
      ]
    },
    {
      "cell_type": "markdown",
      "id": "c1f8b644",
      "metadata": {
        "id": "c1f8b644"
      },
      "source": [
        "Так как показатель R2 (коэффициент детерминации - наилучшая возможная оценка — 1,0) оказался у модели, созданной с  помощью RandomForestRegressor, то для итогового проекта берем данную модель."
      ]
    }
  ],
  "metadata": {
    "kernelspec": {
      "display_name": "Python 3 (ipykernel)",
      "language": "python",
      "name": "python3"
    },
    "language_info": {
      "codemirror_mode": {
        "name": "ipython",
        "version": 3
      },
      "file_extension": ".py",
      "mimetype": "text/x-python",
      "name": "python",
      "nbconvert_exporter": "python",
      "pygments_lexer": "ipython3",
      "version": "3.9.12"
    },
    "vscode": {
      "interpreter": {
        "hash": "11938c6bc6919ae2720b4d5011047913343b08a43b18698fd82dedb0d4417594"
      }
    },
    "colab": {
      "provenance": [],
      "include_colab_link": true
    }
  },
  "nbformat": 4,
  "nbformat_minor": 5
}